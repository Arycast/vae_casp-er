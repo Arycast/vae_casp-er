{
 "cells": [
  {
   "cell_type": "markdown",
   "metadata": {},
   "source": [
    "# Libraries Used"
   ]
  },
  {
   "cell_type": "code",
   "execution_count": 1,
   "metadata": {},
   "outputs": [],
   "source": [
    "import numpy as np\n",
    "import pandas as pd\n",
    "import matplotlib.pyplot as plt\n",
    "import matplotlib.colors as mcolors"
   ]
  },
  {
   "cell_type": "markdown",
   "metadata": {},
   "source": [
    "# VAE Class"
   ]
  },
  {
   "cell_type": "code",
   "execution_count": 73,
   "metadata": {},
   "outputs": [],
   "source": [
    "class VAE:\n",
    "    def __init__(self, input_dim, hidden_dims, latent_dim):\n",
    "        self.input_dim = input_dim\n",
    "        self.hidden_dims = hidden_dims\n",
    "        self.latent_dim = latent_dim\n",
    "\n",
    "        # Encoder weights and biases\n",
    "        self.encoder_weights = []\n",
    "        self.encoder_biases = []\n",
    "        prev_dim = input_dim\n",
    "        for h_dim in hidden_dims:\n",
    "            # self.encoder_weights.append(np.random.randn(prev_dim, h_dim) * 0.01)\n",
    "            self.encoder_weights.append(np.full(shape=(prev_dim,h_dim),fill_value=-0.5))\n",
    "            self.encoder_biases.append(np.zeros((1, h_dim)))\n",
    "            prev_dim = h_dim\n",
    "        \n",
    "        # Latent space parameters\n",
    "        # self.W_mu = np.random.randn(prev_dim, latent_dim) * 0.01\n",
    "        self.W_mu = np.full(shape=(prev_dim,latent_dim),fill_value=-0.5)\n",
    "        self.b_mu = np.zeros((1, latent_dim))\n",
    "        # self.W_logvar = np.random.randn(prev_dim, latent_dim) * 0.01\n",
    "        self.W_logvar = np.full(shape=(prev_dim,latent_dim),fill_value=-0.5)\n",
    "        self.b_logvar = np.zeros((1, latent_dim))\n",
    "\n",
    "        # Decoder weights and biases\n",
    "        self.decoder_weights = []\n",
    "        self.decoder_biases = []\n",
    "        hidden_dims_reverse = list(reversed(hidden_dims))\n",
    "        prev_dim = latent_dim\n",
    "        for h_dim in hidden_dims_reverse:\n",
    "            # self.decoder_weights.append(np.random.randn(prev_dim, h_dim) * 0.01)\n",
    "            self.decoder_weights.append(np.full(shape=(prev_dim,h_dim),fill_value=-0.5))\n",
    "            self.decoder_biases.append(np.zeros((1, h_dim)))\n",
    "            prev_dim = h_dim\n",
    "\n",
    "        # Final decoder layer\n",
    "        self.W_out = np.random.randn(prev_dim, input_dim) * 0.01\n",
    "        self.b_out = np.zeros((1, input_dim))\n",
    "\n",
    "    # Activation functions\n",
    "    def sigmoid(self,x):\n",
    "        return 1 / (1 + np.exp(-x))\n",
    "\n",
    "    def sigmoid_derivative(self,x):\n",
    "        s = self.sigmoid(x)\n",
    "        return s * (1 - s)\n",
    "\n",
    "    def relu(self,x):\n",
    "        return np.maximum(0, x)\n",
    "\n",
    "    def relu_derivative(self,x):\n",
    "        return (x > 0).astype(float)\n",
    "    \n",
    "    # Loss functions\n",
    "    def binary_cross_entropy(self,y_pred, y_true):\n",
    "        return -np.sum(y_true * np.log(y_pred ) + (1 - y_true) * np.log(1 - y_pred))\n",
    "\n",
    "    def binary_cross_entropy_derivative(self,y_pred, y_true):\n",
    "        return (y_pred - y_true) / (y_pred * (1 - y_pred))\n",
    "\n",
    "    def kl_divergence(self,mu, logvar):\n",
    "        return -0.5 * np.sum(1 + logvar - np.square(mu) - np.exp(logvar))\n",
    "\n",
    "    # Reparameterization trick\n",
    "    def reparameterize(self,mu, logvar):\n",
    "        std = np.exp(0.5 * logvar)\n",
    "        self.eps = np.random.randn(*mu.shape)\n",
    "        return mu + self.eps * std\n",
    "\n",
    "    def forward(self, x):\n",
    "        # Encoder forward pass\n",
    "        h = x\n",
    "        encoder_activations = []\n",
    "        for W, b in zip(self.encoder_weights, self.encoder_biases):\n",
    "            h = self.relu(np.dot(h, W) + b)\n",
    "            encoder_activations.append(h)\n",
    "        if not encoder_activations:\n",
    "            encoder_activations.append(h)\n",
    "        \n",
    "        # Latent space\n",
    "        mu = np.dot(h, self.W_mu) + self.b_mu\n",
    "        logvar = np.dot(h, self.W_logvar) + self.b_logvar\n",
    "        z = self.reparameterize(mu, logvar)\n",
    "        \n",
    "        # Decoder forward pass\n",
    "        h = z\n",
    "        decoder_activations = []\n",
    "        # print(self.decoder_weights, self.decoder_biases)\n",
    "        for W, b in zip(self.decoder_weights, self.decoder_biases):\n",
    "            h = self.relu(np.dot(h, W) + b)\n",
    "            decoder_activations.append(h)\n",
    "        if not decoder_activations:\n",
    "            decoder_activations.append(h)\n",
    "        x_recon = self.sigmoid(np.dot(h, self.W_out) + self.b_out)\n",
    "\n",
    "        return x_recon, mu, logvar, z, encoder_activations, decoder_activations\n",
    "    \n",
    "    def backward(self, x, x_recon, mu, logvar, z, encoder_activations, decoder_activations, learning_rate):\n",
    "        # Compute decoder gradients\n",
    "        d_x_recon = self.binary_cross_entropy_derivative(x_recon, x)\n",
    "        d_h = x_recon - x\n",
    "\n",
    "        # Update final decoder layer\n",
    "        self.W_out -= learning_rate * np.dot(decoder_activations[-1].T, d_h)\n",
    "        self.b_out -= learning_rate * np.sum(d_h, axis=1, keepdims=True)\n",
    "\n",
    "        d_h = d_h = np.dot(d_h, self.W_out.T) \n",
    "\n",
    "        # Update decoder hidden layers\n",
    "        for i in reversed(range(len(self.decoder_weights))):\n",
    "            self.decoder_weights[i] -= learning_rate * np.dot(decoder_activations[i - 1].T, d_h) if i > 0 else learning_rate * np.dot(z.T, d_h)\n",
    "            self.decoder_biases[i] -= learning_rate * np.sum(d_h, axis=1, keepdims=True)\n",
    "            d_h = np.dot(d_h, self.decoder_weights[i].T) * self.relu_derivative(decoder_activations[i-1]) if i>0 else np.dot(d_h, self.decoder_weights[i].T)\n",
    "\n",
    "        # Gradients for latent space\n",
    "        self.W_mu -= learning_rate * (np.dot(encoder_activations[-1].T, d_h) + np.dot(encoder_activations[-1].T, mu))\n",
    "        self.b_mu -= learning_rate * (np.sum(d_h, axis=1, keepdims=True) + mu)\n",
    "\n",
    "        self.W_logvar -= learning_rate * (0.5 * d_h * self.eps * np.exp(0.5 * logvar))\n",
    "        self.b_logvar -= learning_rate * (np.sum(0.5 * d_h * self.eps * np.exp(0.5 * logvar), axis=1, keepdims=True))\n",
    "\n",
    "        d_mu = d_h + mu\n",
    "        d_logvar = 0.5 * d_h * np.exp(0.5 * logvar)\n",
    "\n",
    "        # Update encoder layers\n",
    "        d_h = np.dot(d_mu, self.W_mu.T) + np.dot(d_logvar, self.W_logvar.T)\n",
    "        for i in reversed(range(len(self.encoder_weights))):\n",
    "            self.encoder_weights[i] -= learning_rate * np.dot(encoder_activations[i - 1].T, d_h) if i > 0 else learning_rate * np.dot(x.T, d_h)\n",
    "            self.encoder_biases[i] -= learning_rate * np.sum(d_h, axis=0, keepdims=True)\n",
    "            d_h = np.dot(d_h, self.encoder_weights[i].T) * self.relu_derivative(encoder_activations[i-1]) if i>0 else np.dot(d_h, self.encoder_weights[i].T)\n",
    "\n",
    "    def train(self, x, valid_data, epochs, learning_rate, doTest = True):\n",
    "        history_loss = []\n",
    "        preTrain_data = x.copy()\n",
    "\n",
    "        for epoch in range(epochs):\n",
    "            total_loss = 0\n",
    "            kl_loss = 0\n",
    "            recon_loss = 0\n",
    "            for sample in x:  # Iterate through each column\n",
    "                x = sample.reshape(1, -1)\n",
    "                x_recon, mu, logvar, z, encoder_activations, decoder_activations = self.forward(x)\n",
    "\n",
    "                # Compute losses\n",
    "                recon_loss_sample = self.binary_cross_entropy(x_recon, valid_data)\n",
    "                kl_loss_sample = self.kl_divergence(mu, logvar)\n",
    "                loss = recon_loss_sample + kl_loss_sample\n",
    "                # print(f'Recon Loss:{loss}')\n",
    "                # print(f'KL Loss: {kl_loss_sample}')\n",
    "\n",
    "                # Backward pass\n",
    "                self.backward(valid_data, x_recon, mu, logvar, z, encoder_activations, decoder_activations, learning_rate)\n",
    "\n",
    "                # Accumulate losses\n",
    "                total_loss += loss\n",
    "                kl_loss += kl_loss_sample\n",
    "                recon_loss += recon_loss_sample\n",
    "\n",
    "            # Loss history\n",
    "            history_loss.append(loss/x.shape[0])\n",
    "            \n",
    "            # Print epoch details\n",
    "            if (epoch + 1) % 10 == 0 or epoch == 0:\n",
    "                print(f\"Epoch {epoch + 1}/{epochs} - Total Loss: {total_loss:.4f}, Recon Loss: {recon_loss:.4f}, KL Loss: {kl_loss:.4f}\",end='\\r')\n",
    "\n",
    "        if doTest:\n",
    "            # Evaluate: Reconstruct the input data\n",
    "            reconstructed = []\n",
    "            for x in preTrain_data:\n",
    "                x = x.reshape(1, -1)\n",
    "                x_recon, _, _, _, _, _ = self.forward(x)\n",
    "                reconstructed.append(x_recon)\n",
    "            reconstructed = np.vstack(reconstructed)\n",
    "\n",
    "            print(\"\\nOriginal Data:\")\n",
    "            print(preTrain_data)\n",
    "\n",
    "            print(\"\\nReconstructed Data:\")\n",
    "            print(np.round(reconstructed))  # Rounded for binary output\n",
    "\n",
    "            plt.figure(figsize=(10,9))\n",
    "            plt.plot(history_loss,label=\"Loss History\")\n",
    "            plt.legend()\n",
    "            plt.xlabel(\"Epoch\")\n",
    "            plt.ylabel(\"Error\")\n",
    "            plt.title('Total History over Epochs')\n",
    "            plt.show()\n",
    "        \n",
    "    def get_train_param(self):\n",
    "        return self.encoder_weights,self.encoder_biases, self.W_mu,self.b_mu, self.W_logvar,self.b_logvar, self.decoder_weights,self.decoder_biases, self.W_out, self.b_out"
   ]
  },
  {
   "cell_type": "markdown",
   "metadata": {},
   "source": [
    "# Testing VAE on Random Data Between 0 and 1 with Size 7x9"
   ]
  },
  {
   "cell_type": "code",
   "execution_count": 75,
   "metadata": {},
   "outputs": [
    {
     "name": "stdout",
     "output_type": "stream",
     "text": [
      "Epoch 10000/10000 - Total Loss: 0.0010, Recon Loss: 0.0010, KL Loss: 0.0000\n",
      "Original Data:\n",
      "[[0 0 0 1 1 1 0 0 0]\n",
      " [1 1 1 1 1 1 0 0 0]\n",
      " [1 1 1 1 0 0 1 1 1]\n",
      " [0 0 0 1 0 1 1 1 0]\n",
      " [1 0 0 0 0 1 1 1 0]\n",
      " [0 1 0 1 0 0 1 1 0]\n",
      " [0 1 1 0 1 1 1 1 0]]\n",
      "\n",
      "Reconstructed Data:\n",
      "[[1. 1. 1. 1. 0. 1. 1. 1. 1.]\n",
      " [1. 1. 1. 1. 0. 1. 1. 1. 1.]\n",
      " [1. 1. 1. 1. 0. 1. 1. 1. 1.]\n",
      " [1. 1. 1. 1. 0. 1. 1. 1. 1.]\n",
      " [1. 1. 1. 1. 0. 1. 1. 1. 1.]\n",
      " [1. 1. 1. 1. 0. 1. 1. 1. 1.]\n",
      " [1. 1. 1. 1. 0. 1. 1. 1. 1.]]\n"
     ]
    },
    {
     "data": {
      "image/png": "[encoded data removed]",
      "text/plain": [
       "<Figure size 720x648 with 1 Axes>"
      ]
     },
     "metadata": {
      "needs_background": "light"
     },
     "output_type": "display_data"
    }
   ],
   "source": [
    "# Initialize the VAE with no hidden layers\n",
    "input_dim = 9  # Number of input features\n",
    "latent_dim = 1  # Number of latent dimensions\n",
    "hidden_dims = [7,5,3]  \n",
    "\n",
    "vae = VAE(input_dim=input_dim, hidden_dims=hidden_dims, latent_dim=latent_dim)\n",
    "\n",
    "# Create dataset\n",
    "testData = np.random.choice((0,1),7*9).reshape(7,9)\n",
    "\n",
    "data = testData  # Shape becomes (7, 9) where 7 is the number of data points\n",
    "valid_data = np.zeros((1,9))\n",
    "valid_data[0,:] = np.array([[1, 1, 1], [1, 0, 1], [1, 1, 1]]).reshape(1, 9).flatten()\n",
    "\n",
    "# Train the VAE\n",
    "epochs = 10000\n",
    "learning_rate = 0.01\n",
    "vae.train(data, valid_data, epochs, learning_rate)"
   ]
  },
  {
   "cell_type": "code",
   "execution_count": 4,
   "metadata": {},
   "outputs": [
    {
     "name": "stdout",
     "output_type": "stream",
     "text": [
      "Epoch 10000/10000 - Total Loss: 0.4179, Recon Loss: 0.0001, KL Loss: 0.4178\n",
      "Original Data:\n",
      "[[0 1 0 1 1 0 0 0 0]\n",
      " [0 0 1 0 0 0 0 1 1]\n",
      " [0 0 1 1 1 0 0 0 0]\n",
      " [1 1 1 1 1 1 1 1 0]\n",
      " [0 0 0 1 0 0 1 1 1]\n",
      " [0 0 1 0 1 1 0 0 0]\n",
      " [0 1 1 0 0 0 0 1 1]]\n",
      "\n",
      "Reconstructed Data:\n",
      "[[1. 1. 1. 1. 0. 1. 1. 1. 1.]\n",
      " [1. 1. 1. 1. 0. 1. 1. 1. 1.]\n",
      " [1. 1. 1. 1. 0. 1. 1. 1. 1.]\n",
      " [1. 1. 1. 1. 0. 1. 1. 1. 1.]\n",
      " [1. 1. 1. 1. 0. 1. 1. 1. 1.]\n",
      " [1. 1. 1. 1. 0. 1. 1. 1. 1.]\n",
      " [1. 1. 1. 1. 0. 1. 1. 1. 1.]]\n"
     ]
    },
    {
     "data": {
      "image/png": "[encoded data removed]",
      "text/plain": [
       "<Figure size 720x648 with 1 Axes>"
      ]
     },
     "metadata": {
      "needs_background": "light"
     },
     "output_type": "display_data"
    }
   ],
   "source": [
    "# Initialize the VAE with no hidden layers\n",
    "input_dim = 9  # Number of input features\n",
    "latent_dim = 2  # Number of latent dimensions\n",
    "hidden_dims = [6,3]  \n",
    "\n",
    "vae = VAE(input_dim=input_dim, hidden_dims=hidden_dims, latent_dim=latent_dim)\n",
    "\n",
    "# Create your dataset\n",
    "# testData = np.zeros((7,9))\n",
    "# testData[0,:] = np.array([[1, 1, 1], [1, 0, 1], [1, 1, 1]]).reshape(1,9).flatten()\n",
    "# testData[1,:] = np.array([[0, 1, 1], [1, 0, 1], [1, 1, 1]]).reshape(1,9).flatten()\n",
    "# testData[2,:] = np.array([[1, 0, 1], [1, 0, 1], [1, 1, 1]]).reshape(1,9).flatten()\n",
    "# testData[3,:] = np.array([[1, 1, 0], [1, 0, 1], [1, 1, 1]]).reshape(1,9).flatten()\n",
    "# testData[4,:] = np.array([[1, 1, 1], [0, 0, 1], [1, 1, 1]]).reshape(1,9).flatten()\n",
    "# testData[5,:] = np.array([[1, 1, 1], [1, 1, 1], [1, 1, 1]]).reshape(1,9).flatten()\n",
    "# testData[6,:] = np.array([[1, 1, 1], [1, 0, 0], [1, 1, 1]]).reshape(1,9).flatten()\n",
    "testData = np.random.choice((0,1),7*9).reshape(7,9)\n",
    "\n",
    "data = testData  # Shape becomes (7, 9) where 7 is the number of data points\n",
    "valid_data = np.zeros((1,9))\n",
    "valid_data[0,:] = np.array([[1, 1, 1], [1, 0, 1], [1, 1, 1]]).reshape(1, 9).flatten()\n",
    "\n",
    "# Train the VAE\n",
    "epochs = 10000\n",
    "learning_rate = 0.01\n",
    "history_loss = []\n",
    "\n",
    "for epoch in range(epochs):\n",
    "    total_loss = 0\n",
    "    kl_loss = 0\n",
    "    recon_loss = 0\n",
    "    for sample in testData:  # Iterate through each column\n",
    "        x = sample.reshape(1, -1)\n",
    "        x_recon, mu, logvar, z, encoder_activations, decoder_activations = vae.forward(x)\n",
    "\n",
    "        # Compute losses\n",
    "        recon_loss_sample = vae.binary_cross_entropy(x_recon, valid_data)\n",
    "        kl_loss_sample = vae.kl_divergence(mu, logvar)\n",
    "        loss = recon_loss_sample + kl_loss_sample\n",
    "        # print(f'Recon Loss:{loss}')\n",
    "        # print(f'KL Loss: {kl_loss_sample}')\n",
    "\n",
    "        # Backward pass\n",
    "        vae.backward(valid_data, x_recon, mu, logvar, z, encoder_activations, decoder_activations, learning_rate)\n",
    "\n",
    "        # Accumulate losses\n",
    "        total_loss += loss\n",
    "        kl_loss += kl_loss_sample\n",
    "        recon_loss += recon_loss_sample\n",
    "\n",
    "    # Loss history\n",
    "    history_loss.append(loss/testData.shape[0])\n",
    "    \n",
    "    # Print epoch details\n",
    "    if (epoch + 1) % 10 == 0 or epoch == 0:\n",
    "        print(f\"Epoch {epoch + 1}/{epochs} - Total Loss: {total_loss:.4f}, Recon Loss: {recon_loss:.4f}, KL Loss: {kl_loss:.4f}\",end='\\r')\n",
    "\n",
    "# print(history_loss)\n",
    "# Evaluate: Reconstruct the input data\n",
    "reconstructed = []\n",
    "for x in data:\n",
    "    x = x.reshape(1, -1)\n",
    "    x_recon, _, _, _, _, _ = vae.forward(x)\n",
    "    reconstructed.append(x_recon)\n",
    "reconstructed = np.vstack(reconstructed)\n",
    "\n",
    "print(\"\\nOriginal Data:\")\n",
    "print(data)\n",
    "\n",
    "print(\"\\nReconstructed Data:\")\n",
    "print(np.round(reconstructed))  # Rounded for binary output\n",
    "\n",
    "plt.figure(figsize=(10,9))\n",
    "plt.plot(history_loss,label=\"Loss History\")\n",
    "plt.legend()\n",
    "plt.xlabel(\"Epoch\")\n",
    "plt.ylabel(\"Error\")\n",
    "plt.title('Total History over Epochs')\n",
    "plt.show()"
   ]
  },
  {
   "cell_type": "markdown",
   "metadata": {},
   "source": [
    "# Wafer Map Data Learning"
   ]
  },
  {
   "cell_type": "markdown",
   "metadata": {},
   "source": [
    "### Reading Database of Wafer Map Data"
   ]
  },
  {
   "cell_type": "code",
   "execution_count": 5,
   "metadata": {},
   "outputs": [
    {
     "name": "stdout",
     "output_type": "stream",
     "text": [
      "<class 'pandas.core.frame.DataFrame'>\n",
      "RangeIndex: 811457 entries, 0 to 811456\n",
      "Data columns (total 6 columns):\n",
      " #   Column          Non-Null Count   Dtype  \n",
      "---  ------          --------------   -----  \n",
      " 0   dieSize         811457 non-null  float64\n",
      " 1   failureType     811457 non-null  object \n",
      " 2   lotName         811457 non-null  object \n",
      " 3   trainTestLabel  811457 non-null  object \n",
      " 4   waferIndex      811457 non-null  float64\n",
      " 5   waferMap        811457 non-null  object \n",
      "dtypes: float64(2), object(4)\n",
      "memory usage: 37.1+ MB\n"
     ]
    }
   ],
   "source": [
    "import cv2\n",
    "df=pd.read_pickle(\"WM811K.pkl\")\n",
    "df.info()"
   ]
  },
  {
   "cell_type": "code",
   "execution_count": 6,
   "metadata": {},
   "outputs": [],
   "source": [
    "# Function to scale up image\n",
    "def upscale_images(np_arr, max_shape):\n",
    "    return cv2.resize(np_arr, (max_shape[1],max_shape[0]), interpolation=cv2.INTER_CUBIC)\n",
    "\n",
    "def print_image(np_arr):\n",
    "    if np.max(np_arr) == 2: cmap = mcolors.ListedColormap(['black', 'grey', 'white'])\n",
    "    else: cmap = mcolors.ListedColormap(['black', 'grey'])\n",
    "    # Create an image of the array\n",
    "    plt.imshow(np_arr, cmap=cmap, interpolation='nearest')\n",
    "\n",
    "    # Optionally, remove axis labels\n",
    "    plt.axis('off')\n",
    "\n",
    "    # Show the plot\n",
    "    plt.show()"
   ]
  },
  {
   "cell_type": "markdown",
   "metadata": {},
   "source": [
    "### Take Training Data"
   ]
  },
  {
   "cell_type": "code",
   "execution_count": 70,
   "metadata": {},
   "outputs": [],
   "source": [
    "bad_wafer_df = df[(df['trainTestLabel'] == 'Training') & ((df['failureType'] != 'none'))]\n",
    "good_wafer_df = df[(df['trainTestLabel'] == 'Training') & (df['failureType'] == 'none')]\n",
    "\n",
    "# Function to filter very bad data\n",
    "def filter_condition(np_arr):\n",
    "    count_0 = np.sum(np_arr == 0)  # Count occurrences of 1\n",
    "    count_1 = np.sum(np_arr == 1)  # Count occurrences of 1\n",
    "    count_2 = np.sum(np_arr == 2)  # Count occurrences of 2\n",
    "    return (count_2 < 0.05 * count_1) & (count_0 < count_1)  # Check if count of 2 is less than 20% of count of 1\n",
    "\n",
    "bad_wafer_df = bad_wafer_df[bad_wafer_df['waferMap'].apply(filter_condition)]\n",
    "good_wafer_df = good_wafer_df[good_wafer_df['waferMap'].apply(filter_condition)]\n",
    "\n",
    "# Scale all image to asme dimension then flatten it to single row\n",
    "target_shape = (128,128)\n",
    "data_bad_wafer = np.stack(bad_wafer_df['waferMap'].apply(lambda x: upscale_images(x, target_shape).flatten()).to_numpy())\n",
    "data_bad_wafer[data_bad_wafer>2] = 2\n",
    "\n",
    "data_good_wafer = np.stack(good_wafer_df['waferMap'].apply(lambda x: upscale_images(x, target_shape).flatten()).to_numpy())\n",
    "data_good_wafer[data_good_wafer>2] = 2\n",
    "\n",
    "# Label data for bad wafer\n",
    "maxSize_bad_wafer = bad_wafer_df[(bad_wafer_df['waferMap'].apply(lambda x: x.shape == (82, 83)))]\n",
    "mtrx_label_bad_wafer = np.stack(maxSize_bad_wafer['waferMap'].apply(lambda x: upscale_images(x, target_shape).flatten()).to_numpy())\n",
    "mtrx_label_bad_wafer[(mtrx_label_bad_wafer == 1) | (mtrx_label_bad_wafer > 2)] = 2\n",
    "label_bad_wafer = mtrx_label_bad_wafer[0]\n",
    "\n",
    "# Label data for good wafer\n",
    "maxSize_good_wafer = good_wafer_df[(good_wafer_df['waferMap'].apply(lambda x: x.shape == (82, 83)))]\n",
    "mtrx_label_good_wafer = np.stack(maxSize_good_wafer['waferMap'].apply(lambda x: upscale_images(x, target_shape).flatten()).to_numpy())\n",
    "mtrx_label_good_wafer[mtrx_label_good_wafer >1] = 1\n",
    "label_good_wafer = np.zeros((1,mtrx_label_bad_wafer.shape[1]))\n",
    "label_good_wafer[0,:] = mtrx_label_good_wafer[0]\n"
   ]
  },
  {
   "cell_type": "code",
   "execution_count": 71,
   "metadata": {},
   "outputs": [
    {
     "name": "stdout",
     "output_type": "stream",
     "text": [
      "(16384,)\n",
      "[[0. 0. 0. ... 0. 0. 0.]]\n"
     ]
    }
   ],
   "source": [
    "print(mtrx_label_good_wafer[0].shape)\n",
    "print(label_good_wafer)"
   ]
  },
  {
   "cell_type": "code",
   "execution_count": 41,
   "metadata": {},
   "outputs": [
    {
     "name": "stdout",
     "output_type": "stream",
     "text": [
      "[[0 0 0 ... 0 0 0]\n",
      " [0 0 0 ... 0 0 0]\n",
      " [0 0 0 ... 0 0 0]\n",
      " ...\n",
      " [0 0 0 ... 0 0 0]\n",
      " [0 0 0 ... 0 0 0]\n",
      " [0 0 0 ... 0 0 0]]\n",
      "(1190, 16384)\n",
      "[0 0 0 ... 0 0 0]\n",
      "(16384,)\n"
     ]
    }
   ],
   "source": [
    "print(data_bad_wafer)\n",
    "print(data_bad_wafer.shape)\n",
    "print(data_good_wafer[0])\n",
    "print(label_good_wafer.shape)"
   ]
  },
  {
   "cell_type": "markdown",
   "metadata": {},
   "source": [
    "## Train Good Wafer Data"
   ]
  },
  {
   "cell_type": "code",
   "execution_count": null,
   "metadata": {},
   "outputs": [
    {
     "name": "stderr",
     "output_type": "stream",
     "text": [
      "C:\\Users\\fauza\\AppData\\Local\\Temp/ipykernel_22680/907066470.py:56: RuntimeWarning: divide by zero encountered in log\n",
      "  return -np.sum(y_true * np.log(y_pred ) + (1 - y_true) * np.log(1 - y_pred))\n",
      "C:\\Users\\fauza\\AppData\\Local\\Temp/ipykernel_22680/907066470.py:56: RuntimeWarning: invalid value encountered in multiply\n",
      "  return -np.sum(y_true * np.log(y_pred ) + (1 - y_true) * np.log(1 - y_pred))\n",
      "C:\\Users\\fauza\\AppData\\Local\\Temp/ipykernel_22680/907066470.py:59: RuntimeWarning: divide by zero encountered in divide\n",
      "  return (y_pred - y_true) / (y_pred * (1 - y_pred))\n",
      "C:\\Users\\fauza\\AppData\\Local\\Temp/ipykernel_22680/907066470.py:59: RuntimeWarning: invalid value encountered in divide\n",
      "  return (y_pred - y_true) / (y_pred * (1 - y_pred))\n",
      "C:\\Users\\fauza\\AppData\\Local\\Temp/ipykernel_22680/907066470.py:42: RuntimeWarning: overflow encountered in exp\n",
      "  return 1 / (1 + np.exp(-x))\n"
     ]
    }
   ],
   "source": [
    "# Initialize the VAE with no hidden layers\n",
    "input_dim = data_good_wafer.shape[1]  # Number of input features\n",
    "latent_dim = 1  # Number of latent dimensions\n",
    "hidden_dims = [2**12,2**8,2**4]  \n",
    "\n",
    "vae = VAE(input_dim=input_dim, hidden_dims=hidden_dims, latent_dim=latent_dim)\n",
    "\n",
    "# Train the VAE\n",
    "epochs = 10000\n",
    "learning_rate = 0.01\n",
    "vae.train(data_good_wafer, label_good_wafer, epochs, learning_rate)"
   ]
  },
  {
   "cell_type": "markdown",
   "metadata": {},
   "source": [
    "### Checking Maximum and Minimum Shape of Good and Bad Wafer Data"
   ]
  },
  {
   "cell_type": "code",
   "execution_count": 8,
   "metadata": {},
   "outputs": [
    {
     "name": "stdout",
     "output_type": "stream",
     "text": [
      "Unique Shapes (from smallest to largest):\n",
      "Shape: (25, 27), Area: 675, Count: 6\n",
      "Shape: (30, 30), Area: 900, Count: 1\n",
      "Shape: (32, 29), Area: 928, Count: 27\n",
      "Shape: (32, 32), Area: 1024, Count: 2\n",
      "Shape: (33, 33), Area: 1089, Count: 22\n",
      "Shape: (34, 34), Area: 1156, Count: 9\n",
      "Shape: (39, 31), Area: 1209, Count: 146\n",
      "Shape: (41, 30), Area: 1230, Count: 1\n",
      "Shape: (29, 45), Area: 1305, Count: 1\n",
      "Shape: (38, 38), Area: 1444, Count: 10\n",
      "Shape: (38, 40), Area: 1520, Count: 1\n",
      "Shape: (51, 30), Area: 1530, Count: 3\n",
      "Shape: (38, 41), Area: 1558, Count: 1\n",
      "Shape: (42, 39), Area: 1638, Count: 1\n",
      "Shape: (41, 41), Area: 1681, Count: 7\n",
      "Shape: (38, 45), Area: 1710, Count: 1\n",
      "Shape: (39, 45), Area: 1755, Count: 1\n",
      "Shape: (44, 40), Area: 1760, Count: 1\n",
      "Shape: (44, 43), Area: 1892, Count: 1\n",
      "Shape: (49, 39), Area: 1911, Count: 3\n",
      "Shape: (50, 39), Area: 1950, Count: 6\n",
      "Shape: (44, 45), Area: 1980, Count: 2\n",
      "Shape: (45, 46), Area: 2070, Count: 4\n",
      "Shape: (50, 43), Area: 2150, Count: 40\n",
      "Shape: (50, 44), Area: 2200, Count: 1\n",
      "Shape: (47, 47), Area: 2209, Count: 2\n",
      "Shape: (51, 44), Area: 2244, Count: 1\n",
      "Shape: (42, 56), Area: 2352, Count: 1\n",
      "Shape: (38, 62), Area: 2356, Count: 1\n",
      "Shape: (60, 40), Area: 2400, Count: 18\n",
      "Shape: (49, 53), Area: 2597, Count: 4\n",
      "Shape: (52, 51), Area: 2652, Count: 2\n",
      "Shape: (51, 53), Area: 2703, Count: 1\n",
      "Shape: (52, 52), Area: 2704, Count: 2\n",
      "Shape: (52, 55), Area: 2860, Count: 1\n",
      "Shape: (51, 57), Area: 2907, Count: 2\n",
      "Shape: (56, 52), Area: 2912, Count: 8\n",
      "Shape: (55, 53), Area: 2915, Count: 2\n",
      "Shape: (55, 55), Area: 3025, Count: 2\n",
      "Shape: (52, 59), Area: 3068, Count: 120\n",
      "Shape: (58, 53), Area: 3074, Count: 5\n",
      "Shape: (72, 43), Area: 3096, Count: 2\n",
      "Shape: (72, 44), Area: 3168, Count: 40\n",
      "Shape: (59, 54), Area: 3186, Count: 6\n",
      "Shape: (59, 55), Area: 3245, Count: 1\n",
      "Shape: (57, 57), Area: 3249, Count: 2\n",
      "Shape: (60, 55), Area: 3300, Count: 4\n",
      "Shape: (57, 58), Area: 3306, Count: 1\n",
      "Shape: (50, 68), Area: 3400, Count: 1\n",
      "Shape: (58, 59), Area: 3422, Count: 2\n",
      "Shape: (59, 60), Area: 3540, Count: 1\n",
      "Shape: (75, 48), Area: 3600, Count: 2\n",
      "Shape: (55, 66), Area: 3630, Count: 1\n",
      "Shape: (57, 64), Area: 3648, Count: 4\n",
      "Shape: (63, 59), Area: 3717, Count: 1\n",
      "Shape: (55, 68), Area: 3740, Count: 1\n",
      "Shape: (54, 71), Area: 3834, Count: 10\n",
      "Shape: (64, 60), Area: 3840, Count: 1\n",
      "Shape: (65, 60), Area: 3900, Count: 1\n",
      "Shape: (64, 61), Area: 3904, Count: 1\n",
      "Shape: (63, 62), Area: 3906, Count: 1\n",
      "Shape: (63, 64), Area: 4032, Count: 6\n",
      "Shape: (64, 63), Area: 4032, Count: 2\n",
      "Shape: (67, 65), Area: 4355, Count: 1\n",
      "Shape: (66, 66), Area: 4356, Count: 1\n",
      "Shape: (64, 71), Area: 4544, Count: 9\n",
      "Shape: (75, 61), Area: 4575, Count: 4\n",
      "Shape: (79, 58), Area: 4582, Count: 1\n",
      "Shape: (64, 72), Area: 4608, Count: 12\n",
      "Shape: (75, 63), Area: 4725, Count: 1\n",
      "Shape: (66, 72), Area: 4752, Count: 3\n",
      "Shape: (69, 69), Area: 4761, Count: 3\n",
      "Shape: (63, 76), Area: 4788, Count: 8\n",
      "Shape: (72, 67), Area: 4824, Count: 1\n",
      "Shape: (76, 64), Area: 4864, Count: 2\n",
      "Shape: (73, 67), Area: 4891, Count: 3\n",
      "Shape: (88, 56), Area: 4928, Count: 10\n",
      "Shape: (66, 77), Area: 5082, Count: 5\n",
      "Shape: (68, 75), Area: 5100, Count: 1\n",
      "Shape: (66, 78), Area: 5148, Count: 2\n",
      "Shape: (72, 72), Area: 5184, Count: 28\n",
      "Shape: (70, 75), Area: 5250, Count: 1\n",
      "Shape: (73, 72), Area: 5256, Count: 1\n",
      "Shape: (68, 80), Area: 5440, Count: 2\n",
      "Shape: (69, 79), Area: 5451, Count: 3\n",
      "Shape: (74, 76), Area: 5624, Count: 11\n",
      "Shape: (75, 75), Area: 5625, Count: 1\n",
      "Shape: (43, 133), Area: 5719, Count: 1\n",
      "Shape: (72, 80), Area: 5760, Count: 3\n",
      "Shape: (73, 79), Area: 5767, Count: 2\n",
      "Shape: (77, 76), Area: 5852, Count: 1\n",
      "Shape: (70, 84), Area: 5880, Count: 2\n",
      "Shape: (75, 79), Area: 5925, Count: 2\n",
      "Shape: (87, 71), Area: 6177, Count: 8\n",
      "Shape: (98, 64), Area: 6272, Count: 6\n",
      "Shape: (79, 80), Area: 6320, Count: 23\n",
      "Shape: (87, 74), Area: 6438, Count: 5\n",
      "Shape: (76, 85), Area: 6460, Count: 2\n",
      "Shape: (81, 81), Area: 6561, Count: 9\n",
      "Shape: (102, 66), Area: 6732, Count: 13\n",
      "Shape: (89, 76), Area: 6764, Count: 23\n",
      "Shape: (82, 83), Area: 6806, Count: 2\n",
      "Shape: (86, 82), Area: 7052, Count: 1\n",
      "Shape: (88, 81), Area: 7128, Count: 10\n",
      "Shape: (80, 94), Area: 7520, Count: 2\n",
      "Shape: (86, 89), Area: 7654, Count: 14\n",
      "Shape: (87, 89), Area: 7743, Count: 2\n",
      "Shape: (89, 90), Area: 8010, Count: 2\n",
      "Shape: (113, 71), Area: 8023, Count: 3\n",
      "Shape: (79, 104), Area: 8216, Count: 6\n",
      "Shape: (92, 91), Area: 8372, Count: 1\n",
      "Shape: (131, 66), Area: 8646, Count: 2\n",
      "Shape: (94, 95), Area: 8930, Count: 2\n",
      "Shape: (95, 100), Area: 9500, Count: 3\n",
      "Shape: (118, 84), Area: 9912, Count: 4\n",
      "Shape: (89, 112), Area: 9968, Count: 8\n",
      "Shape: (63, 160), Area: 10080, Count: 11\n",
      "Shape: (114, 90), Area: 10260, Count: 4\n",
      "Shape: (101, 103), Area: 10403, Count: 18\n",
      "Shape: (115, 92), Area: 10580, Count: 3\n",
      "Shape: (109, 111), Area: 12099, Count: 1\n",
      "Shape: (122, 102), Area: 12444, Count: 1\n",
      "Shape: (122, 104), Area: 12688, Count: 1\n",
      "Shape: (107, 131), Area: 14017, Count: 13\n",
      "Shape: (137, 116), Area: 15892, Count: 9\n",
      "Shape: (107, 150), Area: 16050, Count: 194\n",
      "Shape: (123, 136), Area: 16728, Count: 30\n",
      "Shape: (116, 146), Area: 16936, Count: 36\n",
      "Shape: (212, 84), Area: 17808, Count: 7\n",
      "Shape: (126, 143), Area: 18018, Count: 2\n",
      "Shape: (143, 132), Area: 18876, Count: 4\n",
      "Shape: (135, 146), Area: 19710, Count: 8\n",
      "Shape: (152, 172), Area: 26144, Count: 11\n"
     ]
    }
   ],
   "source": [
    "# Extract shapes and count occurrences\n",
    "shape_counts = bad_wafer_df[\"waferMap\"].apply(lambda img: img.shape).value_counts()\n",
    "\n",
    "# Sort shapes sequentially (smallest to largest by area, then by dimensions)\n",
    "sorted_shapes = sorted(shape_counts.items(), key=lambda x: (x[0][0] * x[0][1], x[0][0], x[0][1]))\n",
    "\n",
    "# Print the unique shapes, their area, and counts\n",
    "print(\"Unique Shapes (from smallest to largest):\")\n",
    "for shape, count in sorted_shapes:\n",
    "    area = shape[0] * shape[1]\n",
    "    print(f\"Shape: {shape}, Area: {area}, Count: {count}\")"
   ]
  },
  {
   "cell_type": "code",
   "execution_count": 9,
   "metadata": {},
   "outputs": [
    {
     "name": "stdout",
     "output_type": "stream",
     "text": [
      "2\n"
     ]
    },
    {
     "data": {
      "image/png": "[encoded data removed]",
      "text/plain": [
       "<Figure size 432x288 with 1 Axes>"
      ]
     },
     "metadata": {
      "needs_background": "light"
     },
     "output_type": "display_data"
    },
    {
     "name": "stdout",
     "output_type": "stream",
     "text": [
      "2\n"
     ]
    },
    {
     "data": {
      "image/png": "[encoded data removed]",
      "text/plain": [
       "<Figure size 432x288 with 1 Axes>"
      ]
     },
     "metadata": {
      "needs_background": "light"
     },
     "output_type": "display_data"
    }
   ],
   "source": [
    "maxSize_bad_wafer = bad_wafer_df[(bad_wafer_df['waferMap'].apply(lambda x: x.shape == (82, 83)))]\n",
    "label_bad_wafer = np.stack(maxSize_bad_wafer['waferMap'].apply(lambda x: upscale_images(x, target_shape).flatten()).to_numpy())\n",
    "print(np.max(label_bad_wafer))\n",
    "print_image(label_bad_wafer[-1].reshape(target_shape[0], target_shape[1]))\n",
    "label_bad_wafer[(label_bad_wafer == 1) | (label_bad_wafer > 2)] = 2\n",
    "print(np.max(label_bad_wafer))\n",
    "print_image(label_bad_wafer[-1].reshape(target_shape[0], target_shape[1]))"
   ]
  },
  {
   "cell_type": "code",
   "execution_count": 10,
   "metadata": {},
   "outputs": [
    {
     "name": "stdout",
     "output_type": "stream",
     "text": [
      "Unique Shapes (from smallest to largest):\n",
      "Shape: (29, 27), Area: 783, Count: 3\n",
      "Shape: (30, 35), Area: 1050, Count: 24\n",
      "Shape: (33, 35), Area: 1155, Count: 2\n",
      "Shape: (39, 31), Area: 1209, Count: 1\n",
      "Shape: (33, 37), Area: 1221, Count: 11\n",
      "Shape: (35, 37), Area: 1295, Count: 65\n",
      "Shape: (41, 42), Area: 1722, Count: 2\n",
      "Shape: (41, 43), Area: 1763, Count: 32\n",
      "Shape: (44, 45), Area: 1980, Count: 114\n",
      "Shape: (50, 43), Area: 2150, Count: 325\n",
      "Shape: (45, 48), Area: 2160, Count: 64\n",
      "Shape: (47, 47), Area: 2209, Count: 82\n",
      "Shape: (51, 44), Area: 2244, Count: 124\n",
      "Shape: (48, 48), Area: 2304, Count: 81\n",
      "Shape: (41, 57), Area: 2337, Count: 20\n",
      "Shape: (47, 52), Area: 2444, Count: 107\n",
      "Shape: (50, 49), Area: 2450, Count: 140\n",
      "Shape: (50, 51), Area: 2550, Count: 111\n",
      "Shape: (51, 50), Area: 2550, Count: 95\n",
      "Shape: (50, 54), Area: 2700, Count: 35\n",
      "Shape: (52, 55), Area: 2860, Count: 97\n",
      "Shape: (55, 56), Area: 3080, Count: 19\n",
      "Shape: (72, 44), Area: 3168, Count: 1\n",
      "Shape: (58, 59), Area: 3422, Count: 22\n",
      "Shape: (55, 66), Area: 3630, Count: 104\n",
      "Shape: (64, 60), Area: 3840, Count: 94\n",
      "Shape: (62, 62), Area: 3844, Count: 112\n",
      "Shape: (65, 60), Area: 3900, Count: 66\n",
      "Shape: (63, 64), Area: 4032, Count: 114\n",
      "Shape: (70, 58), Area: 4060, Count: 14\n",
      "Shape: (71, 60), Area: 4260, Count: 19\n",
      "Shape: (62, 75), Area: 4650, Count: 105\n",
      "Shape: (75, 63), Area: 4725, Count: 20\n",
      "Shape: (63, 76), Area: 4788, Count: 39\n",
      "Shape: (80, 77), Area: 6160, Count: 112\n",
      "Shape: (101, 65), Area: 6565, Count: 123\n",
      "Shape: (89, 76), Area: 6764, Count: 1\n",
      "Shape: (82, 83), Area: 6806, Count: 96\n",
      "Shape: (86, 82), Area: 7052, Count: 80\n",
      "Shape: (89, 90), Area: 8010, Count: 1\n",
      "Shape: (155, 175), Area: 27125, Count: 48\n"
     ]
    }
   ],
   "source": [
    "# Extract shapes and count occurrences\n",
    "shape_counts = good_wafer_df[\"waferMap\"].apply(lambda img: img.shape).value_counts()\n",
    "\n",
    "# Sort shapes sequentially (smallest to largest by area, then by dimensions)\n",
    "sorted_shapes = sorted(shape_counts.items(), key=lambda x: (x[0][0] * x[0][1], x[0][0], x[0][1]))\n",
    "\n",
    "# Print the unique shapes, their area, and counts\n",
    "print(\"Unique Shapes (from smallest to largest):\")\n",
    "for shape, count in sorted_shapes:\n",
    "    area = shape[0] * shape[1]\n",
    "    print(f\"Shape: {shape}, Area: {area}, Count: {count}\")"
   ]
  },
  {
   "cell_type": "code",
   "execution_count": 11,
   "metadata": {},
   "outputs": [
    {
     "name": "stdout",
     "output_type": "stream",
     "text": [
      "3\n"
     ]
    },
    {
     "data": {
      "image/png": "[encoded data removed]",
      "text/plain": [
       "<Figure size 432x288 with 1 Axes>"
      ]
     },
     "metadata": {
      "needs_background": "light"
     },
     "output_type": "display_data"
    },
    {
     "name": "stdout",
     "output_type": "stream",
     "text": [
      "1\n"
     ]
    },
    {
     "data": {
      "image/png": "[encoded data removed]",
      "text/plain": [
       "<Figure size 432x288 with 1 Axes>"
      ]
     },
     "metadata": {
      "needs_background": "light"
     },
     "output_type": "display_data"
    }
   ],
   "source": [
    "maxSize_good_wafer = good_wafer_df[(good_wafer_df['waferMap'].apply(lambda x: x.shape == (82, 83)))]\n",
    "label_good_wafer = np.stack(maxSize_good_wafer['waferMap'].apply(lambda x: upscale_images(x, target_shape).flatten()).to_numpy())\n",
    "print(np.max(label_good_wafer))\n",
    "print_image(label_good_wafer[-1].reshape(target_shape[0], target_shape[1]))\n",
    "label_good_wafer[label_good_wafer >1] = 1\n",
    "print(np.max(label_good_wafer))\n",
    "print_image(label_good_wafer[-1].reshape(target_shape[0], target_shape[1]))"
   ]
  },
  {
   "cell_type": "code",
   "execution_count": 12,
   "metadata": {},
   "outputs": [
    {
     "data": {
      "image/png": "[encoded data removed]",
      "text/plain": [
       "<Figure size 432x288 with 1 Axes>"
      ]
     },
     "metadata": {
      "needs_background": "light"
     },
     "output_type": "display_data"
    },
    {
     "data": {
      "image/png": "[encoded data removed]",
      "text/plain": [
       "<Figure size 432x288 with 1 Axes>"
      ]
     },
     "metadata": {
      "needs_background": "light"
     },
     "output_type": "display_data"
    }
   ],
   "source": [
    "print_image(data_good_wafer[45].reshape(target_shape[0], target_shape[1]))\n",
    "print_image(data_bad_wafer[1000].reshape(target_shape[0], target_shape[1]))"
   ]
  },
  {
   "cell_type": "code",
   "execution_count": 13,
   "metadata": {},
   "outputs": [
    {
     "ename": "ValueError",
     "evalue": "non-broadcastable output operand with shape (1,784) doesn't match the broadcast shape (128,784)",
     "output_type": "error",
     "traceback": [
      "\u001b[1;31m---------------------------------------------------------------------------\u001b[0m",
      "\u001b[1;31mValueError\u001b[0m                                Traceback (most recent call last)",
      "\u001b[1;32m~\\AppData\\Local\\Temp/ipykernel_22680/1238002080.py\u001b[0m in \u001b[0;36m<module>\u001b[1;34m\u001b[0m\n\u001b[0;32m     17\u001b[0m         \u001b[0mx_recon\u001b[0m\u001b[1;33m,\u001b[0m \u001b[0mmu\u001b[0m\u001b[1;33m,\u001b[0m \u001b[0mlogvar\u001b[0m\u001b[1;33m,\u001b[0m \u001b[0mz\u001b[0m\u001b[1;33m,\u001b[0m \u001b[0menc_acts\u001b[0m\u001b[1;33m,\u001b[0m \u001b[0mdec_acts\u001b[0m \u001b[1;33m=\u001b[0m \u001b[0mvae\u001b[0m\u001b[1;33m.\u001b[0m\u001b[0mforward\u001b[0m\u001b[1;33m(\u001b[0m\u001b[0mx_batch\u001b[0m\u001b[1;33m)\u001b[0m\u001b[1;33m\u001b[0m\u001b[1;33m\u001b[0m\u001b[0m\n\u001b[0;32m     18\u001b[0m         \u001b[0mloss\u001b[0m \u001b[1;33m=\u001b[0m \u001b[0mvae\u001b[0m\u001b[1;33m.\u001b[0m\u001b[0mbinary_cross_entropy\u001b[0m\u001b[1;33m(\u001b[0m\u001b[0mx_recon\u001b[0m\u001b[1;33m,\u001b[0m \u001b[0mx_batch\u001b[0m\u001b[1;33m)\u001b[0m \u001b[1;33m+\u001b[0m \u001b[0mvae\u001b[0m\u001b[1;33m.\u001b[0m\u001b[0mkl_divergence\u001b[0m\u001b[1;33m(\u001b[0m\u001b[0mmu\u001b[0m\u001b[1;33m,\u001b[0m \u001b[0mlogvar\u001b[0m\u001b[1;33m)\u001b[0m\u001b[1;33m\u001b[0m\u001b[1;33m\u001b[0m\u001b[0m\n\u001b[1;32m---> 19\u001b[1;33m         \u001b[0mvae\u001b[0m\u001b[1;33m.\u001b[0m\u001b[0mbackward\u001b[0m\u001b[1;33m(\u001b[0m\u001b[0mx_batch\u001b[0m\u001b[1;33m,\u001b[0m \u001b[0mx_recon\u001b[0m\u001b[1;33m,\u001b[0m \u001b[0mmu\u001b[0m\u001b[1;33m,\u001b[0m \u001b[0mlogvar\u001b[0m\u001b[1;33m,\u001b[0m \u001b[0mz\u001b[0m\u001b[1;33m,\u001b[0m \u001b[0menc_acts\u001b[0m\u001b[1;33m,\u001b[0m \u001b[0mdec_acts\u001b[0m\u001b[1;33m,\u001b[0m \u001b[0mlearning_rate\u001b[0m\u001b[1;33m)\u001b[0m\u001b[1;33m\u001b[0m\u001b[1;33m\u001b[0m\u001b[0m\n\u001b[0m\u001b[0;32m     20\u001b[0m     \u001b[0mprint\u001b[0m\u001b[1;33m(\u001b[0m\u001b[1;34mf\"Epoch {epoch + 1}, Loss: {loss:.4f}\"\u001b[0m\u001b[1;33m)\u001b[0m\u001b[1;33m\u001b[0m\u001b[1;33m\u001b[0m\u001b[0m\n",
      "\u001b[1;32m~\\AppData\\Local\\Temp/ipykernel_22680/907066470.py\u001b[0m in \u001b[0;36mbackward\u001b[1;34m(self, x, x_recon, mu, logvar, z, encoder_activations, decoder_activations, learning_rate)\u001b[0m\n\u001b[0;32m    103\u001b[0m         \u001b[1;31m# Update final decoder layer\u001b[0m\u001b[1;33m\u001b[0m\u001b[1;33m\u001b[0m\u001b[0m\n\u001b[0;32m    104\u001b[0m         \u001b[0mself\u001b[0m\u001b[1;33m.\u001b[0m\u001b[0mW_out\u001b[0m \u001b[1;33m-=\u001b[0m \u001b[0mlearning_rate\u001b[0m \u001b[1;33m*\u001b[0m \u001b[0mnp\u001b[0m\u001b[1;33m.\u001b[0m\u001b[0mdot\u001b[0m\u001b[1;33m(\u001b[0m\u001b[0mdecoder_activations\u001b[0m\u001b[1;33m[\u001b[0m\u001b[1;33m-\u001b[0m\u001b[1;36m1\u001b[0m\u001b[1;33m]\u001b[0m\u001b[1;33m.\u001b[0m\u001b[0mT\u001b[0m\u001b[1;33m,\u001b[0m \u001b[0md_h\u001b[0m\u001b[1;33m)\u001b[0m\u001b[1;33m\u001b[0m\u001b[1;33m\u001b[0m\u001b[0m\n\u001b[1;32m--> 105\u001b[1;33m         \u001b[0mself\u001b[0m\u001b[1;33m.\u001b[0m\u001b[0mb_out\u001b[0m \u001b[1;33m-=\u001b[0m \u001b[0mlearning_rate\u001b[0m \u001b[1;33m*\u001b[0m \u001b[0mnp\u001b[0m\u001b[1;33m.\u001b[0m\u001b[0msum\u001b[0m\u001b[1;33m(\u001b[0m\u001b[0md_h\u001b[0m\u001b[1;33m,\u001b[0m \u001b[0maxis\u001b[0m\u001b[1;33m=\u001b[0m\u001b[1;36m1\u001b[0m\u001b[1;33m,\u001b[0m \u001b[0mkeepdims\u001b[0m\u001b[1;33m=\u001b[0m\u001b[1;32mTrue\u001b[0m\u001b[1;33m)\u001b[0m\u001b[1;33m\u001b[0m\u001b[1;33m\u001b[0m\u001b[0m\n\u001b[0m\u001b[0;32m    106\u001b[0m \u001b[1;33m\u001b[0m\u001b[0m\n\u001b[0;32m    107\u001b[0m         \u001b[0md_h\u001b[0m \u001b[1;33m=\u001b[0m \u001b[0md_h\u001b[0m \u001b[1;33m=\u001b[0m \u001b[0mnp\u001b[0m\u001b[1;33m.\u001b[0m\u001b[0mdot\u001b[0m\u001b[1;33m(\u001b[0m\u001b[0md_h\u001b[0m\u001b[1;33m,\u001b[0m \u001b[0mself\u001b[0m\u001b[1;33m.\u001b[0m\u001b[0mW_out\u001b[0m\u001b[1;33m.\u001b[0m\u001b[0mT\u001b[0m\u001b[1;33m)\u001b[0m\u001b[1;33m\u001b[0m\u001b[1;33m\u001b[0m\u001b[0m\n",
      "\u001b[1;31mValueError\u001b[0m: non-broadcastable output operand with shape (1,784) doesn't match the broadcast shape (128,784)"
     ]
    }
   ],
   "source": [
    "# Usage Example\n",
    "input_dim = 784\n",
    "hidden_dims = [256, 128]  # Example: 2 hidden layers with 256 and 128 units\n",
    "latent_dim = 20\n",
    "learning_rate = 0.001\n",
    "epochs = 10\n",
    "batch_size = 128\n",
    "\n",
    "X = np.random.rand(1000, input_dim)  # Dummy data\n",
    "\n",
    "vae = VAE(input_dim, hidden_dims, latent_dim)\n",
    "\n",
    "for epoch in range(epochs):\n",
    "    np.random.shuffle(X)\n",
    "    for i in range(0, X.shape[0], batch_size):\n",
    "        x_batch = X[i:i + batch_size]\n",
    "        x_recon, mu, logvar, z, enc_acts, dec_acts = vae.forward(x_batch)\n",
    "        loss = vae.binary_cross_entropy(x_recon, x_batch) + vae.kl_divergence(mu, logvar)\n",
    "        vae.backward(x_batch, x_recon, mu, logvar, z, enc_acts, dec_acts, learning_rate)\n",
    "    print(f\"Epoch {epoch + 1}, Loss: {loss:.4f}\")"
   ]
  }
 ],
 "metadata": {
  "kernelspec": {
   "display_name": "Python 3 (ipykernel)",
   "language": "python",
   "name": "python3"
  },
  "language_info": {
   "codemirror_mode": {
    "name": "ipython",
    "version": 3
   },
   "file_extension": ".py",
   "mimetype": "text/x-python",
   "name": "python",
   "nbconvert_exporter": "python",
   "pygments_lexer": "ipython3",
   "version": "3.10.4"
  }
 },
 "nbformat": 4,
 "nbformat_minor": 2
}
