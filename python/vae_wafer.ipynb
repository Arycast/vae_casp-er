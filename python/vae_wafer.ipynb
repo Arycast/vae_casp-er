{
 "cells": [
  {
   "cell_type": "markdown",
   "metadata": {},
   "source": [
    "# Libraries Used"
   ]
  },
  {
   "cell_type": "code",
   "execution_count": 2,
   "metadata": {},
   "outputs": [],
   "source": [
    "# Libraries needed\n",
    "import matplotlib.pyplot as plt\n",
    "import pandas as pd\n",
    "import numpy as np\n"
   ]
  },
  {
   "cell_type": "code",
   "execution_count": 3,
   "metadata": {},
   "outputs": [
    {
     "name": "stdout",
     "output_type": "stream",
     "text": [
      "<class 'pandas.core.frame.DataFrame'>\n",
      "RangeIndex: 811457 entries, 0 to 811456\n",
      "Data columns (total 6 columns):\n",
      " #   Column          Non-Null Count   Dtype  \n",
      "---  ------          --------------   -----  \n",
      " 0   dieSize         811457 non-null  float64\n",
      " 1   failureType     811457 non-null  object \n",
      " 2   lotName         811457 non-null  object \n",
      " 3   trainTestLabel  811457 non-null  object \n",
      " 4   waferIndex      811457 non-null  float64\n",
      " 5   waferMap        811457 non-null  object \n",
      "dtypes: float64(2), object(4)\n",
      "memory usage: 37.1+ MB\n"
     ]
    }
   ],
   "source": [
    "df=pd.read_pickle(\"WM811K.pkl\")\n",
    "df.info()"
   ]
  },
  {
   "cell_type": "code",
   "execution_count": 4,
   "metadata": {},
   "outputs": [
    {
     "data": {
      "text/html": [
       "<div>\n",
       "<style scoped>\n",
       "    .dataframe tbody tr th:only-of-type {\n",
       "        vertical-align: middle;\n",
       "    }\n",
       "\n",
       "    .dataframe tbody tr th {\n",
       "        vertical-align: top;\n",
       "    }\n",
       "\n",
       "    .dataframe thead th {\n",
       "        text-align: right;\n",
       "    }\n",
       "</style>\n",
       "<table border=\"1\" class=\"dataframe\">\n",
       "  <thead>\n",
       "    <tr style=\"text-align: right;\">\n",
       "      <th></th>\n",
       "      <th>dieSize</th>\n",
       "      <th>failureType</th>\n",
       "      <th>lotName</th>\n",
       "      <th>trainTestLabel</th>\n",
       "      <th>waferIndex</th>\n",
       "      <th>waferMap</th>\n",
       "    </tr>\n",
       "  </thead>\n",
       "  <tbody>\n",
       "    <tr>\n",
       "      <th>0</th>\n",
       "      <td>1683.0</td>\n",
       "      <td>none</td>\n",
       "      <td>lot1</td>\n",
       "      <td>Training</td>\n",
       "      <td>1.0</td>\n",
       "      <td>[[0, 0, 0, 0, 0, 0, 0, 0, 0, 0, 0, 0, 0, 0, 0,...</td>\n",
       "    </tr>\n",
       "    <tr>\n",
       "      <th>1</th>\n",
       "      <td>1683.0</td>\n",
       "      <td>none</td>\n",
       "      <td>lot1</td>\n",
       "      <td>Training</td>\n",
       "      <td>2.0</td>\n",
       "      <td>[[0, 0, 0, 0, 0, 0, 0, 0, 0, 0, 0, 0, 0, 0, 0,...</td>\n",
       "    </tr>\n",
       "    <tr>\n",
       "      <th>2</th>\n",
       "      <td>1683.0</td>\n",
       "      <td>none</td>\n",
       "      <td>lot1</td>\n",
       "      <td>Training</td>\n",
       "      <td>3.0</td>\n",
       "      <td>[[0, 0, 0, 0, 0, 0, 0, 0, 0, 0, 0, 0, 0, 0, 0,...</td>\n",
       "    </tr>\n",
       "    <tr>\n",
       "      <th>3</th>\n",
       "      <td>1683.0</td>\n",
       "      <td>none</td>\n",
       "      <td>lot1</td>\n",
       "      <td>Training</td>\n",
       "      <td>4.0</td>\n",
       "      <td>[[0, 0, 0, 0, 0, 0, 0, 0, 0, 0, 0, 0, 0, 0, 0,...</td>\n",
       "    </tr>\n",
       "    <tr>\n",
       "      <th>4</th>\n",
       "      <td>1683.0</td>\n",
       "      <td>none</td>\n",
       "      <td>lot1</td>\n",
       "      <td>Training</td>\n",
       "      <td>5.0</td>\n",
       "      <td>[[0, 0, 0, 0, 0, 0, 0, 0, 0, 0, 0, 0, 0, 0, 0,...</td>\n",
       "    </tr>\n",
       "  </tbody>\n",
       "</table>\n",
       "</div>"
      ],
      "text/plain": [
       "   dieSize failureType lotName trainTestLabel  waferIndex  \\\n",
       "0   1683.0        none    lot1       Training         1.0   \n",
       "1   1683.0        none    lot1       Training         2.0   \n",
       "2   1683.0        none    lot1       Training         3.0   \n",
       "3   1683.0        none    lot1       Training         4.0   \n",
       "4   1683.0        none    lot1       Training         5.0   \n",
       "\n",
       "                                            waferMap  \n",
       "0  [[0, 0, 0, 0, 0, 0, 0, 0, 0, 0, 0, 0, 0, 0, 0,...  \n",
       "1  [[0, 0, 0, 0, 0, 0, 0, 0, 0, 0, 0, 0, 0, 0, 0,...  \n",
       "2  [[0, 0, 0, 0, 0, 0, 0, 0, 0, 0, 0, 0, 0, 0, 0,...  \n",
       "3  [[0, 0, 0, 0, 0, 0, 0, 0, 0, 0, 0, 0, 0, 0, 0,...  \n",
       "4  [[0, 0, 0, 0, 0, 0, 0, 0, 0, 0, 0, 0, 0, 0, 0,...  "
      ]
     },
     "execution_count": 4,
     "metadata": {},
     "output_type": "execute_result"
    }
   ],
   "source": [
    "df.head()"
   ]
  },
  {
   "cell_type": "code",
   "execution_count": 5,
   "metadata": {},
   "outputs": [
    {
     "name": "stdout",
     "output_type": "stream",
     "text": [
      "300 244100\n",
      "205 283434\n",
      "6 742367\n",
      "3 745584\n",
      "0 2\n"
     ]
    }
   ],
   "source": [
    "max_col = 0\n",
    "max_row = 0\n",
    "min_col = 999\n",
    "min_row = 999\n",
    "\n",
    "max_val = 0\n",
    "min_val = 99999999\n",
    "for idx, data in enumerate(df['waferMap']):\n",
    "    size = data.shape\n",
    "    if max_row < size[0]: \n",
    "        max_row = size[0]\n",
    "        max_row_idx = idx\n",
    "    if max_col < size[1]:\n",
    "        max_col = size[1]\n",
    "        max_col_idx = idx\n",
    "    if min_row > size[0]:\n",
    "        min_row = size[0]\n",
    "        min_row_idx = idx\n",
    "    if min_col > size[1]:\n",
    "        min_col = size[1]\n",
    "        min_col_idx = idx\n",
    "\n",
    "    # if idx == 1: print(data)\n",
    "    temp_max = np.max(data)\n",
    "    temp_min = np.min(data)\n",
    "\n",
    "    # print(temp_min, temp_max)\n",
    "\n",
    "    if max_val < temp_max: max_val = temp_max\n",
    "    if min_val > temp_min: min_val = temp_min\n",
    "\n",
    "print(max_row, max_row_idx)\n",
    "print(max_col, max_col_idx)\n",
    "print(min_row, min_row_idx)\n",
    "print(min_col, min_col_idx)\n",
    "\n",
    "print(min_val, max_val)"
   ]
  },
  {
   "cell_type": "code",
   "execution_count": 6,
   "metadata": {},
   "outputs": [
    {
     "name": "stdout",
     "output_type": "stream",
     "text": [
      "(300, 202)\n",
      "(136, 205)\n",
      "(6, 21)\n",
      "(15, 3)\n"
     ]
    }
   ],
   "source": [
    "print(df.iloc[max_row_idx,:]['waferMap'].shape)\n",
    "print(df.iloc[max_col_idx,:]['waferMap'].shape)\n",
    "print(df.iloc[min_row_idx,:]['waferMap'].shape)\n",
    "print(df.iloc[min_col_idx,:]['waferMap'].shape)"
   ]
  },
  {
   "cell_type": "markdown",
   "metadata": {},
   "source": [
    "# Activation function"
   ]
  },
  {
   "cell_type": "code",
   "execution_count": 7,
   "metadata": {},
   "outputs": [],
   "source": [
    "def sigmoid(x):\n",
    "    return 1 / (1 + np.exp(-x))\n",
    "\n",
    "def softplus(x):\n",
    "    return np.log10(1+np.exp(x))\n",
    "\n",
    "def diff_softplus(x):\n",
    "    return sigmoid(x)"
   ]
  },
  {
   "cell_type": "markdown",
   "metadata": {},
   "source": [
    "# Additional Function"
   ]
  },
  {
   "cell_type": "code",
   "execution_count": null,
   "metadata": {},
   "outputs": [],
   "source": [
    "layer = [9,2,9]; len_layers = len(layer)\n",
    "in_layer = np.empty(len(layer), dtype=object)\n",
    "\n",
    "def fill_array_weight(layer, len_layers):\n",
    "    arr = np.empty(len_layers, dtype=object)\n",
    "\n",
    "    for i in range(len_layers//2 + 1):\n",
    "        arr[i] = np.full((layer[i],layer[i+1]),0.5)\n",
    "    for i in range(len_layers//2 + 1, len_layers):\n",
    "        arr[i] = np.full((layer[i],layer[i-1]),0.5)\n",
    "    return arr\n",
    "\n",
    "def fill_array_bias(layer, len_layers):\n",
    "    arr = np.empty(len_layers, dtype=object)\n",
    "\n",
    "    for i in range(len_layers):\n",
    "        arr[i] = np.full((layer[i],1),0.5)\n",
    "    return arr\n",
    "\n",
    "def fill_node(layer, len_layers):\n",
    "    arr = np.empty(len_layers, dtype=object)\n",
    "\n",
    "    for i in range(len_layers):\n",
    "        arr[i] = np.full((layer[i],1),0.5)\n",
    "    return arr\n",
    "\n",
    "\n",
    "# testing_weight = fill_array_weight(layer, len_layers)\n",
    "# testing_bias = fill_array_bias(layer, len_layers)\n",
    "# print(testing_weight)\n",
    "# print(testing_bias)"
   ]
  },
  {
   "cell_type": "markdown",
   "metadata": {},
   "source": [
    "# Forward VAE"
   ]
  },
  {
   "cell_type": "code",
   "execution_count": 12,
   "metadata": {},
   "outputs": [
    {
     "ename": "NameError",
     "evalue": "name 'softplus' is not defined",
     "output_type": "error",
     "traceback": [
      "\u001b[1;31m---------------------------------------------------------------------------\u001b[0m",
      "\u001b[1;31mNameError\u001b[0m                                 Traceback (most recent call last)",
      "Cell \u001b[1;32mIn[12], line 8\u001b[0m\n\u001b[0;32m      6\u001b[0m nums \u001b[38;5;241m=\u001b[39m np\u001b[38;5;241m.\u001b[39marray([i\u001b[38;5;241m*\u001b[39m\u001b[38;5;241m*\u001b[39m\u001b[38;5;241m2\u001b[39m \u001b[38;5;28;01mfor\u001b[39;00m i \u001b[38;5;129;01min\u001b[39;00m \u001b[38;5;28mrange\u001b[39m(\u001b[38;5;241m1\u001b[39m,\u001b[38;5;241m11\u001b[39m)])\n\u001b[0;32m      7\u001b[0m eagle \u001b[38;5;241m=\u001b[39m np\u001b[38;5;241m.\u001b[39mzeros((\u001b[38;5;241m2\u001b[39m,\u001b[38;5;241m10\u001b[39m))\n\u001b[1;32m----> 8\u001b[0m eagle \u001b[38;5;241m=\u001b[39m \u001b[43mtesting\u001b[49m\u001b[43m(\u001b[49m\u001b[43mnums\u001b[49m\u001b[43m,\u001b[49m\u001b[43meagle\u001b[49m\u001b[43m)\u001b[49m\n\u001b[0;32m      9\u001b[0m \u001b[38;5;28mprint\u001b[39m(eagle)\n",
      "Cell \u001b[1;32mIn[12], line 3\u001b[0m, in \u001b[0;36mtesting\u001b[1;34m(kiwi, eagle)\u001b[0m\n\u001b[0;32m      1\u001b[0m \u001b[38;5;28;01mdef\u001b[39;00m \u001b[38;5;21mtesting\u001b[39m(kiwi, eagle):\n\u001b[0;32m      2\u001b[0m     eagle[\u001b[38;5;241m0\u001b[39m] \u001b[38;5;241m=\u001b[39m np\u001b[38;5;241m.\u001b[39msqrt(kiwi)\n\u001b[1;32m----> 3\u001b[0m     eagle[\u001b[38;5;241m1\u001b[39m] \u001b[38;5;241m=\u001b[39m \u001b[43msoftplus\u001b[49m(eagle[\u001b[38;5;241m0\u001b[39m])\n\u001b[0;32m      4\u001b[0m     \u001b[38;5;28;01mreturn\u001b[39;00m eagle\n",
      "\u001b[1;31mNameError\u001b[0m: name 'softplus' is not defined"
     ]
    }
   ],
   "source": [
    "def testing(kiwi, eagle):\n",
    "    eagle[0] = np.sqrt(kiwi)\n",
    "    eagle[1] = softplus(eagle[0])\n",
    "    return eagle\n",
    "\n",
    "nums = np.array([i**2 for i in range(1,11)])\n",
    "eagle = np.zeros((2,10))\n",
    "eagle = testing(nums,eagle)\n",
    "print(eagle)"
   ]
  },
  {
   "cell_type": "code",
   "execution_count": 12,
   "metadata": {},
   "outputs": [],
   "source": [
    "def forward(pixel, wLeft_mean, wLeft_var, bLeft_mean, bLeft_var, wRight, bRight, in_layer, len_layers, aLeft_mean, aLeft_var, zLeft_mean, zLeft_var, aRight, zRight):\n",
    "    in_layer[0] = pixel\n",
    "    for layer in range(len_layers // 2):\n",
    "        zLeft_mean[layer + 1] = np.matmul(wLeft_mean[layer + 1], in_layer[layer]) + bLeft_mean[layer + 1]\n",
    "        zLeft_var[layer + 1] = np.matmul(wLeft_var[layer + 1], in_layer[layer]) + bLeft_var[layer + 1]\n",
    "\n",
    "        aLeft_mean[layer + 1] = zLeft_mean[layer + 1]\n",
    "        aLeft_var[layer + 1] = softplus(zLeft_var[layer + 1])\n",
    "\n",
    "        eps = np.random.normal(size=zLeft_mean[layer + 1].shape)\n",
    "        in_layer[layer + 1] = aLeft_mean[layer + 1] + np.sqrt(aLeft_var[layer + 1]) * eps\n",
    "\n",
    "    for layer in range(len_layers // 2, len_layers - 1):\n",
    "        # zRight[layer + 1] = np.matmul(wRight[layer + 1 - len_layers // 2], in_layer[layer]) + bRight[layer + 1 - len_layers // 2]\n",
    "        zRight[layer+1] = np.matmul(wRight[layer+1],in_layer[layer]) + bRight[layer+1]\n",
    "        aRight[layer + 1] = sigmoid(zRight[layer + 1])\n",
    "\n",
    "        in_layer[layer + 1] = aRight[layer + 1]"
   ]
  },
  {
   "cell_type": "code",
   "execution_count": 24,
   "metadata": {},
   "outputs": [
    {
     "name": "stdout",
     "output_type": "stream",
     "text": [
      "[[1.]\n",
      " [1.]\n",
      " [1.]\n",
      " [1.]\n",
      " [0.]\n",
      " [1.]\n",
      " [1.]\n",
      " [1.]\n",
      " [1.]]\n"
     ]
    }
   ],
   "source": [
    "# Testing using O data\n",
    "\n",
    "layer = [9,2,9]; len_layers = len(layer)\n",
    "in_layer = np.empty(len(layer), dtype=object)\n",
    "# Populate the 'in_layer' with arrays of varying lengths\n",
    "for i, size in enumerate(layer):\n",
    "    in_layer[i] = np.zeros(size)  # Create an array of zeros for each row, with length based on 'layer'\n",
    "\n",
    "image = np.array([[1, 1, 1], [1, 0, 1], [1, 1, 1]])\n",
    "pixel = image.reshape(9,1)\n",
    "\n",
    "wLeft_mean  = [[0 for i in range(layer[0])],\n",
    "               [[0.0151, -0.0046, -0.0178, 0.0006, -0.0177, 0.0122, -0.3224, 2.0527, 0.2468],\n",
    "                [-0.0042, 0.0363, -0.0033, 0.0364, -0.0387, 0.0360, 0.3951, -0.1630, 0.5387]]]\n",
    "bLeft_mean  = [[0 for i in range(layer[1])],\n",
    "               [[-0.8641],\n",
    "                [-0.8743]]]\n",
    "\n",
    "wLeft_var   = [[0 for i in range(layer[0])],\n",
    "               [[0.0567, -0.0224, -0.0221, 0.0101, 0.0237, -0.0150, -0.0886, -0.0722, -0.3455],\n",
    "                [0.0436, -0.0386, 0.0429, -0.0360, 0.0827, -0.0475, 0.8645, 0.1661, 0.1577]]]\n",
    "bLeft_var   = [[0 for i in range(layer[1])],\n",
    "               [[-0.9129],\n",
    "                [-0.6264]]]\n",
    "\n",
    "wRight = [[0 for i in range(layer[0])],\n",
    "          [0 for i in range(layer[1])],\n",
    "          [[0.1393, 0.2673],\n",
    "           [4.9796, -0.1095],\n",
    "           [0.1383, 0.2631],\n",
    "           [4.9718, -0.1096],\n",
    "           [-4.9381,0.1126],\n",
    "           [4.9775, -0.1089],\n",
    "           [0.1435, 0.2764],\n",
    "           [4.9814, -0.1098],\n",
    "           [0.1338, 0.2538]]]\n",
    "\n",
    "bRight      = [[0 for i in range(layer[0])],\n",
    "               [0 for i in range(layer[1])],\n",
    "               [[4.9357],\n",
    "                [-0.2049],\n",
    "                [4.9334],\n",
    "                [-0.2035],\n",
    "                [0.1958],\n",
    "                [-0.2049],\n",
    "                [4.9430],\n",
    "                [-0.2050],\n",
    "                [4.9264]]]\n",
    "\n",
    "aLeft_mean  = fill_node(layer, len_layers)\n",
    "aLeft_var   = fill_node(layer, len_layers)\n",
    "zLeft_mean  = fill_node(layer, len_layers)\n",
    "zLeft_var   = fill_node(layer, len_layers)\n",
    "aRight      = fill_node(layer, len_layers)\n",
    "zRight      = fill_node(layer, len_layers)\n",
    "\n",
    "\n",
    "forward(pixel, wLeft_mean, wLeft_var, bLeft_mean, bLeft_var, wRight, bRight, in_layer, len_layers, aLeft_mean, aLeft_var, zLeft_mean, zLeft_var, aRight, zRight)\n",
    "print(np.round(in_layer[len_layers-1]))\n",
    "\n"
   ]
  },
  {
   "cell_type": "markdown",
   "metadata": {},
   "source": [
    "# Loss Function"
   ]
  },
  {
   "cell_type": "code",
   "execution_count": 23,
   "metadata": {},
   "outputs": [],
   "source": [
    "def reconstruction_loss(prev_out, label):\n",
    "    # Finding reconstruction loss using Binary Cross Entropy Error\n",
    "    err_rec = -label * np.log10(prev_out) - (1-label) * np.log10(1-prev_out)\n",
    "    return err_rec\n",
    "\n",
    "def regularization_loss(mean_latent, var_latent):\n",
    "    # Finding regularization loss using Binary Cross Entropy Error\n",
    "    err_reg = -0.5 * (1 + np.log10(var_latent) - np.square(mean_latent) - var_latent)\n",
    "    return err_reg\n",
    "\n",
    "def total_loss(prev_out, label, mean_latent, var_latent):\n",
    "    return reconstruction_loss(prev_out,label) + regularization_loss(mean_latent,var_latent)"
   ]
  },
  {
   "cell_type": "code",
   "execution_count": 40,
   "metadata": {},
   "outputs": [
    {
     "name": "stdout",
     "output_type": "stream",
     "text": [
      "[0.4 0.4 0.4 0.4 0.4 0.4 0.4 0.4 0.4]\n",
      "9\n"
     ]
    }
   ],
   "source": [
    "E = np.empty(0,dtype=object)\n",
    "E1 = np.full(layer[0],fill_value=1)\n",
    "E2 = np.full(layer[0],fill_value=2)\n",
    "print(E2/5)\n",
    "# np.append(E, E2)\n",
    "# print(E)\n",
    "print(layer[0])"
   ]
  },
  {
   "cell_type": "code",
   "execution_count": 42,
   "metadata": {},
   "outputs": [],
   "source": [
    "def fill_gradient(layer, len_layers):\n",
    "    arr = np.empty(len_layers, dtype=object)\n",
    "\n",
    "    for i in range(len_layers):\n",
    "        arr[i] = np.zeros((layer[i],1))  # Create an array of zeros for each row, with length based on 'layer'\n",
    "    return arr\n"
   ]
  },
  {
   "cell_type": "markdown",
   "metadata": {},
   "source": [
    "# Backward VAE"
   ]
  },
  {
   "cell_type": "code",
   "execution_count": null,
   "metadata": {},
   "outputs": [],
   "source": [
    "def train_vae(pixel,label, wLeft_mean, wLeft_var, bLeft_mean, bLeft_var, wRight, bRight, in_layer, len_layers, aLeft_mean, aLeft_var, zLeft_mean, zLeft_var, aRight, zRight, history_loss, epoch, rate):\n",
    "    in_layer[0] = pixel\n",
    "    for iter in range(epoch):\n",
    "        print(f\"[INFO] Training Epoch: {iter}\")\n",
    "        # Forward Propagation\n",
    "        for layer in range (len_layers//2):\n",
    "            # print(layer)\n",
    "            zLeft_mean[layer+1] = np.matmul(wLeft_mean[layer+1],in_layer[layer]) + bLeft_mean[layer+1]\n",
    "            zLeft_var[layer+1] = np.matmul(wLeft_var[layer+1],in_layer[layer]) + bLeft_var[layer+1]\n",
    "\n",
    "            aLeft_mean[layer+1] = zLeft_mean[layer+1]\n",
    "            aLeft_var[layer+1] = softplus(zLeft_var[layer+1])\n",
    "\n",
    "            eps = np.random.normal(size=zLeft_mean[layer+1].shape)\n",
    "            in_layer[layer+1] = aLeft_mean[layer+1] + np.sqrt(aLeft_var[layer+1]) * eps\n",
    "\n",
    "\n",
    "        for layer in range(len_layers//2, len_layers-1):\n",
    "            zRight[layer+1] = np.matmul(wRight[layer+1],in_layer[layer]) + bRight[layer+1]\n",
    "            aRight[layer+1] = sigmoid(zRight[layer+1])\n",
    "\n",
    "            in_layer[layer+1] = aRight[layer+1]\n",
    "        \n",
    "        # Backward Propagation\n",
    "        history_loss[iter] = total_loss(in_layer[len_layers-1], label, aLeft_mean[len_layers//2], aLeft_var[len_layers//2]) / in_layer[0]\n",
    "\n",
    "        for layer in (len_layers-1,len_layers//2,-1):\n",
    "            # Decoder part (right)\n",
    "            dEda_right = -label / in_layer[layer] + (1 - label) / (1 - in_layer[layer])\n",
    "            dEdz_right = dEda_right * in_layer[layer] * (1 - in_layer[layer])\n",
    "            delta_right = dEdz_right\n",
    "\n",
    "            dEdb_right = np.sum(delta_right, axis=1)\n",
    "            dEdw_right = np.matmul(in_layer[layer - 1].T, delta_right)\n",
    "\n",
    "            # Update decoder (right) weights and biases\n",
    "            wRight[layer + 1] -= rate * dEdw_right\n",
    "            bRight[layer + 1] -= rate * dEdb_right\n",
    "\n",
    "        # Encoder part (left)\n",
    "        delta_left_mean = delta_right\n",
    "        delta_left_var = delta_right\n",
    "        for layer in range(len_layers // 2, 0, -1):  # Loop over the encoder layers\n",
    "            # For the encoder (left), compute the gradients for mean and variance\n",
    "            dEda_left_mean = np.matmul(wRight[layer + 1].T, delta_left_mean) + aLeft_mean[layer + 1]\n",
    "            dEda_left_var = np.matmul(wRight[layer + 1].T, delta_left_var) * eps / (2 * np.sqrt(aLeft_var[layer + 1])) + 0.5 * (1 - 1 / aLeft_var[layer + 1])\n",
    "\n",
    "            dEdz_left_mean = dEda_left_mean\n",
    "            dEdz2_left_var = dEda_left_var * (1 / (1 + np.exp(-zLeft_var[layer + 1])))  # Sigmoid derivative of softplus\n",
    "\n",
    "            delta_left_mean = dEdz_left_mean\n",
    "            delta_left_var = dEdz2_left_var\n",
    "\n",
    "            # Compute gradients for the encoder (left) layers\n",
    "            dEdb2_mean = np.sum(delta_left_mean, axis=1)\n",
    "            dEdw2_mean = np.matmul(in_layer[layer - 1].T, delta_left_mean)\n",
    "            dEdb2_var = np.sum(delta_left_var, axis=1)\n",
    "            dEdw2_var = np.matmul(in_layer[layer - 1].T, delta_left_var)\n",
    "\n",
    "            # Update encoder (left) weights and biases\n",
    "            wLeft_mean[layer + 1] -= rate * dEdw2_mean\n",
    "            bLeft_mean[layer + 1] -= rate * dEdb2_mean\n",
    "            wLeft_var[layer + 1] -= rate * dEdw2_var\n",
    "            bLeft_var[layer + 1] -= rate * dEdb2_var\n",
    "            \n"
   ]
  },
  {
   "cell_type": "code",
   "execution_count": 17,
   "metadata": {},
   "outputs": [],
   "source": [
    "\n",
    "def backward(label, wLeft_mean, wLeft_var, bLeft_mean, bLeft_var, wRight, bRight, in_layer, len_layers, aLeft_mean, aLeft_var, zLeft_mean, zLeft_var, aRight, zRight, gradients, loss):\n",
    "    dLoss = loss  # Assume loss is a gradient of the final layer output wrt loss\n",
    "\n",
    "    # Backpropagation for the decoder (Right side)\n",
    "    for layer in reversed(range(len_layers // 2, len_layers - 1)):\n",
    "        dz = dLoss * (aRight[layer + 1] * (1 - aRight[layer + 1]))  # Derivative of sigmoid\n",
    "        gradients['wRight'][layer - len_layers // 2] = np.matmul(dz, in_layer[layer].T)\n",
    "        gradients['bRight'][layer - len_layers // 2] = dz\n",
    "        dLoss = np.matmul(wRight[layer - len_layers // 2].T, dz)\n",
    "\n",
    "    # Backpropagation for the encoder (Left side)\n",
    "    for layer in reversed(range(len_layers // 2)):\n",
    "        dz_mean = dLoss\n",
    "        dz_var = dLoss * diff_softplus(zLeft_var[layer + 1])\n",
    "\n",
    "        gradients['wLeft_mean'][layer + 1] = np.matmul(dz_mean, in_layer[layer].T)\n",
    "        gradients['bLeft_mean'][layer + 1] = dz_mean\n",
    "\n",
    "        gradients['wLeft_var'][layer + 1] = np.matmul(dz_var, in_layer[layer].T)\n",
    "        gradients['bLeft_var'][layer + 1] = dz_var\n",
    "\n",
    "        dLoss = np.matmul(wLeft_mean[layer + 1].T, dz_mean) + np.matmul(wLeft_var[layer + 1].T, dz_var)\n",
    "\n",
    "# Example initialization of gradients dictionary\n",
    "def initialize_gradients(len_layers, layer):\n",
    "    gradients = {\n",
    "        'wLeft_mean': [np.zeros((layer[i + 1], layer[i])) if i + 1 < len_layers // 2 else None for i in range(len_layers - 1)],\n",
    "        'bLeft_mean': [np.zeros((layer[i + 1], 1)) if i + 1 < len_layers // 2 else None for i in range(len_layers - 1)],\n",
    "        'wLeft_var': [np.zeros((layer[i + 1], layer[i])) if i + 1 < len_layers // 2 else None for i in range(len_layers - 1)],\n",
    "        'bLeft_var': [np.zeros((layer[i + 1], 1)) if i + 1 < len_layers // 2 else None for i in range(len_layers - 1)],\n",
    "        'wRight': [np.zeros((layer[i], layer[i - 1])) if i >= len_layers // 2 else None for i in range(len_layers - 1)],\n",
    "        'bRight': [np.zeros((layer[i], 1)) if i >= len_layers // 2 else None for i in range(len_layers - 1)],\n",
    "    }\n",
    "    return gradients\n",
    "\n"
   ]
  },
  {
   "cell_type": "code",
   "execution_count": 31,
   "metadata": {},
   "outputs": [
    {
     "ename": "IndexError",
     "evalue": "list assignment index out of range",
     "output_type": "error",
     "traceback": [
      "\u001b[1;31m---------------------------------------------------------------------------\u001b[0m",
      "\u001b[1;31mIndexError\u001b[0m                                Traceback (most recent call last)",
      "Cell \u001b[1;32mIn[31], line 41\u001b[0m\n\u001b[0;32m     38\u001b[0m loss_gradient \u001b[38;5;241m=\u001b[39m np\u001b[38;5;241m.\u001b[39mrandom\u001b[38;5;241m.\u001b[39mnormal(size\u001b[38;5;241m=\u001b[39maRight[\u001b[38;5;241m-\u001b[39m\u001b[38;5;241m1\u001b[39m]\u001b[38;5;241m.\u001b[39mshape)\n\u001b[0;32m     40\u001b[0m \u001b[38;5;66;03m# Backward pass\u001b[39;00m\n\u001b[1;32m---> 41\u001b[0m \u001b[43mbackward\u001b[49m\u001b[43m(\u001b[49m\u001b[43mpixel\u001b[49m\u001b[43m,\u001b[49m\u001b[43m \u001b[49m\u001b[43mwLeft_mean\u001b[49m\u001b[43m,\u001b[49m\u001b[43m \u001b[49m\u001b[43mwLeft_var\u001b[49m\u001b[43m,\u001b[49m\u001b[43m \u001b[49m\u001b[43mbLeft_mean\u001b[49m\u001b[43m,\u001b[49m\u001b[43m \u001b[49m\u001b[43mbLeft_var\u001b[49m\u001b[43m,\u001b[49m\u001b[43m \u001b[49m\u001b[43mwRight\u001b[49m\u001b[43m,\u001b[49m\u001b[43m \u001b[49m\u001b[43mbRight\u001b[49m\u001b[43m,\u001b[49m\u001b[43m \u001b[49m\u001b[43min_layer\u001b[49m\u001b[43m,\u001b[49m\u001b[43m \u001b[49m\u001b[43mlen_layers\u001b[49m\u001b[43m,\u001b[49m\u001b[43m \u001b[49m\u001b[43maLeft_mean\u001b[49m\u001b[43m,\u001b[49m\u001b[43m \u001b[49m\u001b[43maLeft_var\u001b[49m\u001b[43m,\u001b[49m\u001b[43m \u001b[49m\u001b[43mzLeft_mean\u001b[49m\u001b[43m,\u001b[49m\u001b[43m \u001b[49m\u001b[43mzLeft_var\u001b[49m\u001b[43m,\u001b[49m\u001b[43m \u001b[49m\u001b[43maRight\u001b[49m\u001b[43m,\u001b[49m\u001b[43m \u001b[49m\u001b[43mzRight\u001b[49m\u001b[43m,\u001b[49m\u001b[43m \u001b[49m\u001b[43mgradients\u001b[49m\u001b[43m,\u001b[49m\u001b[43m \u001b[49m\u001b[43mloss_gradient\u001b[49m\u001b[43m)\u001b[49m\n\u001b[0;32m     43\u001b[0m \u001b[38;5;66;03m# Print results\u001b[39;00m\n\u001b[0;32m     44\u001b[0m \u001b[38;5;28mprint\u001b[39m(\u001b[38;5;124m\"\u001b[39m\u001b[38;5;124mForward Pass Output:\u001b[39m\u001b[38;5;124m\"\u001b[39m)\n",
      "Cell \u001b[1;32mIn[17], line 7\u001b[0m, in \u001b[0;36mbackward\u001b[1;34m(pixel, wLeft_mean, wLeft_var, bLeft_mean, bLeft_var, wRight, bRight, in_layer, len_layers, aLeft_mean, aLeft_var, zLeft_mean, zLeft_var, aRight, zRight, gradients, loss)\u001b[0m\n\u001b[0;32m      5\u001b[0m \u001b[38;5;28;01mfor\u001b[39;00m layer \u001b[38;5;129;01min\u001b[39;00m \u001b[38;5;28mreversed\u001b[39m(\u001b[38;5;28mrange\u001b[39m(len_layers \u001b[38;5;241m/\u001b[39m\u001b[38;5;241m/\u001b[39m \u001b[38;5;241m2\u001b[39m, len_layers \u001b[38;5;241m-\u001b[39m \u001b[38;5;241m1\u001b[39m)):\n\u001b[0;32m      6\u001b[0m     dz \u001b[38;5;241m=\u001b[39m dLoss \u001b[38;5;241m*\u001b[39m (aRight[layer \u001b[38;5;241m+\u001b[39m \u001b[38;5;241m1\u001b[39m] \u001b[38;5;241m*\u001b[39m (\u001b[38;5;241m1\u001b[39m \u001b[38;5;241m-\u001b[39m aRight[layer \u001b[38;5;241m+\u001b[39m \u001b[38;5;241m1\u001b[39m]))  \u001b[38;5;66;03m# Derivative of sigmoid\u001b[39;00m\n\u001b[1;32m----> 7\u001b[0m     \u001b[43mgradients\u001b[49m\u001b[43m[\u001b[49m\u001b[38;5;124;43m'\u001b[39;49m\u001b[38;5;124;43mwRight\u001b[39;49m\u001b[38;5;124;43m'\u001b[39;49m\u001b[43m]\u001b[49m\u001b[43m[\u001b[49m\u001b[43mlayer\u001b[49m\u001b[43m \u001b[49m\u001b[38;5;241;43m+\u001b[39;49m\u001b[43m \u001b[49m\u001b[38;5;241;43m1\u001b[39;49m\u001b[43m]\u001b[49m \u001b[38;5;241m=\u001b[39m np\u001b[38;5;241m.\u001b[39mmatmul(dz, in_layer[layer]\u001b[38;5;241m.\u001b[39mT)\n\u001b[0;32m      8\u001b[0m     gradients[\u001b[38;5;124m'\u001b[39m\u001b[38;5;124mbRight\u001b[39m\u001b[38;5;124m'\u001b[39m][layer \u001b[38;5;241m+\u001b[39m \u001b[38;5;241m1\u001b[39m] \u001b[38;5;241m=\u001b[39m dz\n\u001b[0;32m      9\u001b[0m     dLoss \u001b[38;5;241m=\u001b[39m np\u001b[38;5;241m.\u001b[39mmatmul(wRight[layer \u001b[38;5;241m+\u001b[39m \u001b[38;5;241m1\u001b[39m]\u001b[38;5;241m.\u001b[39mT, dz)\n",
      "\u001b[1;31mIndexError\u001b[0m: list assignment index out of range"
     ]
    }
   ],
   "source": [
    "# Test case setup\n",
    "layer = [9, 2, 9]\n",
    "len_layers = len(layer)\n",
    "in_layer = np.empty(len_layers, dtype=object)\n",
    "\n",
    "# Initialize weights and biases\n",
    "def init_test_params(layer, len_layers):\n",
    "    wLeft_mean = [None] + [np.random.normal(size=(layer[i + 1], layer[i])) for i in range(len_layers // 2)]\n",
    "    wLeft_var = [None] + [np.random.normal(size=(layer[i + 1], layer[i])) for i in range(len_layers // 2)]\n",
    "    bLeft_mean = [None] + [np.random.normal(size=(layer[i + 1], 1)) for i in range(len_layers // 2)]\n",
    "    bLeft_var = [None] + [np.random.normal(size=(layer[i + 1], 1)) for i in range(len_layers // 2)]\n",
    "\n",
    "    wRight = [np.random.normal(size=(layer[i + 1], layer[i])) if i >= len_layers // 2 else None for i in range(len_layers - 1)]\n",
    "    bRight = [np.random.normal(size=(layer[i + 1], 1)) if i >= len_layers // 2 else None for i in range(len_layers - 1)]\n",
    "\n",
    "    return wLeft_mean, wLeft_var, bLeft_mean, bLeft_var, wRight, bRight\n",
    "\n",
    "wLeft_mean, wLeft_var, bLeft_mean, bLeft_var, wRight, bRight = init_test_params(layer, len_layers)\n",
    "\n",
    "aLeft_mean = [np.zeros((size, 1)) for size in layer]\n",
    "aLeft_var = [np.zeros((size, 1)) for size in layer]\n",
    "zLeft_mean = [np.zeros((size, 1)) for size in layer]\n",
    "zLeft_var = [np.zeros((size, 1)) for size in layer]\n",
    "aRight = [np.zeros((size, 1)) for size in layer]\n",
    "zRight = [np.zeros((size, 1)) for size in layer]\n",
    "\n",
    "# Create test input\n",
    "image = np.array([[1, 1, 1], [1, 0, 1], [1, 1, 1]])\n",
    "pixel = image.reshape(9, 1)\n",
    "\n",
    "# Initialize gradients\n",
    "gradients = initialize_gradients(len_layers, layer)\n",
    "\n",
    "# Forward pass\n",
    "forward(pixel, wLeft_mean, wLeft_var, bLeft_mean, bLeft_var, wRight, bRight, in_layer, len_layers, aLeft_mean, aLeft_var, zLeft_mean, zLeft_var, aRight, zRight)\n",
    "\n",
    "# Simulated loss gradient from output layer\n",
    "loss_gradient = np.random.normal(size=aRight[-1].shape)\n",
    "\n",
    "# Backward pass\n",
    "backward(pixel, wLeft_mean, wLeft_var, bLeft_mean, bLeft_var, wRight, bRight, in_layer, len_layers, aLeft_mean, aLeft_var, zLeft_mean, zLeft_var, aRight, zRight, gradients, loss_gradient)\n",
    "\n",
    "# Print results\n",
    "print(\"Forward Pass Output:\")\n",
    "print(aRight[-1])\n",
    "print(\"\\nGradient Results:\")\n",
    "print(gradients)"
   ]
  },
  {
   "cell_type": "code",
   "execution_count": null,
   "metadata": {},
   "outputs": [],
   "source": []
  }
 ],
 "metadata": {
  "kernelspec": {
   "display_name": "Python 3",
   "language": "python",
   "name": "python3"
  },
  "language_info": {
   "codemirror_mode": {
    "name": "ipython",
    "version": 3
   },
   "file_extension": ".py",
   "mimetype": "text/x-python",
   "name": "python",
   "nbconvert_exporter": "python",
   "pygments_lexer": "ipython3",
   "version": "3.10.0"
  }
 },
 "nbformat": 4,
 "nbformat_minor": 2
}
