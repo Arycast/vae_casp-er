{
 "cells": [
  {
   "cell_type": "markdown",
   "metadata": {},
   "source": [
    "# Libraries Used"
   ]
  },
  {
   "cell_type": "code",
   "execution_count": 1,
   "metadata": {},
   "outputs": [],
   "source": [
    "# Libraries needed\n",
    "import matplotlib.pyplot as plt\n",
    "import pandas as pd\n",
    "import numpy as np\n",
    "import h5py\n",
    "\n",
    "# Every time there is changed safe from wafer_data.py, restart the ipynb kernel\n",
    "from wafer_data import WaferData\n"
   ]
  },
  {
   "cell_type": "code",
   "execution_count": 2,
   "metadata": {},
   "outputs": [
    {
     "name": "stdout",
     "output_type": "stream",
     "text": [
      "<class 'pandas.core.frame.DataFrame'>\n",
      "RangeIndex: 811457 entries, 0 to 811456\n",
      "Data columns (total 6 columns):\n",
      " #   Column          Non-Null Count   Dtype  \n",
      "---  ------          --------------   -----  \n",
      " 0   dieSize         811457 non-null  float64\n",
      " 1   failureType     811457 non-null  object \n",
      " 2   lotName         811457 non-null  object \n",
      " 3   trainTestLabel  811457 non-null  object \n",
      " 4   waferIndex      811457 non-null  float64\n",
      " 5   waferMap        811457 non-null  object \n",
      "dtypes: float64(2), object(4)\n",
      "memory usage: 37.1+ MB\n"
     ]
    }
   ],
   "source": [
    "df=pd.read_pickle(\"WM811K.pkl\")\n",
    "df.info()"
   ]
  },
  {
   "cell_type": "code",
   "execution_count": 3,
   "metadata": {},
   "outputs": [
    {
     "data": {
      "text/html": [
       "<div>\n",
       "<style scoped>\n",
       "    .dataframe tbody tr th:only-of-type {\n",
       "        vertical-align: middle;\n",
       "    }\n",
       "\n",
       "    .dataframe tbody tr th {\n",
       "        vertical-align: top;\n",
       "    }\n",
       "\n",
       "    .dataframe thead th {\n",
       "        text-align: right;\n",
       "    }\n",
       "</style>\n",
       "<table border=\"1\" class=\"dataframe\">\n",
       "  <thead>\n",
       "    <tr style=\"text-align: right;\">\n",
       "      <th></th>\n",
       "      <th>dieSize</th>\n",
       "      <th>failureType</th>\n",
       "      <th>lotName</th>\n",
       "      <th>trainTestLabel</th>\n",
       "      <th>waferIndex</th>\n",
       "      <th>waferMap</th>\n",
       "    </tr>\n",
       "  </thead>\n",
       "  <tbody>\n",
       "    <tr>\n",
       "      <th>0</th>\n",
       "      <td>1683.0</td>\n",
       "      <td>none</td>\n",
       "      <td>lot1</td>\n",
       "      <td>Training</td>\n",
       "      <td>1.0</td>\n",
       "      <td>[[0, 0, 0, 0, 0, 0, 0, 0, 0, 0, 0, 0, 0, 0, 0,...</td>\n",
       "    </tr>\n",
       "    <tr>\n",
       "      <th>1</th>\n",
       "      <td>1683.0</td>\n",
       "      <td>none</td>\n",
       "      <td>lot1</td>\n",
       "      <td>Training</td>\n",
       "      <td>2.0</td>\n",
       "      <td>[[0, 0, 0, 0, 0, 0, 0, 0, 0, 0, 0, 0, 0, 0, 0,...</td>\n",
       "    </tr>\n",
       "    <tr>\n",
       "      <th>2</th>\n",
       "      <td>1683.0</td>\n",
       "      <td>none</td>\n",
       "      <td>lot1</td>\n",
       "      <td>Training</td>\n",
       "      <td>3.0</td>\n",
       "      <td>[[0, 0, 0, 0, 0, 0, 0, 0, 0, 0, 0, 0, 0, 0, 0,...</td>\n",
       "    </tr>\n",
       "    <tr>\n",
       "      <th>3</th>\n",
       "      <td>1683.0</td>\n",
       "      <td>none</td>\n",
       "      <td>lot1</td>\n",
       "      <td>Training</td>\n",
       "      <td>4.0</td>\n",
       "      <td>[[0, 0, 0, 0, 0, 0, 0, 0, 0, 0, 0, 0, 0, 0, 0,...</td>\n",
       "    </tr>\n",
       "    <tr>\n",
       "      <th>4</th>\n",
       "      <td>1683.0</td>\n",
       "      <td>none</td>\n",
       "      <td>lot1</td>\n",
       "      <td>Training</td>\n",
       "      <td>5.0</td>\n",
       "      <td>[[0, 0, 0, 0, 0, 0, 0, 0, 0, 0, 0, 0, 0, 0, 0,...</td>\n",
       "    </tr>\n",
       "  </tbody>\n",
       "</table>\n",
       "</div>"
      ],
      "text/plain": [
       "   dieSize failureType lotName trainTestLabel  waferIndex  \\\n",
       "0   1683.0        none    lot1       Training         1.0   \n",
       "1   1683.0        none    lot1       Training         2.0   \n",
       "2   1683.0        none    lot1       Training         3.0   \n",
       "3   1683.0        none    lot1       Training         4.0   \n",
       "4   1683.0        none    lot1       Training         5.0   \n",
       "\n",
       "                                            waferMap  \n",
       "0  [[0, 0, 0, 0, 0, 0, 0, 0, 0, 0, 0, 0, 0, 0, 0,...  \n",
       "1  [[0, 0, 0, 0, 0, 0, 0, 0, 0, 0, 0, 0, 0, 0, 0,...  \n",
       "2  [[0, 0, 0, 0, 0, 0, 0, 0, 0, 0, 0, 0, 0, 0, 0,...  \n",
       "3  [[0, 0, 0, 0, 0, 0, 0, 0, 0, 0, 0, 0, 0, 0, 0,...  \n",
       "4  [[0, 0, 0, 0, 0, 0, 0, 0, 0, 0, 0, 0, 0, 0, 0,...  "
      ]
     },
     "execution_count": 3,
     "metadata": {},
     "output_type": "execute_result"
    }
   ],
   "source": [
    "df.head()"
   ]
  },
  {
   "cell_type": "code",
   "execution_count": 4,
   "metadata": {},
   "outputs": [
    {
     "name": "stdout",
     "output_type": "stream",
     "text": [
      "300 244100\n",
      "205 283434\n",
      "6 742367\n",
      "3 745584\n",
      "0 2\n"
     ]
    }
   ],
   "source": [
    "max_col = 0\n",
    "max_row = 0\n",
    "min_col = 999\n",
    "min_row = 999\n",
    "\n",
    "max_val = 0\n",
    "min_val = 99999999\n",
    "for idx, data in enumerate(df['waferMap']):\n",
    "    size = data.shape\n",
    "    if max_row < size[0]: \n",
    "        max_row = size[0]\n",
    "        max_row_idx = idx\n",
    "    if max_col < size[1]:\n",
    "        max_col = size[1]\n",
    "        max_col_idx = idx\n",
    "    if min_row > size[0]:\n",
    "        min_row = size[0]\n",
    "        min_row_idx = idx\n",
    "    if min_col > size[1]:\n",
    "        min_col = size[1]\n",
    "        min_col_idx = idx\n",
    "\n",
    "    # if idx == 1: print(data)\n",
    "    temp_max = np.max(data)\n",
    "    temp_min = np.min(data)\n",
    "\n",
    "    # print(temp_min, temp_max)\n",
    "\n",
    "    if max_val < temp_max: max_val = temp_max\n",
    "    if min_val > temp_min: min_val = temp_min\n",
    "\n",
    "print(max_row, max_row_idx)\n",
    "print(max_col, max_col_idx)\n",
    "print(min_row, min_row_idx)\n",
    "print(min_col, min_col_idx)\n",
    "\n",
    "print(min_val, max_val)"
   ]
  },
  {
   "cell_type": "code",
   "execution_count": 5,
   "metadata": {},
   "outputs": [
    {
     "name": "stdout",
     "output_type": "stream",
     "text": [
      "(300, 202)\n",
      "(136, 205)\n",
      "(6, 21)\n",
      "(15, 3)\n"
     ]
    }
   ],
   "source": [
    "print(df.iloc[max_row_idx,:]['waferMap'].shape)\n",
    "print(df.iloc[max_col_idx,:]['waferMap'].shape)\n",
    "print(df.iloc[min_row_idx,:]['waferMap'].shape)\n",
    "print(df.iloc[min_col_idx,:]['waferMap'].shape)"
   ]
  },
  {
   "cell_type": "markdown",
   "metadata": {},
   "source": [
    "# Activation function"
   ]
  },
  {
   "cell_type": "code",
   "execution_count": 6,
   "metadata": {},
   "outputs": [],
   "source": [
    "def sigmoid(x):\n",
    "    return 1 / (1 + np.exp(-x))\n",
    "\n",
    "def softplus(x):\n",
    "    return np.log10(1+np.exp(x))\n",
    "\n",
    "def diff_softplus(x):\n",
    "    return sigmoid(x)"
   ]
  },
  {
   "cell_type": "markdown",
   "metadata": {},
   "source": [
    "# Additional Function"
   ]
  },
  {
   "cell_type": "code",
   "execution_count": 7,
   "metadata": {},
   "outputs": [
    {
     "name": "stdout",
     "output_type": "stream",
     "text": [
      "[array([[0.5, 0.5],\n",
      "        [0.5, 0.5],\n",
      "        [0.5, 0.5],\n",
      "        [0.5, 0.5],\n",
      "        [0.5, 0.5],\n",
      "        [0.5, 0.5],\n",
      "        [0.5, 0.5],\n",
      "        [0.5, 0.5],\n",
      "        [0.5, 0.5]])\n",
      " array([[0.5, 0.5, 0.5, 0.5, 0.5, 0.5, 0.5, 0.5, 0.5],\n",
      "        [0.5, 0.5, 0.5, 0.5, 0.5, 0.5, 0.5, 0.5, 0.5]])\n",
      " array([[0.5, 0.5],\n",
      "        [0.5, 0.5],\n",
      "        [0.5, 0.5],\n",
      "        [0.5, 0.5],\n",
      "        [0.5, 0.5],\n",
      "        [0.5, 0.5],\n",
      "        [0.5, 0.5],\n",
      "        [0.5, 0.5],\n",
      "        [0.5, 0.5]])]\n",
      "[array([[0.5],\n",
      "        [0.5],\n",
      "        [0.5],\n",
      "        [0.5],\n",
      "        [0.5],\n",
      "        [0.5],\n",
      "        [0.5],\n",
      "        [0.5],\n",
      "        [0.5]]) array([[0.5],\n",
      "                       [0.5]]) array([[0.5],\n",
      "                                      [0.5],\n",
      "                                      [0.5],\n",
      "                                      [0.5],\n",
      "                                      [0.5],\n",
      "                                      [0.5],\n",
      "                                      [0.5],\n",
      "                                      [0.5],\n",
      "                                      [0.5]])]\n"
     ]
    }
   ],
   "source": [
    "layer = [9,2,9]; len_layers = len(layer)\n",
    "in_layer = np.empty(len(layer), dtype=object)\n",
    "\n",
    "def fill_array_weight(layer, len_layers):\n",
    "    arr = np.empty(len_layers, dtype=object)\n",
    "\n",
    "    for i in range(len_layers//2 + 1):\n",
    "        arr[i] = np.full((layer[i],layer[i+1]),0.5)  # Create an array of zeros for each row, with length based on 'layer'\n",
    "    for i in range(len_layers//2 + 1, len_layers):\n",
    "        arr[i] = np.full((layer[i],layer[i-1]),0.5)\n",
    "    return arr\n",
    "\n",
    "def fill_array_bias(layer, len_layers):\n",
    "    arr = np.empty(len_layers, dtype=object)\n",
    "\n",
    "    for i in range(len_layers):\n",
    "        arr[i] = np.full((layer[i],1),0.5)  # Create an array of zeros for each row, with length based on 'layer'\n",
    "    return arr\n",
    "\n",
    "def fill_node(layer, len_layers):\n",
    "    arr = np.empty(len_layers, dtype=object)\n",
    "\n",
    "    for i in range(len_layers):\n",
    "        arr[i] = np.full((layer[i],1),0.5)  # Create an array of zeros for each row, with length based on 'layer'\n",
    "    return arr\n",
    "\n",
    "\n",
    "testing_weight = fill_array_weight(layer, len_layers)\n",
    "testing_bias = fill_array_bias(layer, len_layers)\n",
    "print(testing_weight)\n",
    "print(testing_bias)"
   ]
  },
  {
   "cell_type": "markdown",
   "metadata": {},
   "source": [
    "# Forward VAE"
   ]
  },
  {
   "cell_type": "code",
   "execution_count": 55,
   "metadata": {},
   "outputs": [
    {
     "name": "stdout",
     "output_type": "stream",
     "text": [
      "[[ 1.          2.          3.          4.          5.          6.\n",
      "   7.          8.          9.         10.        ]\n",
      " [ 0.5703423   0.9237131   1.32398466  1.74506034  2.17438885  2.60684207\n",
      "   3.04045722  3.47450152  3.90870393  4.34296454]]\n"
     ]
    }
   ],
   "source": [
    "def testing(kiwi, eagle):\n",
    "    eagle[0] = np.sqrt(kiwi)\n",
    "    eagle[1] = softplus(eagle[0])\n",
    "    return eagle\n",
    "\n",
    "nums = np.array([i**2 for i in range(1,11)])\n",
    "eagle = np.zeros((2,10))\n",
    "eagle = testing(nums,eagle)\n",
    "print(eagle)"
   ]
  },
  {
   "cell_type": "code",
   "execution_count": 16,
   "metadata": {},
   "outputs": [],
   "source": [
    "def forward(pixel, wLeft_mean, wLeft_var, bLeft_mean, bLeft_var, wRight, bRight, in_layer, len_layers, aLeft_mean, aLeft_var, zLeft_mean, zLeft_var, aRight, zRight):\n",
    "    in_layer[0] = pixel\n",
    "    for layer in range (len_layers//2):\n",
    "        # print(layer)\n",
    "        zLeft_mean[layer+1] = np.matmul(wLeft_mean[layer+1],in_layer[layer]) + bLeft_mean[layer+1]\n",
    "        zLeft_var[layer+1] = np.matmul(wLeft_var[layer+1],in_layer[layer]) + bLeft_var[layer+1]\n",
    "\n",
    "        aLeft_mean[layer+1] = zLeft_mean[layer+1]\n",
    "        aLeft_var[layer+1] = softplus(zLeft_var[layer+1])\n",
    "\n",
    "        eps = np.random.normal(size=zLeft_mean[layer+1].shape)\n",
    "        in_layer[layer+1] = aLeft_mean[layer+1] + np.sqrt(aLeft_var[layer+1]) * eps\n",
    "\n",
    "\n",
    "    for layer in range(len_layers//2, len_layers-1):\n",
    "        zRight[layer+1] = np.matmul(wRight[layer+1],in_layer[layer]) + bRight[layer+1]\n",
    "        aRight[layer+1] = sigmoid(zRight[layer+1])\n",
    "\n",
    "        in_layer[layer+1] = aRight[layer+1]\n"
   ]
  },
  {
   "cell_type": "code",
   "execution_count": 15,
   "metadata": {},
   "outputs": [
    {
     "name": "stdout",
     "output_type": "stream",
     "text": [
      "1\n",
      "[[ 4.90529756]\n",
      " [ 5.59816291]\n",
      " [ 4.90484199]\n",
      " [ 5.59066661]\n",
      " [-5.56176068]\n",
      " [ 5.59532083]\n",
      " [ 4.910939  ]\n",
      " [ 5.60034622]\n",
      " [ 4.89929822]]\n",
      "<class 'numpy.ndarray'>\n",
      "(9, 1)\n",
      "[[0.5]\n",
      " [0.5]\n",
      " [0.5]\n",
      " [0.5]\n",
      " [0.5]\n",
      " [0.5]\n",
      " [0.5]\n",
      " [0.5]\n",
      " [0.5]]\n",
      "<class 'numpy.ndarray'>\n",
      "(9, 1)\n",
      "[array([[0.5],\n",
      "        [0.5],\n",
      "        [0.5],\n",
      "        [0.5],\n",
      "        [0.5],\n",
      "        [0.5],\n",
      "        [0.5],\n",
      "        [0.5],\n",
      "        [0.5]]) array([[0.5],\n",
      "                       [0.5]]) array([[0.5],\n",
      "                                      [0.5],\n",
      "                                      [0.5],\n",
      "                                      [0.5],\n",
      "                                      [0.5],\n",
      "                                      [0.5],\n",
      "                                      [0.5],\n",
      "                                      [0.5],\n",
      "                                      [0.5]])]\n",
      "[[-0.03040244]\n",
      " [ 5.80306291]\n",
      " [-0.02855801]\n",
      " [ 5.79416661]\n",
      " [-5.75756068]\n",
      " [ 5.80022083]\n",
      " [-0.032061  ]\n",
      " [ 5.80534622]\n",
      " [-0.02710178]]\n"
     ]
    }
   ],
   "source": [
    "# Testing using x data\n",
    "\n",
    "layer = [9,2,9]; len_layers = len(layer)\n",
    "in_layer = np.empty(len(layer), dtype=object)\n",
    "# Populate the 'in_layer' with arrays of varying lengths\n",
    "for i, size in enumerate(layer):\n",
    "    in_layer[i] = np.zeros(size)  # Create an array of zeros for each row, with length based on 'layer'\n",
    "\n",
    "image = np.array([[1, 1, 1], [1, 0, 1], [1, 1, 1]])\n",
    "pixel = image.reshape(9,1)\n",
    "\n",
    "wLeft_mean  = [[0 for i in range(layer[0])],\n",
    "               [[0.0151, -0.0046, -0.0178, 0.0006, -0.0177, 0.0122, -0.3224, 2.0527, 0.2468],\n",
    "                [-0.0042, 0.0363, -0.0033, 0.0364, -0.0387, 0.0360, 0.3951, -0.1630, 0.5387]]]\n",
    "bLeft_mean  = [[0 for i in range(layer[1])],\n",
    "               [[-0.8641],\n",
    "                [-0.8743]]]\n",
    "\n",
    "wLeft_var   = [[0 for i in range(layer[0])],\n",
    "               [[0.0567, -0.0224, -0.0221, 0.0101, 0.0237, -0.0150, -0.0886, -0.0722, -0.3455],\n",
    "                [0.0436, -0.0386, 0.0429, -0.0360, 0.0827, -0.0475, 0.8645, 0.1661, 0.1577]]]\n",
    "bLeft_var   = [[0 for i in range(layer[1])],\n",
    "               [[-0.9129],\n",
    "                [-0.6264]]]\n",
    "\n",
    "wRight = [[0 for i in range(layer[0])],\n",
    "          [0 for i in range(layer[1])],\n",
    "          [[0.1393, 0.2673],\n",
    "           [4.9796, -0.1095],\n",
    "           [0.1383, 0.2631],\n",
    "           [4.9718, -0.1096],\n",
    "           [-4.9381,0.1126],\n",
    "           [4.9775, -0.1089],\n",
    "           [0.1435, 0.2764],\n",
    "           [4.9814, -0.1098],\n",
    "           [0.1338, 0.2538]]]\n",
    "\n",
    "bRight      = [[0 for i in range(layer[0])],\n",
    "               [0 for i in range(layer[1])],\n",
    "               [[4.9357],\n",
    "                [-0.2049],\n",
    "                [4.9334],\n",
    "                [-0.2035],\n",
    "                [0.1958],\n",
    "                [-0.2049],\n",
    "                [4.9430],\n",
    "                [-0.2050],\n",
    "                [4.9264]]]\n",
    "\n",
    "aLeft_mean  = fill_node(layer, len_layers)\n",
    "aLeft_var   = fill_node(layer, len_layers)\n",
    "zLeft_mean  = fill_node(layer, len_layers)\n",
    "zLeft_var   = fill_node(layer, len_layers)\n",
    "aRight      = fill_node(layer, len_layers)\n",
    "zRight      = fill_node(layer, len_layers)\n",
    "\n",
    "\n",
    "forward(pixel, wLeft_mean, wLeft_var, bLeft_mean, bLeft_var, wRight, bRight, in_layer, len_layers, aLeft_mean, aLeft_var, zLeft_mean, zLeft_var, aRight, zRight)\n",
    "print(zRight)"
   ]
  }
 ],
 "metadata": {
  "kernelspec": {
   "display_name": "Python 3",
   "language": "python",
   "name": "python3"
  },
  "language_info": {
   "codemirror_mode": {
    "name": "ipython",
    "version": 3
   },
   "file_extension": ".py",
   "mimetype": "text/x-python",
   "name": "python",
   "nbconvert_exporter": "python",
   "pygments_lexer": "ipython3",
   "version": "3.10.0"
  }
 },
 "nbformat": 4,
 "nbformat_minor": 2
}
