{
 "cells": [
  {
   "cell_type": "markdown",
   "metadata": {},
   "source": [
    "# Libraries Used"
   ]
  },
  {
   "cell_type": "code",
   "execution_count": 46,
   "metadata": {},
   "outputs": [],
   "source": [
    "# Libraries needed\n",
    "import matplotlib.pyplot as plt\n",
    "import pandas as pd\n",
    "import numpy as np\n",
    "import matplotlib.colors as mcolors\n"
   ]
  },
  {
   "cell_type": "code",
   "execution_count": 2,
   "metadata": {},
   "outputs": [
    {
     "name": "stdout",
     "output_type": "stream",
     "text": [
      "<class 'pandas.core.frame.DataFrame'>\n",
      "RangeIndex: 811457 entries, 0 to 811456\n",
      "Data columns (total 6 columns):\n",
      " #   Column          Non-Null Count   Dtype  \n",
      "---  ------          --------------   -----  \n",
      " 0   dieSize         811457 non-null  float64\n",
      " 1   failureType     811457 non-null  object \n",
      " 2   lotName         811457 non-null  object \n",
      " 3   trainTestLabel  811457 non-null  object \n",
      " 4   waferIndex      811457 non-null  float64\n",
      " 5   waferMap        811457 non-null  object \n",
      "dtypes: float64(2), object(4)\n",
      "memory usage: 37.1+ MB\n"
     ]
    }
   ],
   "source": [
    "df=pd.read_pickle(\"WM811K.pkl\")\n",
    "df.info()"
   ]
  },
  {
   "cell_type": "code",
   "execution_count": 3,
   "metadata": {},
   "outputs": [
    {
     "data": {
      "text/html": [
       "<div>\n",
       "<style scoped>\n",
       "    .dataframe tbody tr th:only-of-type {\n",
       "        vertical-align: middle;\n",
       "    }\n",
       "\n",
       "    .dataframe tbody tr th {\n",
       "        vertical-align: top;\n",
       "    }\n",
       "\n",
       "    .dataframe thead th {\n",
       "        text-align: right;\n",
       "    }\n",
       "</style>\n",
       "<table border=\"1\" class=\"dataframe\">\n",
       "  <thead>\n",
       "    <tr style=\"text-align: right;\">\n",
       "      <th></th>\n",
       "      <th>dieSize</th>\n",
       "      <th>failureType</th>\n",
       "      <th>lotName</th>\n",
       "      <th>trainTestLabel</th>\n",
       "      <th>waferIndex</th>\n",
       "      <th>waferMap</th>\n",
       "    </tr>\n",
       "  </thead>\n",
       "  <tbody>\n",
       "    <tr>\n",
       "      <th>0</th>\n",
       "      <td>1683.0</td>\n",
       "      <td>none</td>\n",
       "      <td>lot1</td>\n",
       "      <td>Training</td>\n",
       "      <td>1.0</td>\n",
       "      <td>[[0, 0, 0, 0, 0, 0, 0, 0, 0, 0, 0, 0, 0, 0, 0,...</td>\n",
       "    </tr>\n",
       "    <tr>\n",
       "      <th>1</th>\n",
       "      <td>1683.0</td>\n",
       "      <td>none</td>\n",
       "      <td>lot1</td>\n",
       "      <td>Training</td>\n",
       "      <td>2.0</td>\n",
       "      <td>[[0, 0, 0, 0, 0, 0, 0, 0, 0, 0, 0, 0, 0, 0, 0,...</td>\n",
       "    </tr>\n",
       "    <tr>\n",
       "      <th>2</th>\n",
       "      <td>1683.0</td>\n",
       "      <td>none</td>\n",
       "      <td>lot1</td>\n",
       "      <td>Training</td>\n",
       "      <td>3.0</td>\n",
       "      <td>[[0, 0, 0, 0, 0, 0, 0, 0, 0, 0, 0, 0, 0, 0, 0,...</td>\n",
       "    </tr>\n",
       "    <tr>\n",
       "      <th>3</th>\n",
       "      <td>1683.0</td>\n",
       "      <td>none</td>\n",
       "      <td>lot1</td>\n",
       "      <td>Training</td>\n",
       "      <td>4.0</td>\n",
       "      <td>[[0, 0, 0, 0, 0, 0, 0, 0, 0, 0, 0, 0, 0, 0, 0,...</td>\n",
       "    </tr>\n",
       "    <tr>\n",
       "      <th>4</th>\n",
       "      <td>1683.0</td>\n",
       "      <td>none</td>\n",
       "      <td>lot1</td>\n",
       "      <td>Training</td>\n",
       "      <td>5.0</td>\n",
       "      <td>[[0, 0, 0, 0, 0, 0, 0, 0, 0, 0, 0, 0, 0, 0, 0,...</td>\n",
       "    </tr>\n",
       "  </tbody>\n",
       "</table>\n",
       "</div>"
      ],
      "text/plain": [
       "   dieSize failureType lotName trainTestLabel  waferIndex  \\\n",
       "0   1683.0        none    lot1       Training         1.0   \n",
       "1   1683.0        none    lot1       Training         2.0   \n",
       "2   1683.0        none    lot1       Training         3.0   \n",
       "3   1683.0        none    lot1       Training         4.0   \n",
       "4   1683.0        none    lot1       Training         5.0   \n",
       "\n",
       "                                            waferMap  \n",
       "0  [[0, 0, 0, 0, 0, 0, 0, 0, 0, 0, 0, 0, 0, 0, 0,...  \n",
       "1  [[0, 0, 0, 0, 0, 0, 0, 0, 0, 0, 0, 0, 0, 0, 0,...  \n",
       "2  [[0, 0, 0, 0, 0, 0, 0, 0, 0, 0, 0, 0, 0, 0, 0,...  \n",
       "3  [[0, 0, 0, 0, 0, 0, 0, 0, 0, 0, 0, 0, 0, 0, 0,...  \n",
       "4  [[0, 0, 0, 0, 0, 0, 0, 0, 0, 0, 0, 0, 0, 0, 0,...  "
      ]
     },
     "execution_count": 3,
     "metadata": {},
     "output_type": "execute_result"
    }
   ],
   "source": [
    "df.head()"
   ]
  },
  {
   "cell_type": "code",
   "execution_count": 4,
   "metadata": {},
   "outputs": [
    {
     "name": "stdout",
     "output_type": "stream",
     "text": [
      "300 244100\n",
      "205 283434\n",
      "6 742367\n",
      "3 745584\n",
      "0 2\n"
     ]
    }
   ],
   "source": [
    "max_col = 0\n",
    "max_row = 0\n",
    "min_col = 999\n",
    "min_row = 999\n",
    "\n",
    "max_val = 0\n",
    "min_val = 99999999\n",
    "for idx, data in enumerate(df['waferMap']):\n",
    "    size = data.shape\n",
    "    if max_row < size[0]: \n",
    "        max_row = size[0]\n",
    "        max_row_idx = idx\n",
    "    if max_col < size[1]:\n",
    "        max_col = size[1]\n",
    "        max_col_idx = idx\n",
    "    if min_row > size[0]:\n",
    "        min_row = size[0]\n",
    "        min_row_idx = idx\n",
    "    if min_col > size[1]:\n",
    "        min_col = size[1]\n",
    "        min_col_idx = idx\n",
    "\n",
    "    # if idx == 1: print(data)\n",
    "    temp_max = np.max(data)\n",
    "    temp_min = np.min(data)\n",
    "\n",
    "    # print(temp_min, temp_max)\n",
    "\n",
    "    if max_val < temp_max: max_val = temp_max\n",
    "    if min_val > temp_min: min_val = temp_min\n",
    "\n",
    "print(max_row, max_row_idx)\n",
    "print(max_col, max_col_idx)\n",
    "print(min_row, min_row_idx)\n",
    "print(min_col, min_col_idx)\n",
    "\n",
    "print(min_val, max_val)"
   ]
  },
  {
   "cell_type": "code",
   "execution_count": 5,
   "metadata": {},
   "outputs": [
    {
     "name": "stdout",
     "output_type": "stream",
     "text": [
      "(300, 202)\n",
      "(136, 205)\n",
      "(6, 21)\n",
      "(15, 3)\n"
     ]
    }
   ],
   "source": [
    "print(df.iloc[max_row_idx,:]['waferMap'].shape)\n",
    "print(df.iloc[max_col_idx,:]['waferMap'].shape)\n",
    "print(df.iloc[min_row_idx,:]['waferMap'].shape)\n",
    "print(df.iloc[min_col_idx,:]['waferMap'].shape)"
   ]
  },
  {
   "cell_type": "markdown",
   "metadata": {},
   "source": [
    "# Activation function"
   ]
  },
  {
   "cell_type": "code",
   "execution_count": 6,
   "metadata": {},
   "outputs": [],
   "source": [
    "def sigmoid(x):\n",
    "    return 1 / (1 + np.exp(-x))\n",
    "\n",
    "def softplus(x):\n",
    "    return np.log10(1+np.exp(x))\n",
    "\n",
    "def diff_softplus(x):\n",
    "    return sigmoid(x)"
   ]
  },
  {
   "cell_type": "markdown",
   "metadata": {},
   "source": [
    "# Additional Function"
   ]
  },
  {
   "cell_type": "code",
   "execution_count": 25,
   "metadata": {},
   "outputs": [],
   "source": [
    "layer = [9,2,9]; len_layers = len(layer)\n",
    "in_layer = np.empty(len(layer), dtype=object)\n",
    "\n",
    "def fill_array_weight(layer, len_layers):\n",
    "    arr = np.empty(len_layers, dtype=object)\n",
    "\n",
    "    for i in range(len_layers//2 + 1):\n",
    "        arr[i] = np.full((layer[i],layer[i+1]),0.5)\n",
    "    for i in range(len_layers//2 + 1, len_layers):\n",
    "        arr[i] = np.full((layer[i],layer[i-1]),0.5)\n",
    "    return arr\n",
    "\n",
    "def fill_array_bias(layer, len_layers, col_num):\n",
    "    arr = np.empty(len_layers, dtype=object)\n",
    "\n",
    "    for i in range(len_layers):\n",
    "        arr[i] = np.full((layer[i],col_num),0.5)\n",
    "    return arr\n",
    "\n",
    "def fill_node(layer, len_layers):\n",
    "    arr = np.empty(len_layers, dtype=object)\n",
    "\n",
    "    for i in range(len_layers):\n",
    "        arr[i] = np.full((layer[i],1),0.5)\n",
    "    return arr\n",
    "\n",
    "\n",
    "# testing_weight = fill_array_weight(layer, len_layers)\n",
    "# testing_bias = fill_array_bias(layer, len_layers)\n",
    "# print(testing_weight)\n",
    "# print(testing_bias)"
   ]
  },
  {
   "cell_type": "markdown",
   "metadata": {},
   "source": [
    "# Forward VAE"
   ]
  },
  {
   "cell_type": "code",
   "execution_count": 8,
   "metadata": {},
   "outputs": [],
   "source": [
    "def forward(pixel, wLeft_mean, wLeft_var, bLeft_mean, bLeft_var, wRight, bRight, in_layer, len_layers, aLeft_mean, aLeft_var, zLeft_mean, zLeft_var, aRight, zRight):\n",
    "    in_layer[0] = pixel\n",
    "    for layer in range(len_layers // 2):\n",
    "        zLeft_mean[layer + 1] = np.matmul(wLeft_mean[layer + 1], in_layer[layer]) + bLeft_mean[layer + 1]\n",
    "        zLeft_var[layer + 1] = np.matmul(wLeft_var[layer + 1], in_layer[layer]) + bLeft_var[layer + 1]\n",
    "\n",
    "        aLeft_mean[layer + 1] = zLeft_mean[layer + 1]\n",
    "        aLeft_var[layer + 1] = softplus(zLeft_var[layer + 1])\n",
    "\n",
    "        eps = np.random.normal(size=zLeft_mean[layer + 1].shape)\n",
    "        in_layer[layer + 1] = aLeft_mean[layer + 1] + np.sqrt(aLeft_var[layer + 1]) * eps\n",
    "\n",
    "    for layer in range(len_layers // 2, len_layers - 1):\n",
    "        # zRight[layer + 1] = np.matmul(wRight[layer + 1 - len_layers // 2], in_layer[layer]) + bRight[layer + 1 - len_layers // 2]\n",
    "        zRight[layer+1] = np.matmul(wRight[layer+1],in_layer[layer]) + bRight[layer+1]\n",
    "        aRight[layer + 1] = sigmoid(zRight[layer + 1])\n",
    "\n",
    "        in_layer[layer + 1] = aRight[layer + 1]"
   ]
  },
  {
   "cell_type": "code",
   "execution_count": 9,
   "metadata": {},
   "outputs": [
    {
     "name": "stdout",
     "output_type": "stream",
     "text": [
      "[[1.]\n",
      " [1.]\n",
      " [1.]\n",
      " [1.]\n",
      " [0.]\n",
      " [1.]\n",
      " [1.]\n",
      " [1.]\n",
      " [1.]]\n"
     ]
    }
   ],
   "source": [
    "# Testing using O data\n",
    "\n",
    "layer = [9,2,9]; len_layers = len(layer)\n",
    "in_layer = np.empty(len(layer), dtype=object)\n",
    "# Populate the 'in_layer' with arrays of varying lengths\n",
    "for i, size in enumerate(layer):\n",
    "    in_layer[i] = np.zeros(size)  # Create an array of zeros for each row, with length based on 'layer'\n",
    "\n",
    "image = np.array([[1, 1, 1], [1, 0, 1], [1, 1, 1]])\n",
    "pixel = image.reshape(9,1)\n",
    "\n",
    "wLeft_mean  = [[0 for i in range(layer[0])],\n",
    "               [[0.0151, -0.0046, -0.0178, 0.0006, -0.0177, 0.0122, -0.3224, 2.0527, 0.2468],\n",
    "                [-0.0042, 0.0363, -0.0033, 0.0364, -0.0387, 0.0360, 0.3951, -0.1630, 0.5387]]]\n",
    "bLeft_mean  = [[0 for i in range(layer[1])],\n",
    "               [[-0.8641],\n",
    "                [-0.8743]]]\n",
    "\n",
    "wLeft_var   = [[0 for i in range(layer[0])],\n",
    "               [[0.0567, -0.0224, -0.0221, 0.0101, 0.0237, -0.0150, -0.0886, -0.0722, -0.3455],\n",
    "                [0.0436, -0.0386, 0.0429, -0.0360, 0.0827, -0.0475, 0.8645, 0.1661, 0.1577]]]\n",
    "bLeft_var   = [[0 for i in range(layer[1])],\n",
    "               [[-0.9129],\n",
    "                [-0.6264]]]\n",
    "\n",
    "wRight = [[0 for i in range(layer[0])],\n",
    "          [0 for i in range(layer[1])],\n",
    "          [[0.1393, 0.2673],\n",
    "           [4.9796, -0.1095],\n",
    "           [0.1383, 0.2631],\n",
    "           [4.9718, -0.1096],\n",
    "           [-4.9381,0.1126],\n",
    "           [4.9775, -0.1089],\n",
    "           [0.1435, 0.2764],\n",
    "           [4.9814, -0.1098],\n",
    "           [0.1338, 0.2538]]]\n",
    "\n",
    "bRight      = [[0 for i in range(layer[0])],\n",
    "               [0 for i in range(layer[1])],\n",
    "               [[4.9357],\n",
    "                [-0.2049],\n",
    "                [4.9334],\n",
    "                [-0.2035],\n",
    "                [0.1958],\n",
    "                [-0.2049],\n",
    "                [4.9430],\n",
    "                [-0.2050],\n",
    "                [4.9264]]]\n",
    "\n",
    "aLeft_mean  = fill_node(layer, len_layers)\n",
    "aLeft_var   = fill_node(layer, len_layers)\n",
    "zLeft_mean  = fill_node(layer, len_layers)\n",
    "zLeft_var   = fill_node(layer, len_layers)\n",
    "aRight      = fill_node(layer, len_layers)\n",
    "zRight      = fill_node(layer, len_layers)\n",
    "\n",
    "\n",
    "forward(pixel, wLeft_mean, wLeft_var, bLeft_mean, bLeft_var, wRight, bRight, in_layer, len_layers, aLeft_mean, aLeft_var, zLeft_mean, zLeft_var, aRight, zRight)\n",
    "print(np.round(aRight[len_layers-1]))\n",
    "\n"
   ]
  },
  {
   "cell_type": "markdown",
   "metadata": {},
   "source": [
    "# Loss Function"
   ]
  },
  {
   "cell_type": "code",
   "execution_count": 10,
   "metadata": {},
   "outputs": [],
   "source": [
    "def reconstruction_loss(prev_out, label):\n",
    "    # Finding reconstruction loss using Binary Cross Entropy Error\n",
    "    err_rec = -label * np.log10(prev_out) - (1-label) * np.log10(1-prev_out)\n",
    "    return err_rec\n",
    "\n",
    "def regularization_loss(mean_latent, var_latent):\n",
    "    # Finding regularization loss using Binary Cross Entropy Error\n",
    "    err_reg = -0.5 * (1 + np.log10(var_latent) - np.square(mean_latent) - var_latent)\n",
    "    return err_reg\n",
    "\n",
    "def total_loss(prev_out, label, mean_latent, var_latent):\n",
    "    return np.sum(reconstruction_loss(prev_out,label)) + np.sum(regularization_loss(mean_latent,var_latent))"
   ]
  },
  {
   "cell_type": "markdown",
   "metadata": {},
   "source": [
    "# Backward VAE"
   ]
  },
  {
   "cell_type": "code",
   "execution_count": 26,
   "metadata": {},
   "outputs": [],
   "source": [
    "def train_vae(pixel,label, wLeft_mean, wLeft_var, bLeft_mean, bLeft_var, wRight, bRight, in_layer, len_layers, aLeft_mean, aLeft_var, zLeft_mean, zLeft_var, aRight, zRight, history_loss, epoch, rate):\n",
    "    in_layer[0] = pixel\n",
    "    for iter in range(epoch):\n",
    "        print(f\"[INFO] Training Epoch: {iter}/{epoch}\", end='\\r')\n",
    "        # Forward Propagation\n",
    "        for layer in range (len_layers//2):\n",
    "            # print(layer)\n",
    "            zLeft_mean[layer+1] = np.matmul(wLeft_mean[layer+1],in_layer[layer]) + bLeft_mean[layer+1]\n",
    "            zLeft_var[layer+1] = np.matmul(wLeft_var[layer+1],in_layer[layer]) + bLeft_var[layer+1]\n",
    "\n",
    "            aLeft_mean[layer+1] = zLeft_mean[layer+1]\n",
    "            aLeft_var[layer+1] = softplus(zLeft_var[layer+1])\n",
    "\n",
    "            eps = np.random.normal(size=zLeft_mean[layer+1].shape)\n",
    "            in_layer[layer+1] = aLeft_mean[layer+1] + np.sqrt(aLeft_var[layer+1]) * eps\n",
    "\n",
    "\n",
    "        for layer in range(len_layers//2, len_layers-1):\n",
    "            zRight[layer+1] = np.matmul(wRight[layer+1],in_layer[layer]) + bRight[layer+1]\n",
    "            aRight[layer+1] = sigmoid(zRight[layer+1])\n",
    "\n",
    "            in_layer[layer+1] = aRight[layer+1]\n",
    "        \n",
    "        # Backward Propagation\n",
    "        history_loss[iter] = total_loss(in_layer[len_layers-1], label, aLeft_mean[len_layers//2], aLeft_var[len_layers//2]) / pixel.shape[0]\n",
    "\n",
    "        for layer in (len_layers-1,len_layers//2+1,-1):\n",
    "            # Decoder part (right)\n",
    "            dEda_right = -label / in_layer[layer] + (1 - label) / (1 - in_layer[layer])\n",
    "            dEdz_right = dEda_right * in_layer[layer] * (1 - in_layer[layer])\n",
    "            delta_right = dEdz_right\n",
    "\n",
    "            dEdb_right = delta_right\n",
    "            # print(f'Data 1: {delta_right}')\n",
    "            # print()\n",
    "            # print(f'Data 2: {in_layer[layer-1].T}')\n",
    "            # print()\n",
    "            # print(f'Data 3: {delta_right * in_layer[layer-1].T}')\n",
    "            dEdw_right = np.dot(delta_right,in_layer[layer-1].T)\n",
    "\n",
    "            # Update decoder (right) weights and biases\n",
    "            wRight[layer] -= rate * dEdw_right\n",
    "            bRight[layer] -= rate * dEdb_right\n",
    "\n",
    "        # Encoder part (left)\n",
    "        delta_left_mean = delta_right\n",
    "        delta_left_var = delta_right\n",
    "        for layer in range(len_layers//2, 1, -1):  # Loop over the encoder layers\n",
    "            # For the encoder (left), compute the gradients for mean and variance\n",
    "            dEda_left_mean = np.matmul(wRight[layer + 1].T, delta_left_mean) + aLeft_mean[layer + 1]\n",
    "            dEda_left_var = np.matmul(wRight[layer + 1].T, delta_left_var) * eps / (2 * np.sqrt(aLeft_var[layer + 1])) + 0.5 * (1 - 1 / aLeft_var[layer + 1])\n",
    "\n",
    "            dEdz_left_mean = dEda_left_mean\n",
    "            dEdz2_left_var = dEda_left_var * (1 / (1 + np.exp(-zLeft_var[layer + 1])))  # Sigmoid derivative of softplus\n",
    "\n",
    "            delta_left_mean = dEdz_left_mean\n",
    "            delta_left_var = dEdz2_left_var\n",
    "\n",
    "            # Compute gradients for the encoder (left) layers\n",
    "            dEdb2_mean = np.sum(delta_left_mean, axis=1)\n",
    "            dEdw2_mean = np.matmul(in_layer[layer - 1].T, delta_left_mean)\n",
    "            dEdb2_var = np.sum(delta_left_var, axis=1)\n",
    "            dEdw2_var = np.matmul(in_layer[layer - 1].T, delta_left_var)\n",
    "\n",
    "            # Update encoder (left) weights and biases\n",
    "            wLeft_mean[layer + 1] -= rate * dEdw2_mean\n",
    "            bLeft_mean[layer + 1] -= rate * dEdb2_mean\n",
    "            wLeft_var[layer + 1] -= rate * dEdw2_var\n",
    "            bLeft_var[layer + 1] -= rate * dEdb2_var\n",
    "\n",
    "    print(f'[INFO] Training done after {epoch} epochs')\n",
    "            \n"
   ]
  },
  {
   "cell_type": "markdown",
   "metadata": {},
   "source": [
    "### Testing Training VAE for O case 3x3 Image"
   ]
  },
  {
   "cell_type": "code",
   "execution_count": 28,
   "metadata": {},
   "outputs": [
    {
     "name": "stdout",
     "output_type": "stream",
     "text": [
      "(9, 7)\n",
      "[INFO] Output Before Training: \n",
      " [[1. 1. 1. 1. 1. 1. 1.]\n",
      " [1. 1. 1. 1. 1. 1. 1.]\n",
      " [1. 1. 1. 1. 1. 1. 1.]\n",
      " [1. 1. 1. 1. 1. 1. 1.]\n",
      " [1. 1. 1. 1. 1. 1. 1.]\n",
      " [1. 1. 1. 1. 1. 1. 1.]\n",
      " [1. 1. 1. 1. 1. 1. 1.]\n",
      " [1. 1. 1. 1. 1. 1. 1.]\n",
      " [1. 1. 1. 1. 1. 1. 1.]]\n",
      "[INFO] Training done after 10000 epochs\n",
      "[INFO] Output After Training: \n",
      " [[1. 1. 1. 1. 1. 1. 1.]\n",
      " [1. 1. 1. 1. 1. 1. 1.]\n",
      " [1. 1. 1. 1. 1. 1. 1.]\n",
      " [1. 1. 1. 1. 1. 1. 1.]\n",
      " [0. 0. 0. 0. 0. 0. 0.]\n",
      " [1. 1. 1. 1. 1. 1. 1.]\n",
      " [1. 1. 1. 1. 1. 1. 1.]\n",
      " [1. 1. 1. 1. 1. 1. 1.]\n",
      " [1. 1. 1. 1. 1. 1. 1.]]\n"
     ]
    }
   ],
   "source": [
    "# Training test using O case\n",
    "\n",
    "layer = [9,2,9]; len_layers = len(layer)\n",
    "epoch = 10000\n",
    "rate = 0.001\n",
    "in_layer = np.empty(len(layer), dtype=object)\n",
    "\n",
    "# Populate the 'in_layer' with arrays of varying lengths\n",
    "for i, size in enumerate(layer):\n",
    "    in_layer[i] = np.zeros(size)  # Create an array of zeros for each row, with length based on 'layer'\n",
    "\n",
    "history_loss = np.empty(epoch, dtype=object)\n",
    "for i in range(epoch):\n",
    "    history_loss[i] = np.zeros(layer[-1])\n",
    "\n",
    "# print(in_layer)\n",
    "\n",
    "image = np.array([[1, 1, 1], [1, 0, 1], [1, 1, 1]])\n",
    "reshaped_image = image.reshape(9,1)\n",
    "label = reshaped_image.copy()\n",
    "\n",
    "testData = np.zeros((9, 7))\n",
    "testData[:,0] = np.array([[1, 1, 1], [1, 0, 1], [1, 1, 1]]).reshape(9,1).flatten()\n",
    "testData[:,1] = np.array([[0, 1, 1], [1, 0, 1], [1, 1, 1]]).reshape(9,1).flatten()\n",
    "testData[:,2] = np.array([[1, 0, 1], [1, 0, 1], [1, 1, 1]]).reshape(9,1).flatten()\n",
    "testData[:,3] = np.array([[1, 1, 0], [1, 0, 1], [1, 1, 1]]).reshape(9,1).flatten()\n",
    "testData[:,4] = np.array([[1, 1, 1], [0, 0, 1], [1, 1, 1]]).reshape(9,1).flatten()\n",
    "testData[:,5] = np.array([[1, 1, 1], [1, 1, 1], [1, 1, 1]]).reshape(9,1).flatten()\n",
    "testData[:,6] = np.array([[1, 1, 1], [1, 0, 0], [1, 1, 1]]).reshape(9,1).flatten()\n",
    "pixel = testData.copy()\n",
    "print(testData.shape)\n",
    "# pixel = reshaped_image.copy()\n",
    "\n",
    "wLeft_mean  = fill_array_weight(layer,len_layers)\n",
    "wLeft_var   = fill_array_weight(layer,len_layers)\n",
    "bLeft_mean  = fill_array_bias(layer,len_layers,testData.shape[1])\n",
    "bLeft_var   = fill_array_bias(layer,len_layers,testData.shape[1])\n",
    "\n",
    "wRight      = fill_array_weight(layer,len_layers)\n",
    "bRight      = fill_array_bias(layer,len_layers,testData.shape[1])\n",
    "\n",
    "aLeft_mean  = fill_node(layer, len_layers)\n",
    "aLeft_var   = fill_node(layer, len_layers)\n",
    "zLeft_mean  = fill_node(layer, len_layers)\n",
    "zLeft_var   = fill_node(layer, len_layers)\n",
    "aRight      = fill_node(layer, len_layers)\n",
    "zRight      = fill_node(layer, len_layers)\n",
    "\n",
    "# testing before training\n",
    "forward(pixel, wLeft_mean, wLeft_var, bLeft_mean, bLeft_var, wRight, bRight, in_layer, len_layers, aLeft_mean, aLeft_var, zLeft_mean, zLeft_var, aRight, zRight)\n",
    "print(f'[INFO] Output Before Training: \\n {np.round(aRight[len_layers-1])}')\n",
    "\n",
    "train_vae(pixel,label, wLeft_mean, wLeft_var, bLeft_mean, bLeft_var, wRight, bRight, in_layer, len_layers, aLeft_mean, aLeft_var, zLeft_mean, zLeft_var, aRight, zRight, history_loss, epoch, rate)\n",
    "\n",
    "forward(pixel, wLeft_mean, wLeft_var, bLeft_mean, bLeft_var, wRight, bRight, in_layer, len_layers, aLeft_mean, aLeft_var, zLeft_mean, zLeft_var, aRight, zRight)\n",
    "print(f'[INFO] Output After Training: \\n {np.round(aRight[len_layers-1])}')"
   ]
  },
  {
   "cell_type": "markdown",
   "metadata": {},
   "source": [
    "#### Plotting Loss"
   ]
  },
  {
   "cell_type": "code",
   "execution_count": 14,
   "metadata": {},
   "outputs": [
    {
     "data": {
      "image/png": "[encoded data removed]",
      "text/plain": [
       "<Figure size 1440x648 with 1 Axes>"
      ]
     },
     "metadata": {
      "needs_background": "light"
     },
     "output_type": "display_data"
    }
   ],
   "source": [
    "# Plotting the loss\n",
    "plt.figure(figsize=(20, 9))\n",
    "plt.plot(range(epoch), history_loss, label='Training Loss')\n",
    "plt.xlabel('Epochs')\n",
    "plt.ylabel('Loss')\n",
    "plt.title('Training Loss Over Epochs')\n",
    "plt.legend()\n",
    "plt.show()"
   ]
  },
  {
   "cell_type": "markdown",
   "metadata": {},
   "source": [
    "# Training Good Wafer Data"
   ]
  },
  {
   "cell_type": "markdown",
   "metadata": {},
   "source": [
    "### Get Good Wafer Data"
   ]
  },
  {
   "cell_type": "code",
   "execution_count": 30,
   "metadata": {},
   "outputs": [
    {
     "name": "stderr",
     "output_type": "stream",
     "text": [
      "c:\\Users\\fauza\\AppData\\Local\\Programs\\Python\\Python310\\lib\\site-packages\\pandas\\core\\ops\\array_ops.py:129: FutureWarning: elementwise comparison failed; returning scalar instead, but in the future will perform elementwise comparison\n",
      "  result = libops.scalar_compare(x.ravel(), y, op)\n"
     ]
    }
   ],
   "source": [
    "good_wafer_df = df[(df['trainTestLabel'] == 'Training') & (df['failureType'] == 'none')]"
   ]
  },
  {
   "cell_type": "code",
   "execution_count": 32,
   "metadata": {},
   "outputs": [
    {
     "data": {
      "text/html": [
       "<div>\n",
       "<style scoped>\n",
       "    .dataframe tbody tr th:only-of-type {\n",
       "        vertical-align: middle;\n",
       "    }\n",
       "\n",
       "    .dataframe tbody tr th {\n",
       "        vertical-align: top;\n",
       "    }\n",
       "\n",
       "    .dataframe thead th {\n",
       "        text-align: right;\n",
       "    }\n",
       "</style>\n",
       "<table border=\"1\" class=\"dataframe\">\n",
       "  <thead>\n",
       "    <tr style=\"text-align: right;\">\n",
       "      <th></th>\n",
       "      <th>dieSize</th>\n",
       "      <th>failureType</th>\n",
       "      <th>lotName</th>\n",
       "      <th>trainTestLabel</th>\n",
       "      <th>waferIndex</th>\n",
       "      <th>waferMap</th>\n",
       "    </tr>\n",
       "  </thead>\n",
       "  <tbody>\n",
       "    <tr>\n",
       "      <th>0</th>\n",
       "      <td>1683.0</td>\n",
       "      <td>none</td>\n",
       "      <td>lot1</td>\n",
       "      <td>Training</td>\n",
       "      <td>1.0</td>\n",
       "      <td>[[0, 0, 0, 0, 0, 0, 0, 0, 0, 0, 0, 0, 0, 0, 0,...</td>\n",
       "    </tr>\n",
       "    <tr>\n",
       "      <th>1</th>\n",
       "      <td>1683.0</td>\n",
       "      <td>none</td>\n",
       "      <td>lot1</td>\n",
       "      <td>Training</td>\n",
       "      <td>2.0</td>\n",
       "      <td>[[0, 0, 0, 0, 0, 0, 0, 0, 0, 0, 0, 0, 0, 0, 0,...</td>\n",
       "    </tr>\n",
       "    <tr>\n",
       "      <th>2</th>\n",
       "      <td>1683.0</td>\n",
       "      <td>none</td>\n",
       "      <td>lot1</td>\n",
       "      <td>Training</td>\n",
       "      <td>3.0</td>\n",
       "      <td>[[0, 0, 0, 0, 0, 0, 0, 0, 0, 0, 0, 0, 0, 0, 0,...</td>\n",
       "    </tr>\n",
       "    <tr>\n",
       "      <th>3</th>\n",
       "      <td>1683.0</td>\n",
       "      <td>none</td>\n",
       "      <td>lot1</td>\n",
       "      <td>Training</td>\n",
       "      <td>4.0</td>\n",
       "      <td>[[0, 0, 0, 0, 0, 0, 0, 0, 0, 0, 0, 0, 0, 0, 0,...</td>\n",
       "    </tr>\n",
       "    <tr>\n",
       "      <th>4</th>\n",
       "      <td>1683.0</td>\n",
       "      <td>none</td>\n",
       "      <td>lot1</td>\n",
       "      <td>Training</td>\n",
       "      <td>5.0</td>\n",
       "      <td>[[0, 0, 0, 0, 0, 0, 0, 0, 0, 0, 0, 0, 0, 0, 0,...</td>\n",
       "    </tr>\n",
       "    <tr>\n",
       "      <th>...</th>\n",
       "      <td>...</td>\n",
       "      <td>...</td>\n",
       "      <td>...</td>\n",
       "      <td>...</td>\n",
       "      <td>...</td>\n",
       "      <td>...</td>\n",
       "    </tr>\n",
       "    <tr>\n",
       "      <th>791472</th>\n",
       "      <td>1534.0</td>\n",
       "      <td>none</td>\n",
       "      <td>lot46729</td>\n",
       "      <td>Training</td>\n",
       "      <td>21.0</td>\n",
       "      <td>[[0, 0, 0, 0, 0, 0, 0, 0, 0, 0, 0, 0, 0, 0, 0,...</td>\n",
       "    </tr>\n",
       "    <tr>\n",
       "      <th>791473</th>\n",
       "      <td>1534.0</td>\n",
       "      <td>none</td>\n",
       "      <td>lot46729</td>\n",
       "      <td>Training</td>\n",
       "      <td>22.0</td>\n",
       "      <td>[[0, 0, 0, 0, 0, 0, 0, 0, 0, 0, 0, 0, 0, 0, 0,...</td>\n",
       "    </tr>\n",
       "    <tr>\n",
       "      <th>791474</th>\n",
       "      <td>1534.0</td>\n",
       "      <td>none</td>\n",
       "      <td>lot46729</td>\n",
       "      <td>Training</td>\n",
       "      <td>23.0</td>\n",
       "      <td>[[0, 0, 0, 0, 0, 0, 0, 0, 0, 0, 0, 0, 0, 0, 0,...</td>\n",
       "    </tr>\n",
       "    <tr>\n",
       "      <th>791475</th>\n",
       "      <td>1534.0</td>\n",
       "      <td>none</td>\n",
       "      <td>lot46729</td>\n",
       "      <td>Training</td>\n",
       "      <td>24.0</td>\n",
       "      <td>[[0, 0, 0, 0, 0, 0, 0, 0, 0, 0, 0, 0, 0, 0, 0,...</td>\n",
       "    </tr>\n",
       "    <tr>\n",
       "      <th>791476</th>\n",
       "      <td>1534.0</td>\n",
       "      <td>none</td>\n",
       "      <td>lot46729</td>\n",
       "      <td>Training</td>\n",
       "      <td>25.0</td>\n",
       "      <td>[[0, 0, 0, 0, 0, 0, 0, 0, 0, 0, 0, 0, 0, 0, 0,...</td>\n",
       "    </tr>\n",
       "  </tbody>\n",
       "</table>\n",
       "<p>36730 rows × 6 columns</p>\n",
       "</div>"
      ],
      "text/plain": [
       "        dieSize failureType   lotName trainTestLabel  waferIndex  \\\n",
       "0        1683.0        none      lot1       Training         1.0   \n",
       "1        1683.0        none      lot1       Training         2.0   \n",
       "2        1683.0        none      lot1       Training         3.0   \n",
       "3        1683.0        none      lot1       Training         4.0   \n",
       "4        1683.0        none      lot1       Training         5.0   \n",
       "...         ...         ...       ...            ...         ...   \n",
       "791472   1534.0        none  lot46729       Training        21.0   \n",
       "791473   1534.0        none  lot46729       Training        22.0   \n",
       "791474   1534.0        none  lot46729       Training        23.0   \n",
       "791475   1534.0        none  lot46729       Training        24.0   \n",
       "791476   1534.0        none  lot46729       Training        25.0   \n",
       "\n",
       "                                                 waferMap  \n",
       "0       [[0, 0, 0, 0, 0, 0, 0, 0, 0, 0, 0, 0, 0, 0, 0,...  \n",
       "1       [[0, 0, 0, 0, 0, 0, 0, 0, 0, 0, 0, 0, 0, 0, 0,...  \n",
       "2       [[0, 0, 0, 0, 0, 0, 0, 0, 0, 0, 0, 0, 0, 0, 0,...  \n",
       "3       [[0, 0, 0, 0, 0, 0, 0, 0, 0, 0, 0, 0, 0, 0, 0,...  \n",
       "4       [[0, 0, 0, 0, 0, 0, 0, 0, 0, 0, 0, 0, 0, 0, 0,...  \n",
       "...                                                   ...  \n",
       "791472  [[0, 0, 0, 0, 0, 0, 0, 0, 0, 0, 0, 0, 0, 0, 0,...  \n",
       "791473  [[0, 0, 0, 0, 0, 0, 0, 0, 0, 0, 0, 0, 0, 0, 0,...  \n",
       "791474  [[0, 0, 0, 0, 0, 0, 0, 0, 0, 0, 0, 0, 0, 0, 0,...  \n",
       "791475  [[0, 0, 0, 0, 0, 0, 0, 0, 0, 0, 0, 0, 0, 0, 0,...  \n",
       "791476  [[0, 0, 0, 0, 0, 0, 0, 0, 0, 0, 0, 0, 0, 0, 0,...  \n",
       "\n",
       "[36730 rows x 6 columns]"
      ]
     },
     "execution_count": 32,
     "metadata": {},
     "output_type": "execute_result"
    }
   ],
   "source": [
    "good_wafer_df"
   ]
  },
  {
   "cell_type": "code",
   "execution_count": 42,
   "metadata": {},
   "outputs": [
    {
     "data": {
      "text/plain": [
       "(45, 48)"
      ]
     },
     "execution_count": 42,
     "metadata": {},
     "output_type": "execute_result"
    }
   ],
   "source": [
    "good_wafer_df['waferMap'][0].shape"
   ]
  },
  {
   "cell_type": "code",
   "execution_count": 47,
   "metadata": {},
   "outputs": [
    {
     "data": {
      "image/png": "[encoded data removed]",
      "text/plain": [
       "<Figure size 432x288 with 1 Axes>"
      ]
     },
     "metadata": {
      "needs_background": "light"
     },
     "output_type": "display_data"
    }
   ],
   "source": [
    "\n",
    "# Create a custom colormap\n",
    "cmap = mcolors.ListedColormap(['black', 'grey', 'white'])\n",
    "# Create an image of the array\n",
    "plt.imshow(good_wafer_df['waferMap'][0], cmap=cmap, interpolation='nearest')\n",
    "\n",
    "# Optionally, remove axis labels\n",
    "plt.axis('off')\n",
    "\n",
    "# Show the plot\n",
    "plt.show()"
   ]
  },
  {
   "cell_type": "code",
   "execution_count": 44,
   "metadata": {},
   "outputs": [
    {
     "data": {
      "text/plain": [
       "array([array([[0, 0, 0, ..., 0, 0, 0],\n",
       "              [0, 0, 0, ..., 0, 0, 0],\n",
       "              [0, 0, 0, ..., 0, 0, 0],\n",
       "              ...,\n",
       "              [0, 0, 0, ..., 0, 0, 0],\n",
       "              [0, 0, 0, ..., 0, 0, 0],\n",
       "              [0, 0, 0, ..., 0, 0, 0]], dtype=uint8),\n",
       "       array([[0, 0, 0, ..., 0, 0, 0],\n",
       "              [0, 0, 0, ..., 0, 0, 0],\n",
       "              [0, 0, 0, ..., 0, 0, 0],\n",
       "              ...,\n",
       "              [0, 0, 0, ..., 0, 0, 0],\n",
       "              [0, 0, 0, ..., 0, 0, 0],\n",
       "              [0, 0, 0, ..., 0, 0, 0]], dtype=uint8),\n",
       "       array([[0, 0, 0, ..., 0, 0, 0],\n",
       "              [0, 0, 0, ..., 0, 0, 0],\n",
       "              [0, 0, 0, ..., 0, 0, 0],\n",
       "              ...,\n",
       "              [0, 0, 0, ..., 0, 0, 0],\n",
       "              [0, 0, 0, ..., 0, 0, 0],\n",
       "              [0, 0, 0, ..., 0, 0, 0]], dtype=uint8),\n",
       "       array([[0, 0, 0, ..., 0, 0, 0],\n",
       "              [0, 0, 0, ..., 0, 0, 0],\n",
       "              [0, 0, 0, ..., 0, 0, 0],\n",
       "              ...,\n",
       "              [0, 0, 0, ..., 0, 0, 0],\n",
       "              [0, 0, 0, ..., 0, 0, 0],\n",
       "              [0, 0, 0, ..., 0, 0, 0]], dtype=uint8),\n",
       "       array([[0, 0, 0, ..., 0, 0, 0],\n",
       "              [0, 0, 0, ..., 0, 0, 0],\n",
       "              [0, 0, 0, ..., 0, 0, 0],\n",
       "              ...,\n",
       "              [0, 0, 0, ..., 0, 0, 0],\n",
       "              [0, 0, 0, ..., 0, 0, 0],\n",
       "              [0, 0, 0, ..., 0, 0, 0]], dtype=uint8)], dtype=object)"
      ]
     },
     "execution_count": 44,
     "metadata": {},
     "output_type": "execute_result"
    }
   ],
   "source": [
    "good_wafer_df['waferMap'][:5].to_numpy()"
   ]
  },
  {
   "cell_type": "code",
   "execution_count": 49,
   "metadata": {},
   "outputs": [
    {
     "data": {
      "image/png": "[encoded data removed]",
      "text/plain": [
       "<Figure size 432x288 with 1 Axes>"
      ]
     },
     "metadata": {
      "needs_background": "light"
     },
     "output_type": "display_data"
    }
   ],
   "source": [
    "max_shape = (300,204)\n",
    "\n",
    "def pad_flatten(np_arr, max_shape):\n",
    "     # Calculate padding for rows and columns\n",
    "    pad_rows = (max_shape[0] - np_arr.shape[0]) // 2\n",
    "    pad_cols = (max_shape[1] - np_arr.shape[1]) // 2\n",
    "\n",
    "    # Pad the array with zeros\n",
    "    padded_array = np.pad(np_arr, ((pad_rows, max_shape[0] - np_arr.shape[0] - pad_rows),\n",
    "                                   (pad_cols, max_shape[1] - np_arr.shape[1] - pad_cols)),\n",
    "                                   mode='constant', constant_values=0)\n",
    "    return padded_array\n",
    "    \n",
    "\n",
    "padded = pad_flatten(good_wafer_df['waferMap'][0],max_shape)\n",
    "cmap = mcolors.ListedColormap(['black', 'grey', 'white'])\n",
    "# Create an image of the array\n",
    "plt.imshow(padded, cmap=cmap, interpolation='nearest')\n",
    "\n",
    "# Optionally, remove axis labels\n",
    "plt.axis('off')\n",
    "\n",
    "# Show the plot\n",
    "plt.show()"
   ]
  }
 ],
 "metadata": {
  "kernelspec": {
   "display_name": "Python 3 (ipykernel)",
   "language": "python",
   "name": "python3"
  },
  "language_info": {
   "codemirror_mode": {
    "name": "ipython",
    "version": 3
   },
   "file_extension": ".py",
   "mimetype": "text/x-python",
   "name": "python",
   "nbconvert_exporter": "python",
   "pygments_lexer": "ipython3",
   "version": "3.10.4"
  }
 },
 "nbformat": 4,
 "nbformat_minor": 2
}
