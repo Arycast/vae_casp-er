{
 "cells": [
  {
   "cell_type": "code",
   "execution_count": null,
   "metadata": {},
   "outputs": [],
   "source": [
    "from pynq import Overlay\n",
    "from pynq import allocate\n",
    "import numpy as np\n",
    "\n",
    "\n",
    "# Program bitstream to FPGA\n",
    "overlay = Overlay('/home/xilinx/workspace/nn.bit')"
   ]
  },
  {
   "cell_type": "code",
   "execution_count": null,
   "metadata": {},
   "outputs": [],
   "source": [
    "# Access to AXI DMA\n",
    "dma = overlay.axi_dma_0\n",
    "dma_send = overlay.axi_dma_0.sendchannel\n",
    "dma_recv = overlay.axi_dma_0.recvchannel"
   ]
  },
  {
   "cell_type": "code",
   "execution_count": null,
   "metadata": {},
   "outputs": [],
   "source": [
    "# Allocate physical memory for AXI DMA MM2S\n",
    "input_buffer = allocate(shape=(40,), dtype=np.uint32)"
   ]
  },
  {
   "cell_type": "code",
   "execution_count": null,
   "metadata": {},
   "outputs": [
    {
     "ename": "SyntaxError",
     "evalue": "invalid hexadecimal literal (Temp/ipykernel_20648/1365387388.py, line 49)",
     "output_type": "error",
     "traceback": [
      "\u001b[1;36m  File \u001b[1;32m\"C:\\Users\\fauza\\AppData\\Local\\Temp/ipykernel_20648/1365387388.py\"\u001b[1;36m, line \u001b[1;32m49\u001b[0m\n\u001b[1;33m    input_buffer[21] = 0x\u001b[0m\n\u001b[1;37m                        ^\u001b[0m\n\u001b[1;31mSyntaxError\u001b[0m\u001b[1;31m:\u001b[0m invalid hexadecimal literal\n"
     ]
    }
   ],
   "source": [
    "# Input\n",
    "# in1 - in4\n",
    "input_buffer[0] = 0x00000100\n",
    "input_buffer[1] = 0x00000100\n",
    "\n",
    "# in5 - in8\n",
    "input_buffer[2] = 0x00000100\n",
    "input_buffer[3] = 0x00000100\n",
    "\n",
    "# in9 and wc11\n",
    "input_buffer[4] = 0x00040100\n",
    "\n",
    "# wc12 - wc15\n",
    "input_buffer[5] = 0xfffbffff\n",
    "input_buffer[6] = 0xfffb0000\n",
    "\n",
    "# wc16 - wc19\n",
    "input_buffer[7] = 0xffad0003\n",
    "input_buffer[8] = 0x003f020d\n",
    "\n",
    "# wd11 - wd14\n",
    "input_buffer[9] = 0xfffa000f\n",
    "input_buffer[10] = 0x0003fffa\n",
    "\n",
    "# wd15 - wd18\n",
    "input_buffer[11] = 0xfffc0006\n",
    "input_buffer[12] = 0xffeeffe9\n",
    "\n",
    "# wd19 and wc21\n",
    "input_buffer[13] = 0xffffffa8\n",
    "\n",
    "# wc22 - wc25\n",
    "input_buffer[14] = 0xffff0009\n",
    "input_buffer[15] = 0xfff60009\n",
    "\n",
    "# wc26 - wc29\n",
    "input_buffer[16] = 0x00650009\n",
    "input_buffer[17] = 0x008affd6\n",
    "\n",
    "# wd21 - wd24\n",
    "input_buffer[18] = 0xfff6000b\n",
    "input_buffer[19] = 0xfff7000b\n",
    "\n",
    "# wd25 - wd28\n",
    "input_buffer[20] = 0xfff40015\n",
    "input_buffer[21] = 0x002b00dd\n",
    "\n",
    "# wd29 and b21\n",
    "input_buffer[22] = 0xff230028\n",
    "\n",
    "# b22 and b23\n",
    "input_buffer[23] = 0xff20ff16\n",
    "\n",
    "# b24 and w11\n",
    "input_buffer[24] = 0x0024ff60\n",
    "\n",
    "# w12 and w21\n",
    "input_buffer[25] = 0x04fb0044\n",
    "\n",
    "# w22 and w31\n",
    "input_buffer[26] = 0x0023ffe4\n",
    "\n",
    "# w32 and w41\n",
    "input_buffer[27] = 0x04f90043\n",
    "\n",
    "# w42 and w51\n",
    "input_buffer[28] = 0xfb10ffe4\n",
    "\n",
    "# w52 and w61\n",
    "input_buffer[29] = 0x04fa001d\n",
    "\n",
    "# w62 and w71\n",
    "input_buffer[30] = 0x0025ffe4\n",
    "\n",
    "# w72 and w81\n",
    "input_buffer[31] = 0x04fb0047\n",
    "\n",
    "# w82 and w91\n",
    "input_buffer[32] = 0x0022ffe4\n",
    "\n",
    "# w92 and b31\n",
    "input_buffer[33] = 0x04f00041\n",
    "\n",
    "# b32 - b35\n",
    "input_buffer[34] = 0x04efffcc\n",
    "input_buffer[35] = 0x0032ffcc\n",
    "\n",
    "# b36 - b39\n",
    "input_buffer[36] = 0x04f1ffcc\n",
    "input_buffer[37] = 0x04edffcc \n",
    " "
   ]
  }
 ],
 "metadata": {
  "kernelspec": {
   "display_name": "Python 3",
   "language": "python",
   "name": "python3"
  },
  "language_info": {
   "codemirror_mode": {
    "name": "ipython",
    "version": 3
   },
   "file_extension": ".py",
   "mimetype": "text/x-python",
   "name": "python",
   "nbconvert_exporter": "python",
   "pygments_lexer": "ipython3",
   "version": "3.10.0"
  }
 },
 "nbformat": 4,
 "nbformat_minor": 2
}
