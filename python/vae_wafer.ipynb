{
 "cells": [
  {
   "cell_type": "markdown",
   "metadata": {},
   "source": [
    "# Libraries Used"
   ]
  },
  {
   "cell_type": "code",
   "execution_count": 7,
   "metadata": {},
   "outputs": [],
   "source": [
    "# Libraries needed\n",
    "import matplotlib.pyplot as plt\n",
    "import pandas as pd\n",
    "import numpy as np\n",
    "# import h5py\n",
    "\n",
    "# Every time there is changed safe from wafer_data.py, restart the ipynb kernel\n",
    "# from wafer_data import WaferData\n"
   ]
  },
  {
   "cell_type": "code",
   "execution_count": 8,
   "metadata": {},
   "outputs": [
    {
     "ename": "FileNotFoundError",
     "evalue": "[Errno 2] No such file or directory: 'WM811K.pkl'",
     "output_type": "error",
     "traceback": [
      "\u001b[1;31m---------------------------------------------------------------------------\u001b[0m",
      "\u001b[1;31mFileNotFoundError\u001b[0m                         Traceback (most recent call last)",
      "Cell \u001b[1;32mIn[8], line 1\u001b[0m\n\u001b[1;32m----> 1\u001b[0m df\u001b[38;5;241m=\u001b[39m\u001b[43mpd\u001b[49m\u001b[38;5;241;43m.\u001b[39;49m\u001b[43mread_pickle\u001b[49m\u001b[43m(\u001b[49m\u001b[38;5;124;43m\"\u001b[39;49m\u001b[38;5;124;43mWM811K.pkl\u001b[39;49m\u001b[38;5;124;43m\"\u001b[39;49m\u001b[43m)\u001b[49m\n\u001b[0;32m      2\u001b[0m df\u001b[38;5;241m.\u001b[39minfo()\n",
      "File \u001b[1;32mc:\\Python311\\Lib\\site-packages\\pandas\\io\\pickle.py:185\u001b[0m, in \u001b[0;36mread_pickle\u001b[1;34m(filepath_or_buffer, compression, storage_options)\u001b[0m\n\u001b[0;32m    123\u001b[0m \u001b[38;5;250m\u001b[39m\u001b[38;5;124;03m\"\"\"\u001b[39;00m\n\u001b[0;32m    124\u001b[0m \u001b[38;5;124;03mLoad pickled pandas object (or any object) from file.\u001b[39;00m\n\u001b[0;32m    125\u001b[0m \n\u001b[1;32m   (...)\u001b[0m\n\u001b[0;32m    182\u001b[0m \u001b[38;5;124;03m4    4    9\u001b[39;00m\n\u001b[0;32m    183\u001b[0m \u001b[38;5;124;03m\"\"\"\u001b[39;00m\n\u001b[0;32m    184\u001b[0m excs_to_catch \u001b[38;5;241m=\u001b[39m (\u001b[38;5;167;01mAttributeError\u001b[39;00m, \u001b[38;5;167;01mImportError\u001b[39;00m, \u001b[38;5;167;01mModuleNotFoundError\u001b[39;00m, \u001b[38;5;167;01mTypeError\u001b[39;00m)\n\u001b[1;32m--> 185\u001b[0m \u001b[38;5;28;01mwith\u001b[39;00m \u001b[43mget_handle\u001b[49m\u001b[43m(\u001b[49m\n\u001b[0;32m    186\u001b[0m \u001b[43m    \u001b[49m\u001b[43mfilepath_or_buffer\u001b[49m\u001b[43m,\u001b[49m\n\u001b[0;32m    187\u001b[0m \u001b[43m    \u001b[49m\u001b[38;5;124;43m\"\u001b[39;49m\u001b[38;5;124;43mrb\u001b[39;49m\u001b[38;5;124;43m\"\u001b[39;49m\u001b[43m,\u001b[49m\n\u001b[0;32m    188\u001b[0m \u001b[43m    \u001b[49m\u001b[43mcompression\u001b[49m\u001b[38;5;241;43m=\u001b[39;49m\u001b[43mcompression\u001b[49m\u001b[43m,\u001b[49m\n\u001b[0;32m    189\u001b[0m \u001b[43m    \u001b[49m\u001b[43mis_text\u001b[49m\u001b[38;5;241;43m=\u001b[39;49m\u001b[38;5;28;43;01mFalse\u001b[39;49;00m\u001b[43m,\u001b[49m\n\u001b[0;32m    190\u001b[0m \u001b[43m    \u001b[49m\u001b[43mstorage_options\u001b[49m\u001b[38;5;241;43m=\u001b[39;49m\u001b[43mstorage_options\u001b[49m\u001b[43m,\u001b[49m\n\u001b[0;32m    191\u001b[0m \u001b[43m\u001b[49m\u001b[43m)\u001b[49m \u001b[38;5;28;01mas\u001b[39;00m handles:\n\u001b[0;32m    192\u001b[0m     \u001b[38;5;66;03m# 1) try standard library Pickle\u001b[39;00m\n\u001b[0;32m    193\u001b[0m     \u001b[38;5;66;03m# 2) try pickle_compat (older pandas version) to handle subclass changes\u001b[39;00m\n\u001b[0;32m    194\u001b[0m     \u001b[38;5;66;03m# 3) try pickle_compat with latin-1 encoding upon a UnicodeDecodeError\u001b[39;00m\n\u001b[0;32m    196\u001b[0m     \u001b[38;5;28;01mtry\u001b[39;00m:\n\u001b[0;32m    197\u001b[0m         \u001b[38;5;66;03m# TypeError for Cython complaints about object.__new__ vs Tick.__new__\u001b[39;00m\n\u001b[0;32m    198\u001b[0m         \u001b[38;5;28;01mtry\u001b[39;00m:\n",
      "File \u001b[1;32mc:\\Python311\\Lib\\site-packages\\pandas\\io\\common.py:882\u001b[0m, in \u001b[0;36mget_handle\u001b[1;34m(path_or_buf, mode, encoding, compression, memory_map, is_text, errors, storage_options)\u001b[0m\n\u001b[0;32m    873\u001b[0m         handle \u001b[38;5;241m=\u001b[39m \u001b[38;5;28mopen\u001b[39m(\n\u001b[0;32m    874\u001b[0m             handle,\n\u001b[0;32m    875\u001b[0m             ioargs\u001b[38;5;241m.\u001b[39mmode,\n\u001b[1;32m   (...)\u001b[0m\n\u001b[0;32m    878\u001b[0m             newline\u001b[38;5;241m=\u001b[39m\u001b[38;5;124m\"\u001b[39m\u001b[38;5;124m\"\u001b[39m,\n\u001b[0;32m    879\u001b[0m         )\n\u001b[0;32m    880\u001b[0m     \u001b[38;5;28;01melse\u001b[39;00m:\n\u001b[0;32m    881\u001b[0m         \u001b[38;5;66;03m# Binary mode\u001b[39;00m\n\u001b[1;32m--> 882\u001b[0m         handle \u001b[38;5;241m=\u001b[39m \u001b[38;5;28;43mopen\u001b[39;49m\u001b[43m(\u001b[49m\u001b[43mhandle\u001b[49m\u001b[43m,\u001b[49m\u001b[43m \u001b[49m\u001b[43mioargs\u001b[49m\u001b[38;5;241;43m.\u001b[39;49m\u001b[43mmode\u001b[49m\u001b[43m)\u001b[49m\n\u001b[0;32m    883\u001b[0m     handles\u001b[38;5;241m.\u001b[39mappend(handle)\n\u001b[0;32m    885\u001b[0m \u001b[38;5;66;03m# Convert BytesIO or file objects passed with an encoding\u001b[39;00m\n",
      "\u001b[1;31mFileNotFoundError\u001b[0m: [Errno 2] No such file or directory: 'WM811K.pkl'"
     ]
    }
   ],
   "source": [
    "df=pd.read_pickle(\"WM811K.pkl\")\n",
    "df.info()"
   ]
  },
  {
   "cell_type": "code",
   "execution_count": 9,
   "metadata": {},
   "outputs": [
    {
     "ename": "NameError",
     "evalue": "name 'df' is not defined",
     "output_type": "error",
     "traceback": [
      "\u001b[1;31m---------------------------------------------------------------------------\u001b[0m",
      "\u001b[1;31mNameError\u001b[0m                                 Traceback (most recent call last)",
      "Cell \u001b[1;32mIn[9], line 1\u001b[0m\n\u001b[1;32m----> 1\u001b[0m \u001b[43mdf\u001b[49m\u001b[38;5;241m.\u001b[39mhead()\n",
      "\u001b[1;31mNameError\u001b[0m: name 'df' is not defined"
     ]
    }
   ],
   "source": [
    "df.head()"
   ]
  },
  {
   "cell_type": "code",
   "execution_count": 10,
   "metadata": {},
   "outputs": [
    {
     "ename": "NameError",
     "evalue": "name 'df' is not defined",
     "output_type": "error",
     "traceback": [
      "\u001b[1;31m---------------------------------------------------------------------------\u001b[0m",
      "\u001b[1;31mNameError\u001b[0m                                 Traceback (most recent call last)",
      "Cell \u001b[1;32mIn[10], line 8\u001b[0m\n\u001b[0;32m      6\u001b[0m max_val \u001b[38;5;241m=\u001b[39m \u001b[38;5;241m0\u001b[39m\n\u001b[0;32m      7\u001b[0m min_val \u001b[38;5;241m=\u001b[39m \u001b[38;5;241m99999999\u001b[39m\n\u001b[1;32m----> 8\u001b[0m \u001b[38;5;28;01mfor\u001b[39;00m idx, data \u001b[38;5;129;01min\u001b[39;00m \u001b[38;5;28menumerate\u001b[39m(\u001b[43mdf\u001b[49m[\u001b[38;5;124m'\u001b[39m\u001b[38;5;124mwaferMap\u001b[39m\u001b[38;5;124m'\u001b[39m]):\n\u001b[0;32m      9\u001b[0m     size \u001b[38;5;241m=\u001b[39m data\u001b[38;5;241m.\u001b[39mshape\n\u001b[0;32m     10\u001b[0m     \u001b[38;5;28;01mif\u001b[39;00m max_row \u001b[38;5;241m<\u001b[39m size[\u001b[38;5;241m0\u001b[39m]: \n",
      "\u001b[1;31mNameError\u001b[0m: name 'df' is not defined"
     ]
    }
   ],
   "source": [
    "max_col = 0\n",
    "max_row = 0\n",
    "min_col = 999\n",
    "min_row = 999\n",
    "\n",
    "max_val = 0\n",
    "min_val = 99999999\n",
    "for idx, data in enumerate(df['waferMap']):\n",
    "    size = data.shape\n",
    "    if max_row < size[0]: \n",
    "        max_row = size[0]\n",
    "        max_row_idx = idx\n",
    "    if max_col < size[1]:\n",
    "        max_col = size[1]\n",
    "        max_col_idx = idx\n",
    "    if min_row > size[0]:\n",
    "        min_row = size[0]\n",
    "        min_row_idx = idx\n",
    "    if min_col > size[1]:\n",
    "        min_col = size[1]\n",
    "        min_col_idx = idx\n",
    "\n",
    "    # if idx == 1: print(data)\n",
    "    temp_max = np.max(data)\n",
    "    temp_min = np.min(data)\n",
    "\n",
    "    # print(temp_min, temp_max)\n",
    "\n",
    "    if max_val < temp_max: max_val = temp_max\n",
    "    if min_val > temp_min: min_val = temp_min\n",
    "\n",
    "print(max_row, max_row_idx)\n",
    "print(max_col, max_col_idx)\n",
    "print(min_row, min_row_idx)\n",
    "print(min_col, min_col_idx)\n",
    "\n",
    "print(min_val, max_val)"
   ]
  },
  {
   "cell_type": "code",
   "execution_count": 5,
   "metadata": {},
   "outputs": [
    {
     "name": "stdout",
     "output_type": "stream",
     "text": [
      "(300, 202)\n",
      "(136, 205)\n",
      "(6, 21)\n",
      "(15, 3)\n"
     ]
    }
   ],
   "source": [
    "print(df.iloc[max_row_idx,:]['waferMap'].shape)\n",
    "print(df.iloc[max_col_idx,:]['waferMap'].shape)\n",
    "print(df.iloc[min_row_idx,:]['waferMap'].shape)\n",
    "print(df.iloc[min_col_idx,:]['waferMap'].shape)"
   ]
  },
  {
   "cell_type": "markdown",
   "metadata": {},
   "source": [
    "# Activation function"
   ]
  },
  {
   "cell_type": "code",
   "execution_count": 19,
   "metadata": {},
   "outputs": [],
   "source": [
    "def sigmoid(x):\n",
    "    return 1 / (1 + np.exp(-x))\n",
    "\n",
    "def softplus(x):\n",
    "    return np.log10(1+np.exp(x))\n",
    "\n",
    "def diff_softplus(x):\n",
    "    return sigmoid(x)"
   ]
  },
  {
   "cell_type": "markdown",
   "metadata": {},
   "source": [
    "# Additional Function"
   ]
  },
  {
   "cell_type": "code",
   "execution_count": 20,
   "metadata": {},
   "outputs": [
    {
     "name": "stdout",
     "output_type": "stream",
     "text": [
      "[array([[0.5, 0.5],\n",
      "        [0.5, 0.5],\n",
      "        [0.5, 0.5],\n",
      "        [0.5, 0.5],\n",
      "        [0.5, 0.5],\n",
      "        [0.5, 0.5],\n",
      "        [0.5, 0.5],\n",
      "        [0.5, 0.5],\n",
      "        [0.5, 0.5]])\n",
      " array([[0.5, 0.5, 0.5, 0.5, 0.5, 0.5, 0.5, 0.5, 0.5],\n",
      "        [0.5, 0.5, 0.5, 0.5, 0.5, 0.5, 0.5, 0.5, 0.5]])\n",
      " array([[0.5, 0.5],\n",
      "        [0.5, 0.5],\n",
      "        [0.5, 0.5],\n",
      "        [0.5, 0.5],\n",
      "        [0.5, 0.5],\n",
      "        [0.5, 0.5],\n",
      "        [0.5, 0.5],\n",
      "        [0.5, 0.5],\n",
      "        [0.5, 0.5]])]\n",
      "[array([[0.5],\n",
      "        [0.5],\n",
      "        [0.5],\n",
      "        [0.5],\n",
      "        [0.5],\n",
      "        [0.5],\n",
      "        [0.5],\n",
      "        [0.5],\n",
      "        [0.5]]) array([[0.5],\n",
      "                       [0.5]]) array([[0.5],\n",
      "                                      [0.5],\n",
      "                                      [0.5],\n",
      "                                      [0.5],\n",
      "                                      [0.5],\n",
      "                                      [0.5],\n",
      "                                      [0.5],\n",
      "                                      [0.5],\n",
      "                                      [0.5]])]\n"
     ]
    }
   ],
   "source": [
    "layer = [9,2,9]; len_layers = len(layer)\n",
    "in_layer = np.empty(len(layer), dtype=object)\n",
    "\n",
    "def fill_array_weight(layer, len_layers):\n",
    "    arr = np.empty(len_layers, dtype=object)\n",
    "\n",
    "    for i in range(len_layers//2 + 1):\n",
    "        arr[i] = np.full((layer[i],layer[i+1]),0.5)  # Create an array of zeros for each row, with length based on 'layer'\n",
    "    for i in range(len_layers//2 + 1, len_layers):\n",
    "        arr[i] = np.full((layer[i],layer[i-1]),0.5)\n",
    "    return arr\n",
    "\n",
    "def fill_array_bias(layer, len_layers):\n",
    "    arr = np.empty(len_layers, dtype=object)\n",
    "\n",
    "    for i in range(len_layers):\n",
    "        arr[i] = np.full((layer[i],1),0.5)  # Create an array of zeros for each row, with length based on 'layer'\n",
    "    return arr\n",
    "\n",
    "def fill_node(layer, len_layers):\n",
    "    arr = np.empty(len_layers, dtype=object)\n",
    "\n",
    "    for i in range(len_layers):\n",
    "        arr[i] = np.full((layer[i],1),0.5)  # Create an array of zeros for each row, with length based on 'layer'\n",
    "    return arr\n",
    "\n",
    "\n",
    "testing_weight = fill_array_weight(layer, len_layers)\n",
    "testing_bias = fill_array_bias(layer, len_layers)\n",
    "print(testing_weight)\n",
    "print(testing_bias)"
   ]
  },
  {
   "cell_type": "markdown",
   "metadata": {},
   "source": [
    "# Forward VAE"
   ]
  },
  {
   "cell_type": "code",
   "execution_count": 12,
   "metadata": {},
   "outputs": [
    {
     "ename": "NameError",
     "evalue": "name 'softplus' is not defined",
     "output_type": "error",
     "traceback": [
      "\u001b[1;31m---------------------------------------------------------------------------\u001b[0m",
      "\u001b[1;31mNameError\u001b[0m                                 Traceback (most recent call last)",
      "Cell \u001b[1;32mIn[12], line 8\u001b[0m\n\u001b[0;32m      6\u001b[0m nums \u001b[38;5;241m=\u001b[39m np\u001b[38;5;241m.\u001b[39marray([i\u001b[38;5;241m*\u001b[39m\u001b[38;5;241m*\u001b[39m\u001b[38;5;241m2\u001b[39m \u001b[38;5;28;01mfor\u001b[39;00m i \u001b[38;5;129;01min\u001b[39;00m \u001b[38;5;28mrange\u001b[39m(\u001b[38;5;241m1\u001b[39m,\u001b[38;5;241m11\u001b[39m)])\n\u001b[0;32m      7\u001b[0m eagle \u001b[38;5;241m=\u001b[39m np\u001b[38;5;241m.\u001b[39mzeros((\u001b[38;5;241m2\u001b[39m,\u001b[38;5;241m10\u001b[39m))\n\u001b[1;32m----> 8\u001b[0m eagle \u001b[38;5;241m=\u001b[39m \u001b[43mtesting\u001b[49m\u001b[43m(\u001b[49m\u001b[43mnums\u001b[49m\u001b[43m,\u001b[49m\u001b[43meagle\u001b[49m\u001b[43m)\u001b[49m\n\u001b[0;32m      9\u001b[0m \u001b[38;5;28mprint\u001b[39m(eagle)\n",
      "Cell \u001b[1;32mIn[12], line 3\u001b[0m, in \u001b[0;36mtesting\u001b[1;34m(kiwi, eagle)\u001b[0m\n\u001b[0;32m      1\u001b[0m \u001b[38;5;28;01mdef\u001b[39;00m \u001b[38;5;21mtesting\u001b[39m(kiwi, eagle):\n\u001b[0;32m      2\u001b[0m     eagle[\u001b[38;5;241m0\u001b[39m] \u001b[38;5;241m=\u001b[39m np\u001b[38;5;241m.\u001b[39msqrt(kiwi)\n\u001b[1;32m----> 3\u001b[0m     eagle[\u001b[38;5;241m1\u001b[39m] \u001b[38;5;241m=\u001b[39m \u001b[43msoftplus\u001b[49m(eagle[\u001b[38;5;241m0\u001b[39m])\n\u001b[0;32m      4\u001b[0m     \u001b[38;5;28;01mreturn\u001b[39;00m eagle\n",
      "\u001b[1;31mNameError\u001b[0m: name 'softplus' is not defined"
     ]
    }
   ],
   "source": [
    "def testing(kiwi, eagle):\n",
    "    eagle[0] = np.sqrt(kiwi)\n",
    "    eagle[1] = softplus(eagle[0])\n",
    "    return eagle\n",
    "\n",
    "nums = np.array([i**2 for i in range(1,11)])\n",
    "eagle = np.zeros((2,10))\n",
    "eagle = testing(nums,eagle)\n",
    "print(eagle)"
   ]
  },
  {
   "cell_type": "code",
   "execution_count": 28,
   "metadata": {},
   "outputs": [],
   "source": [
    "def forward(pixel, wLeft_mean, wLeft_var, bLeft_mean, bLeft_var, wRight, bRight, in_layer, len_layers, aLeft_mean, aLeft_var, zLeft_mean, zLeft_var, aRight, zRight):\n",
    "    in_layer[0] = pixel\n",
    "    for layer in range (len_layers//2):\n",
    "        # print(layer)\n",
    "        zLeft_mean[layer+1] = np.matmul(wLeft_mean[layer+1],in_layer[layer]) + bLeft_mean[layer+1]\n",
    "        zLeft_var[layer+1] = np.matmul(wLeft_var[layer+1],in_layer[layer]) + bLeft_var[layer+1]\n",
    "\n",
    "        aLeft_mean[layer+1] = zLeft_mean[layer+1]\n",
    "        aLeft_var[layer+1] = softplus(zLeft_var[layer+1])\n",
    "\n",
    "        eps = np.random.normal(size=zLeft_mean[layer+1].shape)\n",
    "        in_layer[layer+1] = aLeft_mean[layer+1] + np.sqrt(aLeft_var[layer+1]) * eps\n",
    "\n",
    "\n",
    "    for layer in range(len_layers//2, len_layers-1):\n",
    "        zRight[layer+1] = np.matmul(wRight[layer+1],in_layer[layer]) + bRight[layer+1]\n",
    "        aRight[layer+1] = sigmoid(zRight[layer+1])\n",
    "\n",
    "        in_layer[layer+1] = aRight[layer+1]\n"
   ]
  },
  {
   "cell_type": "code",
   "execution_count": 11,
   "metadata": {},
   "outputs": [
    {
     "ename": "NameError",
     "evalue": "name 'fill_node' is not defined",
     "output_type": "error",
     "traceback": [
      "\u001b[1;31m---------------------------------------------------------------------------\u001b[0m",
      "\u001b[1;31mNameError\u001b[0m                                 Traceback (most recent call last)",
      "Cell \u001b[1;32mIn[11], line 50\u001b[0m\n\u001b[0;32m     26\u001b[0m wRight \u001b[38;5;241m=\u001b[39m [[\u001b[38;5;241m0\u001b[39m \u001b[38;5;28;01mfor\u001b[39;00m i \u001b[38;5;129;01min\u001b[39;00m \u001b[38;5;28mrange\u001b[39m(layer[\u001b[38;5;241m0\u001b[39m])],\n\u001b[0;32m     27\u001b[0m           [\u001b[38;5;241m0\u001b[39m \u001b[38;5;28;01mfor\u001b[39;00m i \u001b[38;5;129;01min\u001b[39;00m \u001b[38;5;28mrange\u001b[39m(layer[\u001b[38;5;241m1\u001b[39m])],\n\u001b[0;32m     28\u001b[0m           [[\u001b[38;5;241m0.1393\u001b[39m, \u001b[38;5;241m0.2673\u001b[39m],\n\u001b[1;32m   (...)\u001b[0m\n\u001b[0;32m     35\u001b[0m            [\u001b[38;5;241m4.9814\u001b[39m, \u001b[38;5;241m-\u001b[39m\u001b[38;5;241m0.1098\u001b[39m],\n\u001b[0;32m     36\u001b[0m            [\u001b[38;5;241m0.1338\u001b[39m, \u001b[38;5;241m0.2538\u001b[39m]]]\n\u001b[0;32m     38\u001b[0m bRight      \u001b[38;5;241m=\u001b[39m [[\u001b[38;5;241m0\u001b[39m \u001b[38;5;28;01mfor\u001b[39;00m i \u001b[38;5;129;01min\u001b[39;00m \u001b[38;5;28mrange\u001b[39m(layer[\u001b[38;5;241m0\u001b[39m])],\n\u001b[0;32m     39\u001b[0m                [\u001b[38;5;241m0\u001b[39m \u001b[38;5;28;01mfor\u001b[39;00m i \u001b[38;5;129;01min\u001b[39;00m \u001b[38;5;28mrange\u001b[39m(layer[\u001b[38;5;241m1\u001b[39m])],\n\u001b[0;32m     40\u001b[0m                [[\u001b[38;5;241m4.9357\u001b[39m],\n\u001b[1;32m   (...)\u001b[0m\n\u001b[0;32m     47\u001b[0m                 [\u001b[38;5;241m-\u001b[39m\u001b[38;5;241m0.2050\u001b[39m],\n\u001b[0;32m     48\u001b[0m                 [\u001b[38;5;241m4.9264\u001b[39m]]]\n\u001b[1;32m---> 50\u001b[0m aLeft_mean  \u001b[38;5;241m=\u001b[39m \u001b[43mfill_node\u001b[49m(layer, len_layers)\n\u001b[0;32m     51\u001b[0m aLeft_var   \u001b[38;5;241m=\u001b[39m fill_node(layer, len_layers)\n\u001b[0;32m     52\u001b[0m zLeft_mean  \u001b[38;5;241m=\u001b[39m fill_node(layer, len_layers)\n",
      "\u001b[1;31mNameError\u001b[0m: name 'fill_node' is not defined"
     ]
    }
   ],
   "source": [
    "# Testing using x data\n",
    "\n",
    "layer = [9,2,9]; len_layers = len(layer)\n",
    "in_layer = np.empty(len(layer), dtype=object)\n",
    "# Populate the 'in_layer' with arrays of varying lengths\n",
    "for i, size in enumerate(layer):\n",
    "    in_layer[i] = np.zeros(size)  # Create an array of zeros for each row, with length based on 'layer'\n",
    "\n",
    "image = np.array([[1, 1, 1], [1, 0, 1], [1, 1, 1]])\n",
    "pixel = image.reshape(9,1)\n",
    "\n",
    "wLeft_mean  = [[0 for i in range(layer[0])],\n",
    "               [[0.0151, -0.0046, -0.0178, 0.0006, -0.0177, 0.0122, -0.3224, 2.0527, 0.2468],\n",
    "                [-0.0042, 0.0363, -0.0033, 0.0364, -0.0387, 0.0360, 0.3951, -0.1630, 0.5387]]]\n",
    "bLeft_mean  = [[0 for i in range(layer[1])],\n",
    "               [[-0.8641],\n",
    "                [-0.8743]]]\n",
    "\n",
    "wLeft_var   = [[0 for i in range(layer[0])],\n",
    "               [[0.0567, -0.0224, -0.0221, 0.0101, 0.0237, -0.0150, -0.0886, -0.0722, -0.3455],\n",
    "                [0.0436, -0.0386, 0.0429, -0.0360, 0.0827, -0.0475, 0.8645, 0.1661, 0.1577]]]\n",
    "bLeft_var   = [[0 for i in range(layer[1])],\n",
    "               [[-0.9129],\n",
    "                [-0.6264]]]\n",
    "\n",
    "wRight = [[0 for i in range(layer[0])],\n",
    "          [0 for i in range(layer[1])],\n",
    "          [[0.1393, 0.2673],\n",
    "           [4.9796, -0.1095],\n",
    "           [0.1383, 0.2631],\n",
    "           [4.9718, -0.1096],\n",
    "           [-4.9381,0.1126],\n",
    "           [4.9775, -0.1089],\n",
    "           [0.1435, 0.2764],\n",
    "           [4.9814, -0.1098],\n",
    "           [0.1338, 0.2538]]]\n",
    "\n",
    "bRight      = [[0 for i in range(layer[0])],\n",
    "               [0 for i in range(layer[1])],\n",
    "               [[4.9357],\n",
    "                [-0.2049],\n",
    "                [4.9334],\n",
    "                [-0.2035],\n",
    "                [0.1958],\n",
    "                [-0.2049],\n",
    "                [4.9430],\n",
    "                [-0.2050],\n",
    "                [4.9264]]]\n",
    "\n",
    "aLeft_mean  = fill_node(layer, len_layers)\n",
    "aLeft_var   = fill_node(layer, len_layers)\n",
    "zLeft_mean  = fill_node(layer, len_layers)\n",
    "zLeft_var   = fill_node(layer, len_layers)\n",
    "aRight      = fill_node(layer, len_layers)\n",
    "zRight      = fill_node(layer, len_layers)\n",
    "\n",
    "\n",
    "forward(pixel, wLeft_mean, wLeft_var, bLeft_mean, bLeft_var, wRight, bRight, in_layer, len_layers, aLeft_mean, aLeft_var, zLeft_mean, zLeft_var, aRight, zRight)\n",
    "print(zRight)"
   ]
  },
  {
   "cell_type": "code",
   "execution_count": 17,
   "metadata": {},
   "outputs": [],
   "source": [
    "\n",
    "def backward(pixel, wLeft_mean, wLeft_var, bLeft_mean, bLeft_var, wRight, bRight, in_layer, len_layers, aLeft_mean, aLeft_var, zLeft_mean, zLeft_var, aRight, zRight, gradients, loss):\n",
    "    dLoss = loss  # Assume loss is a gradient of the final layer output wrt loss\n",
    "\n",
    "    # Backpropagation for the decoder (Right side)\n",
    "    for layer in reversed(range(len_layers // 2, len_layers - 1)):\n",
    "        dz = dLoss * (aRight[layer + 1] * (1 - aRight[layer + 1]))  # Derivative of sigmoid\n",
    "        gradients['wRight'][layer + 1 - len_layers // 2] = np.matmul(dz, in_layer[layer].T)\n",
    "        gradients['bRight'][layer + 1 - len_layers // 2] = dz\n",
    "        dLoss = np.matmul(wRight[layer + 1 - len_layers // 2].T, dz)\n",
    "\n",
    "    # Backpropagation for the encoder (Left side)\n",
    "    for layer in reversed(range(len_layers // 2)):\n",
    "        dz_mean = dLoss\n",
    "        dz_var = dLoss * diff_softplus(zLeft_var[layer + 1])\n",
    "\n",
    "        gradients['wLeft_mean'][layer + 1] = np.matmul(dz_mean, in_layer[layer].T)\n",
    "        gradients['bLeft_mean'][layer + 1] = dz_mean\n",
    "\n",
    "        gradients['wLeft_var'][layer + 1] = np.matmul(dz_var, in_layer[layer].T)\n",
    "        gradients['bLeft_var'][layer + 1] = dz_var\n",
    "\n",
    "        dLoss = np.matmul(wLeft_mean[layer + 1].T, dz_mean) + np.matmul(wLeft_var[layer + 1].T, dz_var)\n",
    "\n",
    "# Example initialization of gradients dictionary\n",
    "def initialize_gradients(len_layers, layer):\n",
    "    gradients = {\n",
    "        'wLeft_mean': [np.zeros((layer[i + 1], layer[i])) if i + 1 < len_layers // 2 else None for i in range(len_layers - 1)],\n",
    "        'bLeft_mean': [np.zeros((layer[i + 1], 1)) if i + 1 < len_layers // 2 else None for i in range(len_layers - 1)],\n",
    "        'wLeft_var': [np.zeros((layer[i + 1], layer[i])) if i + 1 < len_layers // 2 else None for i in range(len_layers - 1)],\n",
    "        'bLeft_var': [np.zeros((layer[i + 1], 1)) if i + 1 < len_layers // 2 else None for i in range(len_layers - 1)],\n",
    "        'wRight': [np.zeros((layer[i], layer[i - 1])) if i >= len_layers // 2 else None for i in range(len_layers - 1)],\n",
    "        'bRight': [np.zeros((layer[i], 1)) if i >= len_layers // 2 else None for i in range(len_layers - 1)],\n",
    "    }\n",
    "    return gradients\n",
    "\n"
   ]
  },
  {
   "cell_type": "code",
   "execution_count": 29,
   "metadata": {},
   "outputs": [
    {
     "ename": "IndexError",
     "evalue": "list index out of range",
     "output_type": "error",
     "traceback": [
      "\u001b[1;31m---------------------------------------------------------------------------\u001b[0m",
      "\u001b[1;31mIndexError\u001b[0m                                Traceback (most recent call last)",
      "Cell \u001b[1;32mIn[29], line 35\u001b[0m\n\u001b[0;32m     32\u001b[0m gradients \u001b[38;5;241m=\u001b[39m initialize_gradients(len_layers, layer)\n\u001b[0;32m     34\u001b[0m \u001b[38;5;66;03m# Forward pass\u001b[39;00m\n\u001b[1;32m---> 35\u001b[0m \u001b[43mforward\u001b[49m\u001b[43m(\u001b[49m\u001b[43mpixel\u001b[49m\u001b[43m,\u001b[49m\u001b[43m \u001b[49m\u001b[43mwLeft_mean\u001b[49m\u001b[43m,\u001b[49m\u001b[43m \u001b[49m\u001b[43mwLeft_var\u001b[49m\u001b[43m,\u001b[49m\u001b[43m \u001b[49m\u001b[43mbLeft_mean\u001b[49m\u001b[43m,\u001b[49m\u001b[43m \u001b[49m\u001b[43mbLeft_var\u001b[49m\u001b[43m,\u001b[49m\u001b[43m \u001b[49m\u001b[43mwRight\u001b[49m\u001b[43m,\u001b[49m\u001b[43m \u001b[49m\u001b[43mbRight\u001b[49m\u001b[43m,\u001b[49m\u001b[43m \u001b[49m\u001b[43min_layer\u001b[49m\u001b[43m,\u001b[49m\u001b[43m \u001b[49m\u001b[43mlen_layers\u001b[49m\u001b[43m,\u001b[49m\u001b[43m \u001b[49m\u001b[43maLeft_mean\u001b[49m\u001b[43m,\u001b[49m\u001b[43m \u001b[49m\u001b[43maLeft_var\u001b[49m\u001b[43m,\u001b[49m\u001b[43m \u001b[49m\u001b[43mzLeft_mean\u001b[49m\u001b[43m,\u001b[49m\u001b[43m \u001b[49m\u001b[43mzLeft_var\u001b[49m\u001b[43m,\u001b[49m\u001b[43m \u001b[49m\u001b[43maRight\u001b[49m\u001b[43m,\u001b[49m\u001b[43m \u001b[49m\u001b[43mzRight\u001b[49m\u001b[43m)\u001b[49m\n\u001b[0;32m     37\u001b[0m \u001b[38;5;66;03m# Simulated loss gradient from output layer\u001b[39;00m\n\u001b[0;32m     38\u001b[0m loss_gradient \u001b[38;5;241m=\u001b[39m np\u001b[38;5;241m.\u001b[39mrandom\u001b[38;5;241m.\u001b[39mnormal(size\u001b[38;5;241m=\u001b[39maRight[\u001b[38;5;241m-\u001b[39m\u001b[38;5;241m1\u001b[39m]\u001b[38;5;241m.\u001b[39mshape)\n",
      "Cell \u001b[1;32mIn[28], line 16\u001b[0m, in \u001b[0;36mforward\u001b[1;34m(pixel, wLeft_mean, wLeft_var, bLeft_mean, bLeft_var, wRight, bRight, in_layer, len_layers, aLeft_mean, aLeft_var, zLeft_mean, zLeft_var, aRight, zRight)\u001b[0m\n\u001b[0;32m     12\u001b[0m     in_layer[layer\u001b[38;5;241m+\u001b[39m\u001b[38;5;241m1\u001b[39m] \u001b[38;5;241m=\u001b[39m aLeft_mean[layer\u001b[38;5;241m+\u001b[39m\u001b[38;5;241m1\u001b[39m] \u001b[38;5;241m+\u001b[39m np\u001b[38;5;241m.\u001b[39msqrt(aLeft_var[layer\u001b[38;5;241m+\u001b[39m\u001b[38;5;241m1\u001b[39m]) \u001b[38;5;241m*\u001b[39m eps\n\u001b[0;32m     15\u001b[0m \u001b[38;5;28;01mfor\u001b[39;00m layer \u001b[38;5;129;01min\u001b[39;00m \u001b[38;5;28mrange\u001b[39m(len_layers\u001b[38;5;241m/\u001b[39m\u001b[38;5;241m/\u001b[39m\u001b[38;5;241m2\u001b[39m, len_layers\u001b[38;5;241m-\u001b[39m\u001b[38;5;241m1\u001b[39m):\n\u001b[1;32m---> 16\u001b[0m     zRight[layer\u001b[38;5;241m+\u001b[39m\u001b[38;5;241m1\u001b[39m] \u001b[38;5;241m=\u001b[39m np\u001b[38;5;241m.\u001b[39mmatmul(\u001b[43mwRight\u001b[49m\u001b[43m[\u001b[49m\u001b[43mlayer\u001b[49m\u001b[38;5;241;43m+\u001b[39;49m\u001b[38;5;241;43m1\u001b[39;49m\u001b[43m]\u001b[49m,in_layer[layer]) \u001b[38;5;241m+\u001b[39m bRight[layer\u001b[38;5;241m+\u001b[39m\u001b[38;5;241m1\u001b[39m]\n\u001b[0;32m     17\u001b[0m     aRight[layer\u001b[38;5;241m+\u001b[39m\u001b[38;5;241m1\u001b[39m] \u001b[38;5;241m=\u001b[39m sigmoid(zRight[layer\u001b[38;5;241m+\u001b[39m\u001b[38;5;241m1\u001b[39m])\n\u001b[0;32m     19\u001b[0m     in_layer[layer\u001b[38;5;241m+\u001b[39m\u001b[38;5;241m1\u001b[39m] \u001b[38;5;241m=\u001b[39m aRight[layer\u001b[38;5;241m+\u001b[39m\u001b[38;5;241m1\u001b[39m]\n",
      "\u001b[1;31mIndexError\u001b[0m: list index out of range"
     ]
    }
   ],
   "source": [
    "# Test case setup\n",
    "layer = [9, 2, 9]\n",
    "len_layers = len(layer)\n",
    "in_layer = np.empty(len_layers, dtype=object)\n",
    "\n",
    "# Initialize weights and biases\n",
    "def init_test_params(layer, len_layers):\n",
    "    wLeft_mean = [None] + [np.random.normal(size=(layer[i + 1], layer[i])) for i in range(len_layers // 2)]\n",
    "    wLeft_var = [None] + [np.random.normal(size=(layer[i + 1], layer[i])) for i in range(len_layers // 2)]\n",
    "    bLeft_mean = [None] + [np.random.normal(size=(layer[i + 1], 1)) for i in range(len_layers // 2)]\n",
    "    bLeft_var = [None] + [np.random.normal(size=(layer[i + 1], 1)) for i in range(len_layers // 2)]\n",
    "\n",
    "    wRight = [np.random.normal(size=(layer[i + 1], layer[i])) if i >= len_layers // 2 else None for i in range(len_layers - 1)]\n",
    "    bRight = [np.random.normal(size=(layer[i + 1], 1)) if i >= len_layers // 2 else None for i in range(len_layers - 1)]\n",
    "\n",
    "    return wLeft_mean, wLeft_var, bLeft_mean, bLeft_var, wRight, bRight\n",
    "\n",
    "wLeft_mean, wLeft_var, bLeft_mean, bLeft_var, wRight, bRight = init_test_params(layer, len_layers)\n",
    "\n",
    "aLeft_mean = [np.zeros((size, 1)) for size in layer]\n",
    "aLeft_var = [np.zeros((size, 1)) for size in layer]\n",
    "zLeft_mean = [np.zeros((size, 1)) for size in layer]\n",
    "zLeft_var = [np.zeros((size, 1)) for size in layer]\n",
    "aRight = [np.zeros((size, 1)) for size in layer]\n",
    "zRight = [np.zeros((size, 1)) for size in layer]\n",
    "\n",
    "# Create test input\n",
    "image = np.array([[1, 1, 1], [1, 0, 1], [1, 1, 1]])\n",
    "pixel = image.reshape(9, 1)\n",
    "\n",
    "# Initialize gradients\n",
    "gradients = initialize_gradients(len_layers, layer)\n",
    "\n",
    "# Forward pass\n",
    "forward(pixel, wLeft_mean, wLeft_var, bLeft_mean, bLeft_var, wRight, bRight, in_layer, len_layers, aLeft_mean, aLeft_var, zLeft_mean, zLeft_var, aRight, zRight)\n",
    "\n",
    "# Simulated loss gradient from output layer\n",
    "loss_gradient = np.random.normal(size=aRight[-1].shape)\n",
    "\n",
    "# Backward pass\n",
    "backward(pixel, wLeft_mean, wLeft_var, bLeft_mean, bLeft_var, wRight, bRight, in_layer, len_layers, aLeft_mean, aLeft_var, zLeft_mean, zLeft_var, aRight, zRight, gradients, loss_gradient)\n",
    "\n",
    "# Print results\n",
    "print(\"Forward Pass Output:\")\n",
    "print(aRight[-1])\n",
    "print(\"\\nGradient Results:\")\n",
    "print(gradients)"
   ]
  },
  {
   "cell_type": "code",
   "execution_count": null,
   "metadata": {},
   "outputs": [],
   "source": []
  }
 ],
 "metadata": {
  "kernelspec": {
   "display_name": "Python 3",
   "language": "python",
   "name": "python3"
  },
  "language_info": {
   "codemirror_mode": {
    "name": "ipython",
    "version": 3
   },
   "file_extension": ".py",
   "mimetype": "text/x-python",
   "name": "python",
   "nbconvert_exporter": "python",
   "pygments_lexer": "ipython3",
   "version": "3.11.0"
  }
 },
 "nbformat": 4,
 "nbformat_minor": 2
}
