{
 "cells": [
  {
   "cell_type": "code",
   "execution_count": 1,
   "id": "582e662e",
   "metadata": {},
   "outputs": [
    {
     "data": {
      "application/javascript": [
       "\n",
       "try {\n",
       "require(['notebook/js/codecell'], function(codecell) {\n",
       "  codecell.CodeCell.options_default.highlight_modes[\n",
       "      'magic_text/x-csrc'] = {'reg':[/^%%microblaze/]};\n",
       "  Jupyter.notebook.events.one('kernel_ready.Kernel', function(){\n",
       "      Jupyter.notebook.get_cells().map(function(cell){\n",
       "          if (cell.cell_type == 'code'){ cell.auto_highlight(); } }) ;\n",
       "  });\n",
       "});\n",
       "} catch (e) {};\n"
      ]
     },
     "metadata": {},
     "output_type": "display_data"
    },
    {
     "data": {
      "application/javascript": [
       "\n",
       "try {\n",
       "require(['notebook/js/codecell'], function(codecell) {\n",
       "  codecell.CodeCell.options_default.highlight_modes[\n",
       "      'magic_text/x-csrc'] = {'reg':[/^%%pybind11/]};\n",
       "  Jupyter.notebook.events.one('kernel_ready.Kernel', function(){\n",
       "      Jupyter.notebook.get_cells().map(function(cell){\n",
       "          if (cell.cell_type == 'code'){ cell.auto_highlight(); } }) ;\n",
       "  });\n",
       "});\n",
       "} catch (e) {};\n"
      ]
     },
     "metadata": {},
     "output_type": "display_data"
    }
   ],
   "source": [
    "from pynq import Overlay\n",
    "from pynq import allocate\n",
    "import numpy as np\n",
    "\n",
    "# Program bitstream to FPGA\n",
    "overlay = Overlay('/home/xilinx/simple_forward_vae.bit')"
   ]
  },
  {
   "cell_type": "code",
   "execution_count": 2,
   "id": "76b59c69",
   "metadata": {},
   "outputs": [],
   "source": [
    "# Access to AXI DMA\n",
    "dma = overlay.axi_dma_0\n",
    "dma_send = overlay.axi_dma_0.sendchannel\n",
    "dma_recv = overlay.axi_dma_0.recvchannel"
   ]
  },
  {
   "cell_type": "code",
   "execution_count": 3,
   "id": "8f4fa353",
   "metadata": {},
   "outputs": [],
   "source": [
    "# Allocate physical memory for AXI DMA MM2S\n",
    "in_length = 40\n",
    "input_buffer = allocate(shape=(in_length,), dtype=np.uint32)"
   ]
  },
  {
   "cell_type": "code",
   "execution_count": 4,
   "id": "f8df696b",
   "metadata": {},
   "outputs": [],
   "source": [
    "# Input\n",
    "# in1 - in4\n",
    "input_buffer[0] = 0x00000100\n",
    "input_buffer[1] = 0x00000100\n",
    "\n",
    "# in5 - in8\n",
    "input_buffer[2] = 0x00000100\n",
    "input_buffer[3] = 0x00000100\n",
    "\n",
    "# in9 and wc11\n",
    "input_buffer[4] = 0x00040100\n",
    "\n",
    "# wc12 - wc15\n",
    "input_buffer[5] = 0xfffbffff\n",
    "input_buffer[6] = 0xfffb0000\n",
    "\n",
    "# wc16 - wc19\n",
    "input_buffer[7] = 0xffad0003\n",
    "input_buffer[8] = 0x003f020d\n",
    "\n",
    "# wd11 - wd14\n",
    "input_buffer[9] = 0xfffa000f\n",
    "input_buffer[10] = 0x0003fffa\n",
    "\n",
    "# wd15 - wd18\n",
    "input_buffer[11] = 0xfffc0006\n",
    "input_buffer[12] = 0xffeeffe9\n",
    "\n",
    "# wd19 and wc21\n",
    "input_buffer[13] = 0xffffffa8\n",
    "\n",
    "# wc22 - wc25\n",
    "input_buffer[14] = 0xffff0009\n",
    "input_buffer[15] = 0xfff60009\n",
    "\n",
    "# wc26 - wc29\n",
    "input_buffer[16] = 0x00650009\n",
    "input_buffer[17] = 0x008affd6\n",
    "\n",
    "# wd21 - wd24\n",
    "input_buffer[18] = 0xfff6000b\n",
    "input_buffer[19] = 0xfff7000b\n",
    "\n",
    "# wd25 - wd28\n",
    "input_buffer[20] = 0xfff40015\n",
    "input_buffer[21] = 0x002b00dd\n",
    "\n",
    "# wd29 and b21\n",
    "input_buffer[22] = 0xff230028\n",
    "\n",
    "# b22 and b23\n",
    "input_buffer[23] = 0xff20ff16\n",
    "\n",
    "# b24 and w11\n",
    "input_buffer[24] = 0x0024ff60\n",
    "\n",
    "# w12 and w21\n",
    "input_buffer[25] = 0x04fb0044\n",
    "\n",
    "# w22 and w31\n",
    "input_buffer[26] = 0x0023ffe4\n",
    "\n",
    "# w32 and w41\n",
    "input_buffer[27] = 0x04f90043\n",
    "\n",
    "# w42 and w51\n",
    "input_buffer[28] = 0xfb10ffe4\n",
    "\n",
    "# w52 and w61\n",
    "input_buffer[29] = 0x04fa001d\n",
    "\n",
    "# w62 and w71\n",
    "input_buffer[30] = 0x0025ffe4\n",
    "\n",
    "# w72 and w81\n",
    "input_buffer[31] = 0x04fb0047\n",
    "\n",
    "# w82 and w91\n",
    "input_buffer[32] = 0x0022ffe4\n",
    "\n",
    "# w92 and b31\n",
    "input_buffer[33] = 0x04f00041\n",
    "\n",
    "# b32 - b35\n",
    "input_buffer[34] = 0x04efffcc\n",
    "input_buffer[35] = 0x0032ffcc\n",
    "\n",
    "# b36 - b39\n",
    "input_buffer[36] = 0x04f1ffcc\n",
    "input_buffer[37] = 0x04edffcc \n",
    " "
   ]
  },
  {
   "cell_type": "code",
   "execution_count": 5,
   "id": "050d8480",
   "metadata": {},
   "outputs": [
    {
     "name": "stdout",
     "output_type": "stream",
     "text": [
      "0x00000100\n",
      "0x00000100\n",
      "0x00000100\n",
      "0x00000100\n",
      "0x00040100\n",
      "0xFFFBFFFF\n",
      "0xFFFB0000\n",
      "0xFFAD0003\n",
      "0x003F020D\n",
      "0xFFFA000F\n",
      "0x0003FFFA\n",
      "0xFFFC0006\n",
      "0xFFEEFFE9\n",
      "0xFFFFFFA8\n",
      "0xFFFF0009\n",
      "0xFFF60009\n",
      "0x00650009\n",
      "0x008AFFD6\n",
      "0xFFF6000B\n",
      "0xFFF7000B\n",
      "0xFFF40015\n",
      "0x002B00DD\n",
      "0xFF230028\n",
      "0xFF20FF16\n",
      "0x0024FF60\n",
      "0x04FB0044\n",
      "0x0023FFE4\n",
      "0x04F90043\n",
      "0xFB10FFE4\n",
      "0x04FA001D\n",
      "0x0025FFE4\n",
      "0x04FB0047\n",
      "0x0022FFE4\n",
      "0x04F00041\n",
      "0x04EFFFCC\n",
      "0x0032FFCC\n",
      "0x04F1FFCC\n",
      "0x04EDFFCC\n",
      "0x00000000\n",
      "0x00000000\n"
     ]
    }
   ],
   "source": [
    "# Check the written data\n",
    "for i in range(in_length):\n",
    "    print(\"0x%08X\" % (input_buffer[i]))"
   ]
  },
  {
   "cell_type": "code",
   "execution_count": 6,
   "id": "a5d1c893",
   "metadata": {},
   "outputs": [],
   "source": [
    "# Do AXI DMA MM2S transfer\n",
    "dma_send.transfer(input_buffer)"
   ]
  },
  {
   "cell_type": "code",
   "execution_count": 7,
   "id": "48a34862",
   "metadata": {},
   "outputs": [],
   "source": [
    "# Allocate physical memory for AXI DMA S2MM\n",
    "out_length = 10\n",
    "output_buffer = allocate(shape=(out_length,), dtype=np.uint32)"
   ]
  },
  {
   "cell_type": "code",
   "execution_count": 8,
   "id": "a12038f5",
   "metadata": {},
   "outputs": [
    {
     "name": "stdout",
     "output_type": "stream",
     "text": [
      "0x00000000\n",
      "0x00000000\n",
      "0x00000000\n",
      "0x00000000\n",
      "0x00000000\n",
      "0x00000000\n",
      "0x00000000\n",
      "0x00000000\n",
      "0x00000000\n",
      "0x00000000\n"
     ]
    }
   ],
   "source": [
    "# Check the memory content\n",
    "for i in range(out_length):\n",
    "    print(\"0x%08X\" % (output_buffer[i]))"
   ]
  },
  {
   "cell_type": "code",
   "execution_count": 9,
   "id": "2d5d8115",
   "metadata": {},
   "outputs": [],
   "source": [
    "# Do AXI DMA S2MM transfer\n",
    "dma_recv.transfer(output_buffer)"
   ]
  },
  {
   "cell_type": "code",
   "execution_count": 10,
   "id": "8c3820c0",
   "metadata": {},
   "outputs": [
    {
     "name": "stdout",
     "output_type": "stream",
     "text": [
      "0x00000000\n",
      "0x00000000\n",
      "0x00800080\n",
      "0x00800080\n",
      "0x00800080\n",
      "0x00800080\n",
      "0x00000000\n",
      "0x00FE0000\n",
      "0x00000000\n",
      "0x00000000\n"
     ]
    }
   ],
   "source": [
    "# Check the memory content after DMA transfer\n",
    "for i in range(out_length):\n",
    "    print(\"0x%08X\" % (output_buffer[i]))"
   ]
  },
  {
   "cell_type": "code",
   "execution_count": 11,
   "id": "e9fc63ab",
   "metadata": {},
   "outputs": [
    {
     "data": {
      "text/plain": [
       "array([[0.5      , 0.5      , 0.5      ],\n",
       "       [0.5      , 0.5      , 0.5      ],\n",
       "       [0.5      , 0.5      , 0.9921875]])"
      ]
     },
     "execution_count": 11,
     "metadata": {},
     "output_type": "execute_result"
    }
   ],
   "source": [
    "out = np.zeros(shape=(3, 3))\n",
    "# out\n",
    "\n",
    "out[0][0] = ((output_buffer[3] & 0xFFFF0000) >> 16) / 256.0\n",
    "out[0][1] = (output_buffer[3] & 0x0000FFFF) / 256.0\n",
    "out[0][2] = ((output_buffer[2] & 0xFFFF0000) >> 16) / 256.0\n",
    "out[1][0] = (output_buffer[2] & 0x0000FFFF) / 256.0\n",
    "out[1][1] = ((output_buffer[5] & 0xFFFF0000) >> 16) / 256.0\n",
    "out[1][2] = (output_buffer[5] & 0x0000FFFF) / 256.0\n",
    "out[2][0] = ((output_buffer[4] & 0xFFFF0000) >> 16) / 256.0\n",
    "out[2][1] = (output_buffer[4] & 0x0000FFFF) / 256.0\n",
    "out[2][2] = ((output_buffer[7] & 0xFFFF0000) >> 16) / 256.0\n",
    "\n",
    "out"
   ]
  },
  {
   "cell_type": "code",
   "execution_count": 12,
   "id": "ab4fd7d5",
   "metadata": {},
   "outputs": [
    {
     "data": {
      "text/plain": [
       "array([[0., 0., 0.],\n",
       "       [0., 0., 0.],\n",
       "       [0., 0., 1.]])"
      ]
     },
     "execution_count": 12,
     "metadata": {},
     "output_type": "execute_result"
    }
   ],
   "source": [
    "np.round(out)"
   ]
  },
  {
   "cell_type": "code",
   "execution_count": 20,
   "id": "9677bc93",
   "metadata": {},
   "outputs": [],
   "source": [
    "functional_val = np.zeros(shape=(10,), dtype=np.uint32)\n",
    "\n",
    "functional_val[2] = 0x00fd0007\n",
    "functional_val[3] = 0x00fd0007\n",
    "functional_val[4] = 0x00fe0003\n",
    "functional_val[5] = 0x00fc0003\n",
    "functional_val[6] = 0x00000000\n",
    "functional_val[7] = 0x00fe0000"
   ]
  },
  {
   "cell_type": "code",
   "execution_count": 21,
   "id": "8be6cade",
   "metadata": {},
   "outputs": [
    {
     "data": {
      "text/plain": [
       "array([[0.98828125, 0.02734375, 0.98828125],\n",
       "       [0.02734375, 0.984375  , 0.01171875],\n",
       "       [0.9921875 , 0.01171875, 0.9921875 ]])"
      ]
     },
     "execution_count": 21,
     "metadata": {},
     "output_type": "execute_result"
    }
   ],
   "source": [
    "func_out = np.zeros(shape=(3, 3))\n",
    "# func_out\n",
    "\n",
    "func_out[0][0] = ((functional_val[3] & 0xFFFF0000) >> 16) / 256.0\n",
    "func_out[0][1] = (functional_val[3] & 0x0000FFFF) / 256.0\n",
    "func_out[0][2] = ((functional_val[2] & 0xFFFF0000) >> 16) / 256.0\n",
    "func_out[1][0] = (functional_val[2] & 0x0000FFFF) / 256.0\n",
    "func_out[1][1] = ((functional_val[5] & 0xFFFF0000) >> 16) / 256.0\n",
    "func_out[1][2] = (functional_val[5] & 0x0000FFFF) / 256.0\n",
    "func_out[2][0] = ((functional_val[4] & 0xFFFF0000) >> 16) / 256.0\n",
    "func_out[2][1] = (functional_val[4] & 0x0000FFFF) / 256.0\n",
    "func_out[2][2] = ((functional_val[7] & 0xFFFF0000) >> 16) / 256.0\n",
    "\n",
    "func_out"
   ]
  },
  {
   "cell_type": "code",
   "execution_count": 22,
   "id": "00bca671",
   "metadata": {},
   "outputs": [
    {
     "data": {
      "text/plain": [
       "array([[1., 0., 1.],\n",
       "       [0., 1., 0.],\n",
       "       [1., 0., 1.]])"
      ]
     },
     "execution_count": 22,
     "metadata": {},
     "output_type": "execute_result"
    }
   ],
   "source": [
    "np.round(func_out)"
   ]
  },
  {
   "cell_type": "code",
   "execution_count": 13,
   "id": "150c753a",
   "metadata": {},
   "outputs": [],
   "source": [
    "# Delete buffer to prevent memory leak\n",
    "del input_buffer, output_buffer"
   ]
  }
 ],
 "metadata": {
  "kernelspec": {
   "display_name": "Python 3 (ipykernel)",
   "language": "python",
   "name": "python3"
  },
  "language_info": {
   "codemirror_mode": {
    "name": "ipython",
    "version": 3
   },
   "file_extension": ".py",
   "mimetype": "text/x-python",
   "name": "python",
   "nbconvert_exporter": "python",
   "pygments_lexer": "ipython3",
   "version": "3.10.4"
  }
 },
 "nbformat": 4,
 "nbformat_minor": 5
}
